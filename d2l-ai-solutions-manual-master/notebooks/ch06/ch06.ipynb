{
  "cells": [
    {
      "cell_type": "markdown",
      "metadata": {
        "collapsed": true,
        "id": "huFZurQ5H6Ge"
      },
      "source": [
        "# 第6章 卷积神经网络"
      ]
    },
    {
      "cell_type": "markdown",
      "metadata": {
        "id": "cdtYxLrmH6Gf"
      },
      "source": [
        "## 6.1 从全连接层到卷积"
      ]
    },
    {
      "cell_type": "markdown",
      "metadata": {
        "id": "fHXEMzORH6Gg"
      },
      "source": [
        "### 练习 6.1.1\n",
        "\n",
        "假设卷积层(6.3)覆盖的局部区域$\\Delta = 0$。在这种情况下，证明卷积内核为每组通道独立地实现一个全连接层。"
      ]
    },
    {
      "cell_type": "markdown",
      "metadata": {
        "id": "QJmj0EV6H6Gg"
      },
      "source": [
        "**解答：** "
      ]
    },
    {
      "cell_type": "markdown",
      "metadata": {
        "id": "xPSRZGQ_H6Gg"
      },
      "source": [
        "&emsp;&emsp;局部区域$\\Delta=0$ 表示卷积核的大小等于输入的大小。实际就是问，1×1的卷积核是否等价于全连接（参见本书7.3节：NiN网络结构）。因此，每个卷积核只能覆盖一个像素点，在这种情况下，卷积层的计算方式与全连接层非常相似。因为每个卷积核只能看到一个通道的信息，相当于每个卷积核只是一个全连接层的权重矩阵。 所以，卷积内核可以看作是每组通道独立地实现一个全连接层。每个卷积核都有自己的权重，每个输入通道都被独立处理，输出通道是各个输入通道的加权和。这种独立处理的方式有效地减少了权重的数量，从而降低了计算成本，并且能够提取出输入数据中的空间特征。"
      ]
    },
    {
      "cell_type": "code",
      "execution_count": null,
      "metadata": {
        "id": "KDK67aUiH6Gg",
        "outputId": "7a6b52e0-493d-421f-ad12-6258356a3399"
      },
      "outputs": [
        {
          "name": "stdout",
          "output_type": "stream",
          "text": [
            "tensor([[0.1190, 0.2377, 0.1443, 0.1020, 0.0702],\n",
            "        [0.1301, 0.2734, 0.1215, 0.0839, 0.1271]], grad_fn=<AddmmBackward0>)\n",
            "tensor([[0.1190, 0.2377, 0.1443, 0.1020, 0.0702],\n",
            "        [0.1301, 0.2734, 0.1215, 0.0839, 0.1271]],\n",
            "       grad_fn=<ReshapeAliasBackward0>)\n"
          ]
        }
      ],
      "source": [
        "# 代码验证\n",
        "import torch\n",
        "import torch.nn as nn\n",
        "\n",
        "\n",
        "class MyNet1(nn.Module):\n",
        "    def __init__(self, linear1, linear2):\n",
        "        super(MyNet1, self).__init__()\n",
        "        self.linear1 = linear1\n",
        "        self.linear2 = linear2\n",
        "\n",
        "    def forward(self, X):\n",
        "        return self.linear2(self.linear1(nn.Flatten()(X)))\n",
        "\n",
        "\n",
        "class MyNet2(nn.Module):\n",
        "    def __init__(self, linear, conv2d):\n",
        "        super(MyNet2, self).__init__()\n",
        "        self.linear = linear\n",
        "        self.conv2d = conv2d\n",
        "\n",
        "    def forward(self, X):\n",
        "        X = self.linear(nn.Flatten()(X))\n",
        "        X = X.reshape(X.shape[0], -1, 1, 1)\n",
        "        X = nn.Flatten()(self.conv2d(X))\n",
        "        return X\n",
        "\n",
        "\n",
        "linear1 = nn.Linear(15, 10)\n",
        "linear2 = nn.Linear(10, 5)\n",
        "conv2d = nn.Conv2d(10, 5, 1)\n",
        "\n",
        "linear2.weight = nn.Parameter(conv2d.weight.reshape(linear2.weight.shape))\n",
        "linear2.bias = nn.Parameter(conv2d.bias)\n",
        "\n",
        "net1 = MyNet1(linear1, linear2)\n",
        "net2 = MyNet2(linear1, conv2d)\n",
        "\n",
        "X = torch.randn(2, 3, 5)\n",
        "# 两个结果实际存在一定的误差，直接print(net1(X) == net2(X))得到的结果不全是True\n",
        "print(net1(X))\n",
        "print(net2(X))"
      ]
    },
    {
      "cell_type": "markdown",
      "metadata": {
        "id": "BX-MU4UWH6Gi"
      },
      "source": [
        "### 练习 6.1.2\n",
        "\n",
        "为什么平移不变性可能也不是好主意呢？"
      ]
    },
    {
      "cell_type": "markdown",
      "metadata": {
        "id": "GjZs5ROiH6Gi"
      },
      "source": [
        "**解答：** "
      ]
    },
    {
      "cell_type": "markdown",
      "metadata": {
        "id": "nVHNkPmfH6Gi"
      },
      "source": [
        "&emsp;&emsp;平移不变性可能会降低模型的准确性和泛化能力。对于某些任务，平移不变性并不是必须的特性。例如，对于图像分类任务，我们通常希望模型能够识别物体的位置和姿态，并根据这些信息对其进行分类。在这种情况下，平移不变性可能会降低模型的准确性，因为它忽略了物体的位置和姿态等重要信息。 其次，平移不变性可能会导致模型的泛化能力下降。\n",
        "\n",
        "&emsp;&emsp;参考：[https://arxiv.org/pdf/1805.12177.pdf](https://arxiv.org/pdf/1805.12177.pdf)"
      ]
    },
    {
      "cell_type": "markdown",
      "metadata": {
        "id": "AwOkiEoTH6Gj"
      },
      "source": [
        "### 练习 6.1.3\n",
        "\n",
        "当从图像边界像素获取隐藏表示时，我们需要思考哪些问题？"
      ]
    },
    {
      "cell_type": "markdown",
      "metadata": {
        "id": "m-VNPxDKH6Gj"
      },
      "source": [
        "**解答：** "
      ]
    },
    {
      "cell_type": "markdown",
      "metadata": {
        "id": "n5z7Gh2xH6Gj"
      },
      "source": [
        "&emsp;&emsp;考虑是否填充`padding`，以及填充多大的`padding`的问题。可以使用`torch.nn`模块中的`functional.pad`函数对图像进行填充操作，以保证边界像素的信息完整。填充后还需要进行额外的处理，例如使用图像复制、填充、平滑等方法来获取隐藏表示。"
      ]
    },
    {
      "cell_type": "markdown",
      "metadata": {
        "id": "jmJosLlWH6Gj"
      },
      "source": [
        "### 练习 6.1.4\n",
        "\n",
        "描述一个类似的音频卷积层的架构。"
      ]
    },
    {
      "cell_type": "markdown",
      "metadata": {
        "id": "NCd3SLSwH6Gj"
      },
      "source": [
        "**解答：** "
      ]
    },
    {
      "cell_type": "markdown",
      "metadata": {
        "id": "zktnQ2nWH6Gj"
      },
      "source": [
        "&emsp;&emsp;一种基于卷积神经网络的音频特征生成方法，首先对声音信号进行预处理和离散傅里叶变换计算声音信号的幅度谱，形成二维谱图信号；然后搭建以上述二维谱图信号为输入的一维卷积神经网络并进行模型训练，得到特征生成器模型；最后对待测声音进行预处理和离散傅里叶变换得到二维谱图信号，并将其送入训练好的一维卷积神经网络，通过卷积网络计算，得到输出即为所要生成的音频特征，实现声音信号的音频特征生成。"
      ]
    },
    {
      "cell_type": "markdown",
      "metadata": {
        "id": "IGBTjTXVH6Gj"
      },
      "source": [
        "### 练习 6.1.5\n",
        "\n",
        "卷积层也适合于文本数据吗？为什么？"
      ]
    },
    {
      "cell_type": "markdown",
      "metadata": {
        "id": "xGi_RvNkH6Gk"
      },
      "source": [
        "**解答：** "
      ]
    },
    {
      "cell_type": "markdown",
      "metadata": {
        "id": "il8LGBpTH6Gk"
      },
      "source": [
        "&emsp;&emsp;卷积层也适合于文本数据。 在自然语言处理中，文本数据通常表示为词向量矩阵，其中每行代表一个词的向量表示。卷积层可以在这个矩阵上进行卷积操作，类似于图像卷积层中对图像进行卷积操作。 在卷积层中，卷积核会在输入矩阵上进行滑动窗口计算，输出一个新的特征矩阵。在文本数据中，这个特征矩阵可以看作是对输入文本的不同n-gram特征的提取。例如，一个大小为3的卷积核可以提取出输入文本中每个长度为3的n-gram特征。这些特征可以用于后续的分类或者回归任务。 此外，卷积层还可以与循环神经网络（RNN）结合使用，形成卷积神经网络（CNN）和循环神经网络（RNN）的混合模型。这种模型可以同时捕捉文本中的局部特征和全局特征，提高模型的性能。 因此，卷积层适用于文本数据，可以对文本数据进行卷积操作，提取出不同n-gram特征，并且可以与RNN结合使用，提高模型的性能。"
      ]
    },
    {
      "cell_type": "markdown",
      "metadata": {
        "id": "f8asaRppH6Gk"
      },
      "source": [
        "### 练习 6.1.6\n",
        "\n",
        "证明在式(6.6)中，$f * g = g * f$。"
      ]
    },
    {
      "cell_type": "markdown",
      "metadata": {
        "id": "QeBwPGyRH6Gk"
      },
      "source": [
        "**解答：** "
      ]
    },
    {
      "cell_type": "markdown",
      "metadata": {
        "id": "yZOvmmOkH6Gk"
      },
      "source": [
        "&emsp;&emsp;通过式(6.6)的定义，我们可以得到：\n",
        "\n",
        "$$(f * g)(x) = \\int_{-\\infty}^{\\infty}f(y)g(x-y)dy$$\n",
        "\n",
        "$$(g * f)(x) = \\int_{-\\infty}^{\\infty}g(y)f(x-y)dy$$\n",
        "\n",
        "&emsp;&emsp;要证明$f * g = g * f$，即证明：\n",
        "\n",
        "$$\\int_{-\\infty}^{\\infty}f(y)g(x-y)dy = \\int_{-\\infty}^{\\infty}g(y)f(x-y)dy$$\n",
        "\n",
        "&emsp;&emsp;为了证明上式成立，我们将其中一个积分的变量名改为$t=x-y$，则有：\n",
        "\n",
        "$$\\int_{-\\infty}^{\\infty}f(y)g(x-y)dy = \\int_{-\\infty}^{\\infty}f(x-t)g(t)dt$$\n",
        "\n",
        "&emsp;&emsp;再将这个式子代回式(6.6)中：\n",
        "\n",
        "$$(f * g)(x) = \\int_{-\\infty}^{\\infty}f(x-t)g(t)dt$$\n",
        "\n",
        "&emsp;&emsp;对比式(6.6)和上面的式子，可以发现它们的形式是完全一样的，只是积分变量名不同而已。因此，我们可以得到：\n",
        "\n",
        "$$(f * g)(x) = \\int_{-\\infty}^{\\infty}f(y)g(x-y)dy = \\int_{-\\infty}^{\\infty}g(y)f(x-y)dy = (g * f)(x)$$\n",
        "\n",
        "&emsp;&emsp;因此，$f * g = g * f$，证毕。\n",
        "\n"
      ]
    },
    {
      "cell_type": "markdown",
      "metadata": {
        "id": "JnoQzdf5H6Gk"
      },
      "source": [
        "## 6.2 图像卷积"
      ]
    },
    {
      "cell_type": "markdown",
      "metadata": {
        "id": "U_ATWo-vH6Gk"
      },
      "source": [
        "### 练习 6.2.1  \n",
        "\n",
        "构建一个具有对角线边缘的图像`X`。\n",
        "1. 如果将本节中举例的卷积核`K`应用于`X`，会发生什么情况？\n",
        "1. 如果转置`X`会发生什么？\n",
        "1. 如果转置`K`会发生什么？"
      ]
    },
    {
      "cell_type": "markdown",
      "metadata": {
        "id": "tBApQWHKH6Gk"
      },
      "source": [
        "**解答：** "
      ]
    },
    {
      "cell_type": "markdown",
      "source": [
        "**第1问：**"
      ],
      "metadata": {
        "id": "lkEMrGV4SCW5"
      }
    },
    {
      "cell_type": "markdown",
      "metadata": {
        "id": "kq6MSSR8H6Gk"
      },
      "source": [
        "&emsp;&emsp;在对角线处有分别为1和-1的数据，其他区域都为0。"
      ]
    },
    {
      "cell_type": "code",
      "execution_count": null,
      "metadata": {
        "id": "hiEfX0AoH6Gl",
        "outputId": "37bc785e-2ef0-44d2-d047-0c732d1cb81e"
      },
      "outputs": [
        {
          "name": "stdout",
          "output_type": "stream",
          "text": [
            "tensor([[ 1.,  0.,  0.,  0.,  0.,  0.,  0.],\n",
            "        [-1.,  1.,  0.,  0.,  0.,  0.,  0.],\n",
            "        [ 0., -1.,  1.,  0.,  0.,  0.,  0.],\n",
            "        [ 0.,  0., -1.,  1.,  0.,  0.,  0.],\n",
            "        [ 0.,  0.,  0., -1.,  1.,  0.,  0.],\n",
            "        [ 0.,  0.,  0.,  0., -1.,  1.,  0.],\n",
            "        [ 0.,  0.,  0.,  0.,  0., -1.,  1.],\n",
            "        [ 0.,  0.,  0.,  0.,  0.,  0., -1.]])\n"
          ]
        }
      ],
      "source": [
        "import torch\n",
        "from torch import nn\n",
        "from d2l import torch as d2l\n",
        "\n",
        "def corr2d(X, K):  #@save\n",
        "    \"\"\"计算二维互相关运算\"\"\"\n",
        "    h, w = K.shape\n",
        "    Y = torch.zeros((X.shape[0] - h + 1, X.shape[1] - w + 1))\n",
        "    for i in range(Y.shape[0]):\n",
        "        for j in range(Y.shape[1]):\n",
        "            Y[i, j] = (X[i:i + h, j:j + w] * K).sum()\n",
        "    return Y\n",
        "\n",
        "# 如果将本节中举例的卷积核K应用于X，会发生什么情况？\n",
        "X = torch.eye(8)\n",
        "K = torch.tensor([[1.0, -1.0]])\n",
        "Y = corr2d(X, K)\n",
        "print(Y)"
      ]
    },
    {
      "cell_type": "markdown",
      "source": [
        "**第2问：**"
      ],
      "metadata": {
        "id": "e3Oz9yYDSdI3"
      }
    },
    {
      "cell_type": "markdown",
      "metadata": {
        "id": "mUbUM7rZH6Gl"
      },
      "source": [
        "&emsp;&emsp;转置后结果不变。"
      ]
    },
    {
      "cell_type": "code",
      "execution_count": null,
      "metadata": {
        "id": "02INn5CxH6Gl",
        "outputId": "8841140a-0258-40f5-a0be-1f9306ef7b60"
      },
      "outputs": [
        {
          "data": {
            "text/plain": [
              "(tensor([[1., 0., 0., 0., 0., 0., 0., 0.],\n",
              "         [0., 1., 0., 0., 0., 0., 0., 0.],\n",
              "         [0., 0., 1., 0., 0., 0., 0., 0.],\n",
              "         [0., 0., 0., 1., 0., 0., 0., 0.],\n",
              "         [0., 0., 0., 0., 1., 0., 0., 0.],\n",
              "         [0., 0., 0., 0., 0., 1., 0., 0.],\n",
              "         [0., 0., 0., 0., 0., 0., 1., 0.],\n",
              "         [0., 0., 0., 0., 0., 0., 0., 1.]]),\n",
              " tensor([[ 1.,  0.,  0.,  0.,  0.,  0.,  0.],\n",
              "         [-1.,  1.,  0.,  0.,  0.,  0.,  0.],\n",
              "         [ 0., -1.,  1.,  0.,  0.,  0.,  0.],\n",
              "         [ 0.,  0., -1.,  1.,  0.,  0.,  0.],\n",
              "         [ 0.,  0.,  0., -1.,  1.,  0.,  0.],\n",
              "         [ 0.,  0.,  0.,  0., -1.,  1.,  0.],\n",
              "         [ 0.,  0.,  0.,  0.,  0., -1.,  1.],\n",
              "         [ 0.,  0.,  0.,  0.,  0.,  0., -1.]]))"
            ]
          },
          "execution_count": 4,
          "metadata": {},
          "output_type": "execute_result"
        }
      ],
      "source": [
        "Y = corr2d(X.T, K)\n",
        "X, Y"
      ]
    },
    {
      "cell_type": "markdown",
      "source": [
        "**第3问：**"
      ],
      "metadata": {
        "id": "RWwEZaw0StRK"
      }
    },
    {
      "cell_type": "markdown",
      "metadata": {
        "id": "MTOiA5ipH6Gl"
      },
      "source": [
        "&emsp;&emsp;K转置后，结果也转置了 "
      ]
    },
    {
      "cell_type": "code",
      "execution_count": null,
      "metadata": {
        "id": "yD4k1hrmH6Gl",
        "outputId": "6502c42f-12b4-4260-fc74-f1987a55f870"
      },
      "outputs": [
        {
          "data": {
            "text/plain": [
              "(tensor([[1., 0., 0., 0., 0., 0., 0., 0.],\n",
              "         [0., 1., 0., 0., 0., 0., 0., 0.],\n",
              "         [0., 0., 1., 0., 0., 0., 0., 0.],\n",
              "         [0., 0., 0., 1., 0., 0., 0., 0.],\n",
              "         [0., 0., 0., 0., 1., 0., 0., 0.],\n",
              "         [0., 0., 0., 0., 0., 1., 0., 0.],\n",
              "         [0., 0., 0., 0., 0., 0., 1., 0.],\n",
              "         [0., 0., 0., 0., 0., 0., 0., 1.]]),\n",
              " tensor([[ 1., -1.,  0.,  0.,  0.,  0.,  0.,  0.],\n",
              "         [ 0.,  1., -1.,  0.,  0.,  0.,  0.,  0.],\n",
              "         [ 0.,  0.,  1., -1.,  0.,  0.,  0.,  0.],\n",
              "         [ 0.,  0.,  0.,  1., -1.,  0.,  0.,  0.],\n",
              "         [ 0.,  0.,  0.,  0.,  1., -1.,  0.,  0.],\n",
              "         [ 0.,  0.,  0.,  0.,  0.,  1., -1.,  0.],\n",
              "         [ 0.,  0.,  0.,  0.,  0.,  0.,  1., -1.]]))"
            ]
          },
          "execution_count": 5,
          "metadata": {},
          "output_type": "execute_result"
        }
      ],
      "source": [
        "Y = corr2d(X, K.T)\n",
        "X, Y"
      ]
    },
    {
      "cell_type": "markdown",
      "metadata": {
        "id": "Jxhbn1TzH6Gl"
      },
      "source": [
        "### 练习 6.2.2 \n",
        "\n",
        "在我们创建的`Conv2D`自动求导时，有什么错误消息？"
      ]
    },
    {
      "cell_type": "markdown",
      "metadata": {
        "id": "tZh5dWTzH6Gl"
      },
      "source": [
        "**解答：** "
      ]
    },
    {
      "cell_type": "markdown",
      "metadata": {
        "id": "FsZJjjLoH6Gl"
      },
      "source": [
        "&emsp;&emsp;会提示维度不对称的错误信息，因为torch提供的二维卷积层是nn.Conv2d() 采用的是四维输入和输出格式（批量大小、通道、高度、宽度）,而我们自定义的仅仅是二维的。\n",
        "\n",
        "&emsp;&emsp;代码验证如下"
      ]
    },
    {
      "cell_type": "code",
      "source": [
        "import torch\n",
        "from torch import nn\n",
        "from d2l import torch as d2l\n",
        "\n",
        "def corr2d(X, K):  #@save\n",
        "    \"\"\"计算二维互相关运算\"\"\"\n",
        "    h, w = K.shape\n",
        "    Y = torch.zeros((X.shape[0] - h + 1, X.shape[1] - w + 1))\n",
        "    for i in range(Y.shape[0]):\n",
        "        for j in range(Y.shape[1]):\n",
        "            Y[i, j] = (X[i:i + h, j:j + w] * K).sum()\n",
        "    return Y"
      ],
      "metadata": {
        "id": "VjVH6TpjAKGX"
      },
      "execution_count": null,
      "outputs": []
    },
    {
      "cell_type": "code",
      "source": [
        "class Conv2D(nn.Module):\n",
        "    def __init__(self, kernel_size):\n",
        "        super().__init__()\n",
        "        self.weight = nn.Parameter(torch.rand(kernel_size))\n",
        "        self.bias = nn.Parameter(torch.zeros(1))\n",
        "\n",
        "    def forward(self, x):\n",
        "        return corr2d(x, self.weight) + self.bias"
      ],
      "metadata": {
        "id": "YkihVFGGARum"
      },
      "execution_count": null,
      "outputs": []
    },
    {
      "cell_type": "code",
      "source": [
        "X = torch.ones((6, 8))\n",
        "X[:, 2:6] = 0\n",
        "X"
      ],
      "metadata": {
        "colab": {
          "base_uri": "https://localhost:8080/"
        },
        "id": "Byfxj2YNAYQa",
        "outputId": "96c097ae-3af1-45d0-a572-40f9611324d5"
      },
      "execution_count": null,
      "outputs": [
        {
          "output_type": "execute_result",
          "data": {
            "text/plain": [
              "tensor([[1., 1., 0., 0., 0., 0., 1., 1.],\n",
              "        [1., 1., 0., 0., 0., 0., 1., 1.],\n",
              "        [1., 1., 0., 0., 0., 0., 1., 1.],\n",
              "        [1., 1., 0., 0., 0., 0., 1., 1.],\n",
              "        [1., 1., 0., 0., 0., 0., 1., 1.],\n",
              "        [1., 1., 0., 0., 0., 0., 1., 1.]])"
            ]
          },
          "metadata": {},
          "execution_count": 6
        }
      ]
    },
    {
      "cell_type": "code",
      "source": [
        "K = torch.tensor([[1.0, -1.0]])"
      ],
      "metadata": {
        "id": "Db1va1xyBmW3"
      },
      "execution_count": null,
      "outputs": []
    },
    {
      "cell_type": "code",
      "source": [
        "Y = corr2d(X, K)\n",
        "Y"
      ],
      "metadata": {
        "colab": {
          "base_uri": "https://localhost:8080/"
        },
        "id": "T5EtgxtRBpof",
        "outputId": "43c5b95a-dc76-4c8d-c7d9-0e7c3f117f24"
      },
      "execution_count": null,
      "outputs": [
        {
          "output_type": "execute_result",
          "data": {
            "text/plain": [
              "tensor([[ 0.,  1.,  0.,  0.,  0., -1.,  0.],\n",
              "        [ 0.,  1.,  0.,  0.,  0., -1.,  0.],\n",
              "        [ 0.,  1.,  0.,  0.,  0., -1.,  0.],\n",
              "        [ 0.,  1.,  0.,  0.,  0., -1.,  0.],\n",
              "        [ 0.,  1.,  0.,  0.,  0., -1.,  0.],\n",
              "        [ 0.,  1.,  0.,  0.,  0., -1.,  0.]])"
            ]
          },
          "metadata": {},
          "execution_count": 8
        }
      ]
    },
    {
      "cell_type": "code",
      "source": [
        "corr2d(X.t(), K)"
      ],
      "metadata": {
        "colab": {
          "base_uri": "https://localhost:8080/"
        },
        "id": "OJeEc9wzBrZT",
        "outputId": "2ed88c62-b122-4821-a469-139760e433c3"
      },
      "execution_count": null,
      "outputs": [
        {
          "output_type": "execute_result",
          "data": {
            "text/plain": [
              "tensor([[0., 0., 0., 0., 0.],\n",
              "        [0., 0., 0., 0., 0.],\n",
              "        [0., 0., 0., 0., 0.],\n",
              "        [0., 0., 0., 0., 0.],\n",
              "        [0., 0., 0., 0., 0.],\n",
              "        [0., 0., 0., 0., 0.],\n",
              "        [0., 0., 0., 0., 0.],\n",
              "        [0., 0., 0., 0., 0.]])"
            ]
          },
          "metadata": {},
          "execution_count": 9
        }
      ]
    },
    {
      "cell_type": "markdown",
      "source": [
        "&emsp;&emsp;使用`nn.Conv2d`时可以正常运行"
      ],
      "metadata": {
        "id": "m6bL6eI5xFLN"
      }
    },
    {
      "cell_type": "code",
      "source": [
        "# 构造一个二维卷积层，它具有1个输出通道和形状为（1，2）的卷积核\n",
        "conv2d = nn.Conv2d(1,1, kernel_size=(1, 2), bias=False)\n",
        "\n",
        "# 这个二维卷积层使用四维输入和输出格式（批量大小、通道、高度、宽度），\n",
        "# 其中批量大小和通道数都为1\n",
        "X = X.reshape((1, 1, 6, 8))\n",
        "Y = Y.reshape((1, 1, 6, 7))\n",
        "lr = 3e-2  # 学习率\n",
        "\n",
        "for i in range(10):\n",
        "    Y_hat = conv2d(X)\n",
        "    l = (Y_hat - Y) ** 2\n",
        "    conv2d.zero_grad()\n",
        "    l.sum().backward()\n",
        "    # 迭代卷积核\n",
        "    conv2d.weight.data[:] -= lr * conv2d.weight.grad\n",
        "    if (i + 1) % 2 == 0:\n",
        "        print(f'epoch {i+1}, loss {l.sum():.3f}')"
      ],
      "metadata": {
        "colab": {
          "base_uri": "https://localhost:8080/"
        },
        "id": "37pG9gVxBv-x",
        "outputId": "1c256b5d-79c0-4da3-b8c8-c5f480aeb04d"
      },
      "execution_count": null,
      "outputs": [
        {
          "output_type": "stream",
          "name": "stdout",
          "text": [
            "epoch 2, loss 5.625\n",
            "epoch 4, loss 1.443\n",
            "epoch 6, loss 0.446\n",
            "epoch 8, loss 0.159\n",
            "epoch 10, loss 0.061\n"
          ]
        }
      ]
    },
    {
      "cell_type": "markdown",
      "source": [
        "&emsp;&emsp;使用创建的`Conv2D`时可以会报如下错误"
      ],
      "metadata": {
        "id": "CPIxue-DxOx-"
      }
    },
    {
      "cell_type": "code",
      "source": [
        "conv2d = Conv2D(kernel_size=(1, 2))\n",
        "\n",
        "try:\n",
        "  for i in range(10):\n",
        "    Y_hat = conv2d(X)\n",
        "    l = (Y_hat - Y) ** 2\n",
        "    conv2d.zero_grad()\n",
        "    l.sum().backward()\n",
        "    # 迭代卷积核\n",
        "    conv2d.weight.data[:] -= lr * conv2d.weight.grad\n",
        "    if (i + 1) % 2 == 0:\n",
        "        print(f'epoch {i+1}, loss {l.sum():.3f}')\n",
        "except Exception as e:\n",
        "    print(e)"
      ],
      "metadata": {
        "colab": {
          "base_uri": "https://localhost:8080/"
        },
        "id": "msTn2YsGDq87",
        "outputId": "83bafb8a-8ffe-42fb-ccb5-775efe42b095"
      },
      "execution_count": null,
      "outputs": [
        {
          "output_type": "stream",
          "name": "stdout",
          "text": [
            "The size of tensor a (0) must match the size of tensor b (7) at non-singleton dimension 3\n"
          ]
        }
      ]
    },
    {
      "cell_type": "markdown",
      "source": [
        "&emsp;&emsp;可以通过下述方式调整"
      ],
      "metadata": {
        "id": "Gax6VocXxTnp"
      }
    },
    {
      "cell_type": "code",
      "source": [
        "X = X.reshape((6, 8))\n",
        "Y = Y.reshape((6, 7))\n",
        "lr = 3e-2  # 学习率\n",
        "\n",
        "for i in range(10):\n",
        "    Y_hat = conv2d(X)\n",
        "    l = (Y_hat - Y) ** 2\n",
        "    conv2d.zero_grad()\n",
        "    l.sum().backward()\n",
        "    # 迭代卷积核\n",
        "    conv2d.weight.data[:] -= lr * conv2d.weight.grad\n",
        "    if (i + 1) % 2 == 0:\n",
        "        print(f'epoch {i+1}, loss {l.sum():.3f}')"
      ],
      "metadata": {
        "colab": {
          "base_uri": "https://localhost:8080/"
        },
        "id": "SMFz77vLEcrd",
        "outputId": "650e4729-b223-4fb7-9bd9-429b4dcb77eb"
      },
      "execution_count": null,
      "outputs": [
        {
          "output_type": "stream",
          "name": "stdout",
          "text": [
            "epoch 2, loss 17.816\n",
            "epoch 4, loss 5.911\n",
            "epoch 6, loss 2.188\n",
            "epoch 8, loss 0.857\n",
            "epoch 10, loss 0.345\n"
          ]
        }
      ]
    },
    {
      "cell_type": "markdown",
      "metadata": {
        "id": "_rl_95PQH6Gm"
      },
      "source": [
        "### 练习 6.2.3\n",
        "\n",
        "如何通过改变输入张量和卷积核张量，将互相关运算表示为矩阵乘法？"
      ]
    },
    {
      "cell_type": "markdown",
      "metadata": {
        "id": "iqzn_dbiH6Gm"
      },
      "source": [
        "**解答：** "
      ]
    },
    {
      "cell_type": "markdown",
      "metadata": {
        "id": "KzbnEauZH6Gm"
      },
      "source": [
        "&emsp;&emsp;题目的意思应该是如何通过矩阵乘法得到互相关（卷积）运算"
      ]
    },
    {
      "cell_type": "code",
      "execution_count": null,
      "metadata": {
        "id": "vIojUxrQH6Gm"
      },
      "outputs": [],
      "source": [
        "import torch\n",
        "from torch import nn\n",
        "from d2l import torch as d2l\n",
        "\n",
        "def conv2d_by_mul(X, K):\n",
        "    # 获取卷积核大小\n",
        "    h, w = K.shape\n",
        "    # 计算输出图像大小\n",
        "    outh = X.shape[0] - h + 1\n",
        "    outw = X.shape[1] - w + 1\n",
        "    # 调整卷积核形状以便做乘法\n",
        "    K = K.reshape(-1, 1)\n",
        "    # 将输入图像切成卷积核大小的块，打平成一维，存放在列表 Y 中\n",
        "    Y = []\n",
        "    for i in range(outh):\n",
        "        for j in range(outw):\n",
        "            Y.append(X[i:i + h, j:j + w].reshape(-1))\n",
        "    # 将列表 Y 转为张量，每行代表一块的打平结果\n",
        "    Y = torch.stack(Y, 0)\n",
        "    # 用矩阵乘法表示互相关运算\n",
        "    res = (torch.matmul(Y, K)).reshape(outh, outw)\n",
        "    # 返回输出结果\n",
        "    return res"
      ]
    },
    {
      "cell_type": "markdown",
      "metadata": {
        "id": "0Ta-sCxFH6Gm"
      },
      "source": [
        "### 练习 6.2.4\n",
        "\n",
        "手工设计一些卷积核。\n",
        "1. 二阶导数的核的形式是什么？\n",
        "1. 积分的核的形式是什么？\n",
        "1. 得到$d$次导数的最小核的大小是多少？"
      ]
    },
    {
      "cell_type": "markdown",
      "metadata": {
        "id": "2TpbNlmoH6Gm"
      },
      "source": [
        "**解答：** "
      ]
    },
    {
      "cell_type": "markdown",
      "source": [
        "**第1问：**"
      ],
      "metadata": {
        "id": "Sj92on4zTnmx"
      }
    },
    {
      "cell_type": "markdown",
      "source": [
        "&emsp;&emsp;二阶导数的核的形式是：\n",
        "\n",
        "$$\\begin{bmatrix}-1 & 2 & -1\\end{bmatrix}$$"
      ],
      "metadata": {
        "id": "ZFTY9ib1Tr6j"
      }
    },
    {
      "cell_type": "markdown",
      "source": [
        "**第2问：**"
      ],
      "metadata": {
        "id": "ZjHoDCPDTwf8"
      }
    },
    {
      "cell_type": "markdown",
      "metadata": {
        "id": "8-kf1IxsH6Gm"
      },
      "source": [
        "&emsp;&emsp;积分的核的形式是：\n",
        "\n",
        "$$\\begin{bmatrix}1 & 1 & 1 & \\cdots & 1\\end{bmatrix}$$\n"
      ]
    },
    {
      "cell_type": "markdown",
      "source": [
        "**第3问：**"
      ],
      "metadata": {
        "id": "20GNRTaGT3vl"
      }
    },
    {
      "cell_type": "markdown",
      "source": [
        "&emsp;&emsp;得到 𝑑 次导数的最小核的大小是 $d+1$。例如，一阶导数的最小核大小为 $2$，二阶导数的最小核大小为 $3$，三阶导数的最小核大小为 $4$，以此类推。"
      ],
      "metadata": {
        "id": "mLPsGuj_T560"
      }
    },
    {
      "cell_type": "markdown",
      "metadata": {
        "id": "Xxl6bZHSH6Gm"
      },
      "source": [
        "## 6.3 填充和步幅 "
      ]
    },
    {
      "cell_type": "markdown",
      "metadata": {
        "id": "F4I1FfTtH6Gm"
      },
      "source": [
        "### 练习 6.3.1  \n",
        "\n",
        "对于本节中的最后一个示例，计算其输出形状，以查看它是否与实验结果一致。"
      ]
    },
    {
      "cell_type": "markdown",
      "metadata": {
        "id": "db2l2ZVaH6Gm"
      },
      "source": [
        "**解答：** "
      ]
    },
    {
      "cell_type": "markdown",
      "metadata": {
        "id": "aUp1JW-cH6Gm"
      },
      "source": [
        "$$out_{shape}=\\lfloor(n_h-k_h+p_h*2+s_h)/s_h\\rfloor \\times \\lfloor(n_w-k_w+p_w*2+s_w)/s_w\\rfloor.$$\n",
        "\n",
        "&emsp;&emsp;示例中$X.shape = [8, 8]$，计算得出$out_shape = [(8-3+0+3)/3, (8-5+2+4)/4] = [2.67, 2.25]$,向下取整，所以为$[2, 2]$\n",
        "\n"
      ]
    },
    {
      "cell_type": "markdown",
      "source": [
        "&emsp;&emsp; 代码验证如下"
      ],
      "metadata": {
        "id": "kTN4MS6Vzv-Y"
      }
    },
    {
      "cell_type": "code",
      "source": [
        "import torch\n",
        "from torch import nn\n",
        "\n",
        "\n",
        "# 为了方便起见，我们定义了一个计算卷积层的函数。\n",
        "# 此函数初始化卷积层权重，并对输入和输出提高和缩减相应的维数\n",
        "def comp_conv2d(conv2d, X):\n",
        "    # 这里的（1，1）表示批量大小和通道数都是1\n",
        "    X = X.reshape((1, 1) + X.shape)\n",
        "    Y = conv2d(X)\n",
        "    # 省略前两个维度：批量大小和通道\n",
        "    return Y.reshape(Y.shape[2:])\n",
        "\n",
        "# 请注意，这里每边都填充了1行或1列，因此总共添加了2行或2列\n",
        "X = torch.rand(size=(8, 8))\n",
        "conv2d = nn.Conv2d(1, 1, kernel_size=(3, 5), padding=(0, 1), stride=(3, 4))\n",
        "comp_conv2d(conv2d, X).shape"
      ],
      "metadata": {
        "colab": {
          "base_uri": "https://localhost:8080/"
        },
        "id": "Un2WNAxXzVvO",
        "outputId": "caf4dd00-192e-4cbb-def6-8dc86a3a632c"
      },
      "execution_count": 2,
      "outputs": [
        {
          "output_type": "execute_result",
          "data": {
            "text/plain": [
              "torch.Size([2, 2])"
            ]
          },
          "metadata": {},
          "execution_count": 2
        }
      ]
    },
    {
      "cell_type": "markdown",
      "metadata": {
        "id": "brG_eGKcH6Gn"
      },
      "source": [
        "### 练习 6.3.2\n",
        "\n",
        "在本节中的实验中，试一试其他填充和步幅组合。"
      ]
    },
    {
      "cell_type": "markdown",
      "metadata": {
        "id": "lFoUTJ82H6Gn"
      },
      "source": [
        "**解答：** "
      ]
    },
    {
      "cell_type": "markdown",
      "source": [
        "&emsp;&emsp; 下面将举两个其他的填充和步幅组合"
      ],
      "metadata": {
        "id": "n8bXitvc1p0Q"
      }
    },
    {
      "cell_type": "code",
      "source": [
        "conv2d = nn.Conv2d(1, 1, kernel_size=(3, 5), padding=(1, 2), stride=(2, 3))\n",
        "comp_conv2d(conv2d, X).shape"
      ],
      "metadata": {
        "colab": {
          "base_uri": "https://localhost:8080/"
        },
        "id": "0RMAerR41NZk",
        "outputId": "e84b746f-5981-4e7d-a571-2cfb8dd7beda"
      },
      "execution_count": 3,
      "outputs": [
        {
          "output_type": "execute_result",
          "data": {
            "text/plain": [
              "torch.Size([4, 3])"
            ]
          },
          "metadata": {},
          "execution_count": 3
        }
      ]
    },
    {
      "cell_type": "markdown",
      "source": [
        "&emsp;&emsp;在`padding`大小为$[1,2]$，`stride`大小为$[2,3]$时，输出形状为$[4,3]$\n",
        "\n",
        "&emsp;&emsp;示例中$X.shape = [8, 8]$，计算得出$out_{shape} = [(8-3+2+2)/2, (8-5+4+3)/3] = [4.5, 3,33]$,向下取整，所以为$[4, 3]$"
      ],
      "metadata": {
        "id": "pJ3E2kSW1xuG"
      }
    },
    {
      "cell_type": "code",
      "source": [
        "conv2d = nn.Conv2d(1, 1, kernel_size=(3, 5), padding=(2, 3), stride=(1, 2))\n",
        "comp_conv2d(conv2d, X).shape"
      ],
      "metadata": {
        "colab": {
          "base_uri": "https://localhost:8080/"
        },
        "id": "dbrqAE0G1bok",
        "outputId": "217140fc-29d4-45a5-eb18-c69ead1c1ef6"
      },
      "execution_count": 4,
      "outputs": [
        {
          "output_type": "execute_result",
          "data": {
            "text/plain": [
              "torch.Size([10, 5])"
            ]
          },
          "metadata": {},
          "execution_count": 4
        }
      ]
    },
    {
      "cell_type": "markdown",
      "source": [
        "&emsp;&emsp;在`padding`大小为$[2,3]$，`stride`大小为$[1,2]$时，输出形状为$[10,5]$\n",
        "\n",
        "&emsp;&emsp;示例中$X.shape = [8, 8]$，计算得出$out_{shape} = [(8-3+4+1)/1, (8-5+6+2)/2] = [10, 5.5]$,向下取整，所以为$[10, 5]$"
      ],
      "metadata": {
        "id": "3KVUq8Zu4Okx"
      }
    },
    {
      "cell_type": "markdown",
      "metadata": {
        "id": "uTl-5K1SH6Gn"
      },
      "source": [
        "### 练习 6.3.3\n",
        "\n",
        "对于音频信号，步幅$2$说明什么？"
      ]
    },
    {
      "cell_type": "markdown",
      "metadata": {
        "id": "YNXFYzlhH6Gn"
      },
      "source": [
        "**解答：** "
      ]
    },
    {
      "cell_type": "markdown",
      "metadata": {
        "id": "nuueFr5_H6Gn"
      },
      "source": [
        "&emsp;&emsp;对于音频信号而言，步幅为2就是以2为周期对信号进行采样计算。"
      ]
    },
    {
      "cell_type": "markdown",
      "metadata": {
        "id": "_3anPQxXH6Gn"
      },
      "source": [
        "### 练习 6.3.4\n",
        "\n",
        "步幅大于$1$的计算优势是什么？"
      ]
    },
    {
      "cell_type": "markdown",
      "metadata": {
        "id": "q02rwtZnH6Gn"
      },
      "source": [
        "**解答：** "
      ]
    },
    {
      "cell_type": "markdown",
      "metadata": {
        "id": "7_po2mkiH6Gn"
      },
      "source": [
        "&emsp;&emsp;减小计算量， 减小内存占用， 提高模型的泛化能力。"
      ]
    },
    {
      "cell_type": "markdown",
      "metadata": {
        "id": "rLzkTd9KH6Gn"
      },
      "source": [
        "## 6.4 多输入多输出通道 "
      ]
    },
    {
      "cell_type": "markdown",
      "metadata": {
        "id": "H0Acj8q_H6Gn"
      },
      "source": [
        "### 练习 6.4.1\n",
        "\n",
        "假设我们有两个卷积核，大小分别为$k_1$和$k_2$（中间没有非线性激活函数）。\n",
        "1. 证明运算可以用单次卷积来表示。\n",
        "1. 这个等效的单个卷积核的维数是多少呢？\n",
        "1. 反之亦然吗？"
      ]
    },
    {
      "cell_type": "markdown",
      "metadata": {
        "id": "-WvYPWNzH6Go"
      },
      "source": [
        "**解答：** "
      ]
    },
    {
      "cell_type": "markdown",
      "source": [
        "**第1问：**"
      ],
      "metadata": {
        "id": "hCHo1nmiW269"
      }
    },
    {
      "cell_type": "markdown",
      "metadata": {
        "id": "J0WKW_2rH6Go"
      },
      "source": [
        "&emsp;&emsp;假设输入的图像大小为$W×H$，设卷积核1的大小为$k_1$，卷积核2的大小为$k2$，它们分别作用于输入矩阵$x$，得到的输出矩阵分别为$y_1$和$y_2$。则可以将$y1$与$y2$的每一个元素相加，得到最终输出矩阵$y$。\n",
        "\n",
        "&emsp;&emsp;即：$$y[i][j] = y_1[i][j] + y_2[i][j]$$\n",
        "\n",
        "&emsp;&emsp;可以将两个卷积核的大小相加，得到一个新的卷积核大小为$(k_1+k_2-1)×(k_1+k_2-1)$。然后可以将这个新的卷积核应用于输入图像，得到一个输出图像。这个输出图像的大小为$(W-k_1-k_2+2)×(H-k_1-k_2+2)$。"
      ]
    },
    {
      "cell_type": "markdown",
      "source": [
        "**第2问：**"
      ],
      "metadata": {
        "id": "a_oG7ejjZIts"
      }
    },
    {
      "cell_type": "markdown",
      "source": [
        "&emsp;&emsp;可以使用一个大小为$(k_1+k_2-1)×(k_1+k_2-1)$的卷积核来表示这两个卷积核的运算。"
      ],
      "metadata": {
        "id": "Iu5hDtACZI_Q"
      }
    },
    {
      "cell_type": "markdown",
      "source": [
        "**第3问：**"
      ],
      "metadata": {
        "id": "ucb3Vc2pZJUL"
      }
    },
    {
      "cell_type": "markdown",
      "source": [
        "&emsp;&emsp;反之亦然。如果有一个大小为$k_1+k_2-1$的卷积核，可以将其分解为两个大小分别为$k1$和$k2$的卷积核。这两个卷积核之间没有非线性激活函数，所以它们的运算可以被视为一个单独的卷积核。"
      ],
      "metadata": {
        "id": "sKoiH9o-ZJbF"
      }
    },
    {
      "cell_type": "markdown",
      "metadata": {
        "id": "I5H7cCLpH6Go"
      },
      "source": [
        "### 练习 6.4.2\n",
        "\n",
        "假设输入为$c_i\\times h\\times w$，卷积核大小为$c_o\\times c_i\\times k_h\\times k_w$，填充为$(p_h, p_w)$，步幅为$(s_h, s_w)$。\n",
        "1. 前向传播的计算成本（乘法和加法）是多少？\n",
        "1. 内存占用是多少？\n",
        "1. 反向传播的内存占用是多少？\n",
        "1. 反向传播的计算成本是多少？"
      ]
    },
    {
      "cell_type": "markdown",
      "metadata": {
        "id": "3a-nXFFtH6Go"
      },
      "source": [
        "**解答：** "
      ]
    },
    {
      "cell_type": "markdown",
      "source": [
        "**第1问：**"
      ],
      "metadata": {
        "id": "WPC8XK92bNMD"
      }
    },
    {
      "cell_type": "markdown",
      "source": [
        "&emsp;&emsp;前向计算成本为\n",
        "\n",
        "$flops_{forward} = c_i \\times c_o \\times k_h \\times k_w \\times m_h \\times m_w$\n",
        "\n",
        "&emsp;&emsp;其中$m_h=\\lfloor \\frac{h+2p_h-k_h}{s_h}+1 \\rfloor$, $m_w=\\lfloor \\frac{w+2p_w-k_w}{s_w}+1 \\rfloor$ \n"
      ],
      "metadata": {
        "id": "GlNurvDQbNQ0"
      }
    },
    {
      "cell_type": "markdown",
      "source": [
        "**第2问：**"
      ],
      "metadata": {
        "id": "J_oix-mgbNZ3"
      }
    },
    {
      "cell_type": "markdown",
      "source": [
        "&emsp;&emsp;输入需要$c_i*h*w$个浮点数，卷积核需要$c_o*c_i*k_h*k_w$个浮点数，输出需要$c_o*m_h*m_w$个浮点数。此外，还需要存储中间结果，即填充后的输入和反向传播时的梯度信息。因此，总内存占用为\n",
        "$$memory_{forward}=(c_i+k_h-1)*(h+k_w-1)*c_0+2*c_i*h*w$$"
      ],
      "metadata": {
        "id": "zh1SQkZbbNhz"
      }
    },
    {
      "cell_type": "markdown",
      "source": [
        "**第3问：**"
      ],
      "metadata": {
        "id": "JMGABMnGbNrB"
      }
    },
    {
      "cell_type": "markdown",
      "source": [
        "&emsp;&emsp;反向传播的内存作用与前向传播相同，总内存占用为\n",
        "$$memory_{backward}=(c_i+k_h-1)*(h+k_w-1)*c_0+2*c_i*h*w$$"
      ],
      "metadata": {
        "id": "9Ef0fAhubNy-"
      }
    },
    {
      "cell_type": "markdown",
      "source": [
        "**第4问：**"
      ],
      "metadata": {
        "id": "XqGjYQ5LbN7L"
      }
    },
    {
      "cell_type": "markdown",
      "source": [
        "&emsp;&emsp;反向计算成本为\n",
        "\n",
        "$flops_{backward} = c_i \\times c_o \\times k_h \\times k_w \\times m_h \\times m_w$\n",
        "\n",
        "&emsp;&emsp;其中$m_h$和$m_w$的定义同上"
      ],
      "metadata": {
        "id": "9JrDsP6pbOCT"
      }
    },
    {
      "cell_type": "markdown",
      "metadata": {
        "id": "qKKQr0MPH6Go"
      },
      "source": [
        "### 练习 6.4.3\n",
        "\n",
        "如果我们将输入通道$c_i$和输出通道$c_o$的数量加倍，计算数量会增加多少？如果我们把填充数量翻一番会怎么样？"
      ]
    },
    {
      "cell_type": "markdown",
      "metadata": {
        "id": "N825fzRxH6Go"
      },
      "source": [
        "**解答：** "
      ]
    },
    {
      "cell_type": "markdown",
      "metadata": {
        "id": "CifxEEGjH6Go"
      },
      "source": [
        "&emsp;&emsp;如果我们将输入通道$c_i$和输出通道$c_o$的数量加倍，计算数量会增加$4$倍。如果我们把填充数量翻一番，计算数量会增加$2$倍。"
      ]
    },
    {
      "cell_type": "markdown",
      "metadata": {
        "id": "PLWGRhpQH6Go"
      },
      "source": [
        "### 练习 6.4.4\n",
        "\n",
        "如果卷积核的高度和宽度是$k_h=k_w=1$，前向传播的计算复杂度是多少？"
      ]
    },
    {
      "cell_type": "markdown",
      "metadata": {
        "id": "4MBYJCXuH6Go"
      },
      "source": [
        "**解答：**"
      ]
    },
    {
      "cell_type": "markdown",
      "metadata": {
        "id": "j4Wcrl3XH6Gp"
      },
      "source": [
        "$$flops = c_i \\times c_o \\times \\frac{h-p_h}{s_h} \\times \\frac{w-p_w}{s_w}$$"
      ]
    },
    {
      "cell_type": "markdown",
      "metadata": {
        "id": "khZEzrrsH6Gp"
      },
      "source": [
        "### 练习 6.4.5\n",
        "\n",
        "本节最后一个示例中的变量`Y1`和`Y2`是否完全相同？为什么？"
      ]
    },
    {
      "cell_type": "markdown",
      "metadata": {
        "id": "D4amqFuFH6Gp"
      },
      "source": [
        "**解答：**"
      ]
    },
    {
      "cell_type": "markdown",
      "metadata": {
        "id": "K9YjhzTfH6Gp"
      },
      "source": [
        "&emsp;&emsp;浮点数计算有误差，因而两者不完全相同。"
      ]
    },
    {
      "cell_type": "markdown",
      "metadata": {
        "id": "HGIsrbxRH6Gp"
      },
      "source": [
        "### 练习 6.4.6\n",
        "\n",
        "当卷积窗口不是$1\\times 1$时，如何使用矩阵乘法实现卷积？"
      ]
    },
    {
      "cell_type": "markdown",
      "metadata": {
        "id": "LHRBB75GH6Gp"
      },
      "source": [
        "**解答：** "
      ]
    },
    {
      "cell_type": "markdown",
      "metadata": {
        "id": "-JowXZuVH6Gp"
      },
      "source": [
        "&emsp;&emsp;可以将输入张量和卷积核张量分别展开为二维矩阵，然后对这两个矩阵进行乘法运算，得到的结果再变换为输出张量。"
      ]
    },
    {
      "cell_type": "markdown",
      "metadata": {
        "id": "LQluJheeH6Gp"
      },
      "source": [
        "## 6.5 汇聚层 "
      ]
    },
    {
      "cell_type": "markdown",
      "metadata": {
        "id": "WXmo99OwH6Gp"
      },
      "source": [
        "### 练习 6.5.1\n",
        "\n",
        "尝试将平均汇聚层作为卷积层的特殊情况实现。"
      ]
    },
    {
      "cell_type": "markdown",
      "metadata": {
        "id": "VQDuZsKZH6Gq"
      },
      "source": [
        "**解答：** "
      ]
    },
    {
      "cell_type": "code",
      "execution_count": null,
      "metadata": {
        "id": "vpS7o9ZjH6Gq"
      },
      "outputs": [],
      "source": [
        "import torch.nn as nn \n",
        "import torch.nn.functional as F\n",
        "\n",
        "class Net(nn.Module): \n",
        "    def init(self): \n",
        "      super(Net, self).init() \n",
        "      self.conv1 = nn.Conv2d(1, 6, 5) \n",
        "      self.pool = nn.Conv2d(6, 6, 5) \n",
        "      # 平均池化层 \n",
        "      self.conv2 = nn.Conv2d(6, 16, 5) \n",
        "      self.fc1 = nn.Linear(16 * 5 * 5, 120) \n",
        "      self.fc2 = nn.Linear(120, 84) \n",
        "      self.fc3 = nn.Linear(84, 10)\n",
        "\n",
        "    def forward(self, x):\n",
        "        x = F.relu(self.conv1(x))\n",
        "        x = F.avg_pool2d(x, (2, 2)) # 平均池化层\n",
        "        x = F.relu(self.conv2(x))\n",
        "        x = F.avg_pool2d(x, (2, 2)) # 平均池化层\n",
        "        x = x.view(-1, self.num_flat_features(x))\n",
        "        x = F.relu(self.fc1(x))\n",
        "        x = F.relu(self.fc2(x))\n",
        "        x = self.fc3(x)\n",
        "        return x\n",
        "\n",
        "    def num_flat_features(self, x):\n",
        "        size = x.size()[1:]\n",
        "        num_features = 1\n",
        "        for s in size:\n",
        "            num_features *= s\n",
        "        return num_features"
      ]
    },
    {
      "cell_type": "markdown",
      "metadata": {
        "id": "ryQl9D8qH6Gr"
      },
      "source": [
        "### 练习 6.5.2\n",
        "\n",
        "尝试将最大汇聚层作为卷积层的特殊情况实现。"
      ]
    },
    {
      "cell_type": "markdown",
      "metadata": {
        "id": "-09jj2UrH6Gr"
      },
      "source": [
        "**解答：** "
      ]
    },
    {
      "cell_type": "code",
      "execution_count": null,
      "metadata": {
        "id": "SQd7cXluH6Gr"
      },
      "outputs": [],
      "source": [
        "import torch.nn as nn \n",
        "import torch.nn.functional as F\n",
        "\n",
        "class Net(nn.Module): \n",
        "    def init(self): \n",
        "        super(Net, self).init() \n",
        "        self.conv1 = nn.Conv2d(1, 6, 5) \n",
        "        self.pool = nn.Conv2d(6, 6, 5) \n",
        "        # 最大池化层 \n",
        "        self.conv2 = nn.Conv2d(6, 16, 5) \n",
        "        self.fc1 = nn.Linear(16 * 5 * 5, 120) \n",
        "        self.fc2 = nn.Linear(120, 84) \n",
        "        self.fc3 = nn.Linear(84, 10)  \n",
        "        \n",
        "    def forward(self, x):\n",
        "        x = F.relu(self.conv1(x))\n",
        "        x = F.max_pool2d(x, (2, 2)) # 最大池化层\n",
        "        x = F.relu(self.conv2(x))\n",
        "        x = F.max_pool2d(x, (2, 2)) # 最大池化层\n",
        "        x = x.view(-1, self.num_flat_features(x))\n",
        "        x = F.relu(self.fc1(x))\n",
        "        x = F.relu(self.fc2(x))\n",
        "        x = self.fc3(x)\n",
        "        return x\n",
        "\n",
        "    def num_flat_features(self, x):\n",
        "        size = x.size()[1:]\n",
        "        num_features = 1\n",
        "        for s in size:\n",
        "            num_features *= s\n",
        "        return num_features"
      ]
    },
    {
      "cell_type": "markdown",
      "metadata": {
        "id": "J5YqgAbbH6Gr"
      },
      "source": [
        "### 练习 6.5.3\n",
        "\n",
        "假设汇聚层的输入大小为$c\\times h\\times w$，则汇聚窗口的形状为$p_h\\times p_w$，填充为$(p_h, p_w)$，步幅为$(s_h, s_w)$。这个汇聚层的计算成本是多少？"
      ]
    },
    {
      "cell_type": "markdown",
      "metadata": {
        "id": "oMjxs6WbH6Gr"
      },
      "source": [
        "**解答：** "
      ]
    },
    {
      "cell_type": "markdown",
      "metadata": {
        "id": "ykP2lf_CH6Gr"
      },
      "source": [
        "$$flops=\\frac{c \\times h \\times w \\times p_h \\times p_w}{s_h \\times s_w}$$"
      ]
    },
    {
      "cell_type": "markdown",
      "metadata": {
        "id": "-yiOraa6H6Gs"
      },
      "source": [
        "### 练习 6.5.4\n",
        "\n",
        "为什么最大汇聚层和平均汇聚层的工作方式不同？"
      ]
    },
    {
      "cell_type": "markdown",
      "metadata": {
        "id": "6onxEYAyH6Gs"
      },
      "source": [
        "**解答：** "
      ]
    },
    {
      "cell_type": "markdown",
      "metadata": {
        "id": "CkRiZ35eH6Gs"
      },
      "source": [
        "&emsp;&emsp;最大池化层和平均池化层的工作方式不同，因为它们使用不同的池化方法。最大池化层将输入张量分成不重叠的区域，并在每个区域中选择最大值。平均池化层将输入张量分成不重叠的区域，并计算每个区域的平均值。这些方法的主要区别在于它们如何处理输入张量中的信息。最大池化层通常用于提取输入张量中的显著特征，而平均池化层通常用于减少输入张量的大小并提高模型的计算效率。"
      ]
    },
    {
      "cell_type": "markdown",
      "metadata": {
        "id": "dE1ihMORH6Gs"
      },
      "source": [
        "### 练习 6.5.5\n",
        "\n",
        "我们是否需要最小汇聚层？可以用已知函数替换它吗？"
      ]
    },
    {
      "cell_type": "markdown",
      "metadata": {
        "id": "80MiSdFlH6Gs"
      },
      "source": [
        "**解答：** "
      ]
    },
    {
      "cell_type": "code",
      "execution_count": null,
      "metadata": {
        "id": "6nbP1cklH6Gs"
      },
      "outputs": [],
      "source": [
        "import torch.nn.functional as F\n",
        "\n",
        "def min_pool2d(x, kernel_size, stride=None, padding=0, dilation=1, ceil_mode=False): \n",
        "    neg_x = -x \n",
        "    neg_min_pool = F.max_pool2d(neg_x, kernel_size, stride=stride, padding=padding, dilation=dilation, ceil_mode=ceil_mode) \n",
        "    min_pool = -neg_min_pool \n",
        "    return min_pool"
      ]
    },
    {
      "cell_type": "markdown",
      "metadata": {
        "id": "1PNLI8uzH6Gt"
      },
      "source": [
        "### 练习 6.5.6\n",
        "\n",
        "除了平均汇聚层和最大汇聚层，是否有其它函数可以考虑（提示：回想一下`softmax`）？为什么它不流行？"
      ]
    },
    {
      "cell_type": "markdown",
      "metadata": {
        "id": "VCnILmizH6Gt"
      },
      "source": [
        "**解答：** "
      ]
    },
    {
      "cell_type": "markdown",
      "source": [
        "&emsp;&emsp;除了平均汇聚层和最大汇聚层，还有一些其他的池化函数，例如Lp池化和随机池化。Softmax函数通常用于多分类问题，它将每个输出分类的结果赋予一个概率值，表示属于每个类别的可能性。但是，Softmax函数不适用于池化层，因为它会将所有输入数据转换为概率分布，这会导致信息丢失。因此，Softmax函数不流行用于池化层。"
      ],
      "metadata": {
        "id": "O5eyNAZyxOWX"
      }
    },
    {
      "cell_type": "markdown",
      "metadata": {
        "id": "J1AdlfjBH6Gt"
      },
      "source": [
        "## 6.6 卷积神经网络（LeNet） "
      ]
    },
    {
      "cell_type": "markdown",
      "metadata": {
        "id": "BmcAHKVpH6Gt"
      },
      "source": [
        "### 练习 6.6.1\n",
        "\n",
        "将平均汇聚层替换为最大汇聚层，会发生什么？"
      ]
    },
    {
      "cell_type": "markdown",
      "metadata": {
        "id": "p3D3TAOpH6Gt"
      },
      "source": [
        "**解答：** "
      ]
    },
    {
      "cell_type": "markdown",
      "metadata": {
        "id": "c84yG4GSH6Gt"
      },
      "source": [
        "&emsp;&emsp;输出更大，梯度更大，训练更容易（AlexNet改进的方式之一）"
      ]
    },
    {
      "cell_type": "markdown",
      "source": [
        "&emsp;&emsp; LeNet原始代码如下："
      ],
      "metadata": {
        "id": "zVg6Ri3Mxxv2"
      }
    },
    {
      "cell_type": "code",
      "execution_count": null,
      "metadata": {
        "origin_pos": 2,
        "tab": [
          "pytorch"
        ],
        "pycharm": {
          "name": "#%%\n"
        },
        "id": "98dd44b7"
      },
      "outputs": [],
      "source": [
        "import torch\n",
        "from torch import nn\n",
        "from d2l import torch as d2l\n",
        "\n",
        "net = nn.Sequential(\n",
        "    nn.Conv2d(1, 6, kernel_size=5, padding=2), nn.Sigmoid(),\n",
        "    nn.AvgPool2d(kernel_size=2, stride=2),\n",
        "    nn.Conv2d(6, 16, kernel_size=5), nn.Sigmoid(),\n",
        "    nn.AvgPool2d(kernel_size=2, stride=2),\n",
        "    nn.Flatten(),\n",
        "    nn.Linear(16 * 5 * 5, 120), nn.Sigmoid(),\n",
        "    nn.Linear(120, 84), nn.Sigmoid(),\n",
        "    nn.Linear(84, 10))"
      ]
    },
    {
      "cell_type": "code",
      "execution_count": null,
      "metadata": {
        "origin_pos": 7,
        "tab": [
          "pytorch"
        ],
        "pycharm": {
          "name": "#%%\n"
        },
        "id": "27c3b191",
        "colab": {
          "base_uri": "https://localhost:8080/"
        },
        "outputId": "842affb3-a109-4587-db5a-97edbf48f954"
      },
      "outputs": [
        {
          "output_type": "stream",
          "name": "stdout",
          "text": [
            "Conv2d output shape: \t torch.Size([1, 6, 28, 28])\n",
            "Sigmoid output shape: \t torch.Size([1, 6, 28, 28])\n",
            "AvgPool2d output shape: \t torch.Size([1, 6, 14, 14])\n",
            "Conv2d output shape: \t torch.Size([1, 16, 10, 10])\n",
            "Sigmoid output shape: \t torch.Size([1, 16, 10, 10])\n",
            "AvgPool2d output shape: \t torch.Size([1, 16, 5, 5])\n",
            "Flatten output shape: \t torch.Size([1, 400])\n",
            "Linear output shape: \t torch.Size([1, 120])\n",
            "Sigmoid output shape: \t torch.Size([1, 120])\n",
            "Linear output shape: \t torch.Size([1, 84])\n",
            "Sigmoid output shape: \t torch.Size([1, 84])\n",
            "Linear output shape: \t torch.Size([1, 10])\n"
          ]
        }
      ],
      "source": [
        "X = torch.rand(size=(1, 1, 28, 28), dtype=torch.float32)\n",
        "for layer in net:\n",
        "    X = layer(X)\n",
        "    print(layer.__class__.__name__,'output shape: \\t',X.shape)"
      ]
    },
    {
      "cell_type": "code",
      "execution_count": null,
      "metadata": {
        "origin_pos": 11,
        "tab": [
          "pytorch"
        ],
        "pycharm": {
          "name": "#%%\n"
        },
        "id": "ea757d02",
        "colab": {
          "base_uri": "https://localhost:8080/"
        },
        "outputId": "f06fe28e-2adb-4b33-ea14-dc111c263a3f"
      },
      "outputs": [
        {
          "output_type": "stream",
          "name": "stderr",
          "text": [
            "/usr/local/lib/python3.9/dist-packages/torch/utils/data/dataloader.py:561: UserWarning: This DataLoader will create 4 worker processes in total. Our suggested max number of worker in current system is 2, which is smaller than what this DataLoader is going to create. Please be aware that excessive worker creation might get DataLoader running slow or even freeze, lower the worker number to avoid potential slowness/freeze if necessary.\n",
            "  warnings.warn(_create_warning_msg(\n"
          ]
        }
      ],
      "source": [
        "batch_size = 256\n",
        "train_iter, test_iter = d2l.load_data_fashion_mnist(batch_size=batch_size)"
      ]
    },
    {
      "cell_type": "code",
      "execution_count": null,
      "metadata": {
        "origin_pos": 15,
        "tab": [
          "pytorch"
        ],
        "pycharm": {
          "name": "#%%\n"
        },
        "id": "e5fd18e6"
      },
      "outputs": [],
      "source": [
        "def evaluate_accuracy_gpu(net, data_iter, device=None): #@save\n",
        "    \"\"\"使用GPU计算模型在数据集上的精度\"\"\"\n",
        "    if isinstance(net, nn.Module):\n",
        "        net.eval()  # 设置为评估模式\n",
        "        if not device:\n",
        "            device = next(iter(net.parameters())).device\n",
        "    # 正确预测的数量，总预测的数量\n",
        "    metric = d2l.Accumulator(2)\n",
        "    with torch.no_grad():\n",
        "        for X, y in data_iter:\n",
        "            if isinstance(X, list):\n",
        "                # BERT微调所需的（之后将介绍）\n",
        "                X = [x.to(device) for x in X]\n",
        "            else:\n",
        "                X = X.to(device)\n",
        "            y = y.to(device)\n",
        "            metric.add(d2l.accuracy(net(X), y), y.numel())\n",
        "    return metric[0] / metric[1]"
      ]
    },
    {
      "cell_type": "code",
      "execution_count": null,
      "metadata": {
        "origin_pos": 19,
        "tab": [
          "pytorch"
        ],
        "pycharm": {
          "name": "#%%\n"
        },
        "id": "1cb372bf"
      },
      "outputs": [],
      "source": [
        "#@save\n",
        "def train_ch6(net, train_iter, test_iter, num_epochs, lr, device):\n",
        "    \"\"\"用GPU训练模型(在第六章定义)\"\"\"\n",
        "    def init_weights(m):\n",
        "        if type(m) == nn.Linear or type(m) == nn.Conv2d:\n",
        "            nn.init.xavier_uniform_(m.weight)\n",
        "    net.apply(init_weights)\n",
        "    print('training on', device)\n",
        "    net.to(device)\n",
        "    optimizer = torch.optim.SGD(net.parameters(), lr=lr)\n",
        "    loss = nn.CrossEntropyLoss()\n",
        "    animator = d2l.Animator(xlabel='epoch', xlim=[1, num_epochs],\n",
        "                            legend=['train loss', 'train acc', 'test acc'])\n",
        "    timer, num_batches = d2l.Timer(), len(train_iter)\n",
        "    for epoch in range(num_epochs):\n",
        "        # 训练损失之和，训练准确率之和，样本数\n",
        "        metric = d2l.Accumulator(3)\n",
        "        net.train()\n",
        "        for i, (X, y) in enumerate(train_iter):\n",
        "            timer.start()\n",
        "            optimizer.zero_grad()\n",
        "            X, y = X.to(device), y.to(device)\n",
        "            y_hat = net(X)\n",
        "            l = loss(y_hat, y)\n",
        "            l.backward()\n",
        "            optimizer.step()\n",
        "            with torch.no_grad():\n",
        "                metric.add(l * X.shape[0], d2l.accuracy(y_hat, y), X.shape[0])\n",
        "            timer.stop()\n",
        "            train_l = metric[0] / metric[2]\n",
        "            train_acc = metric[1] / metric[2]\n",
        "            if (i + 1) % (num_batches // 5) == 0 or i == num_batches - 1:\n",
        "                animator.add(epoch + (i + 1) / num_batches,\n",
        "                             (train_l, train_acc, None))\n",
        "        test_acc = evaluate_accuracy_gpu(net, test_iter)\n",
        "        animator.add(epoch + 1, (None, None, test_acc))\n",
        "    print(f'loss {train_l:.3f}, train acc {train_acc:.3f}, '\n",
        "          f'test acc {test_acc:.3f}')\n",
        "    print(f'{metric[2] * num_epochs / timer.sum():.1f} examples/sec '\n",
        "          f'on {str(device)}')"
      ]
    },
    {
      "cell_type": "code",
      "execution_count": null,
      "metadata": {
        "origin_pos": 23,
        "tab": [
          "pytorch"
        ],
        "pycharm": {
          "name": "#%%\n"
        },
        "id": "d1cbfd5d",
        "colab": {
          "base_uri": "https://localhost:8080/",
          "height": 302
        },
        "outputId": "2f2b256a-8a00-488b-ec2b-e7152c87d497"
      },
      "outputs": [
        {
          "output_type": "stream",
          "name": "stdout",
          "text": [
            "loss 0.463, train acc 0.825, test acc 0.779\n",
            "41852.5 examples/sec on cuda:0\n"
          ]
        },
        {
          "output_type": "display_data",
          "data": {
            "text/plain": [
              "<Figure size 350x250 with 1 Axes>"
            ],
            "image/svg+xml": "<?xml version=\"1.0\" encoding=\"utf-8\" standalone=\"no\"?>\n<!DOCTYPE svg PUBLIC \"-//W3C//DTD SVG 1.1//EN\"\n  \"http://www.w3.org/Graphics/SVG/1.1/DTD/svg11.dtd\">\n<svg xmlns:xlink=\"http://www.w3.org/1999/xlink\" width=\"238.965625pt\" height=\"183.35625pt\" viewBox=\"0 0 238.965625 183.35625\" xmlns=\"http://www.w3.org/2000/svg\" version=\"1.1\">\n <metadata>\n  <rdf:RDF xmlns:dc=\"http://purl.org/dc/elements/1.1/\" xmlns:cc=\"http://creativecommons.org/ns#\" xmlns:rdf=\"http://www.w3.org/1999/02/22-rdf-syntax-ns#\">\n   <cc:Work>\n    <dc:type rdf:resource=\"http://purl.org/dc/dcmitype/StillImage\"/>\n    <dc:date>2023-04-20T09:59:20.618070</dc:date>\n    <dc:format>image/svg+xml</dc:format>\n    <dc:creator>\n     <cc:Agent>\n      <dc:title>Matplotlib v3.5.1, https://matplotlib.org/</dc:title>\n     </cc:Agent>\n    </dc:creator>\n   </cc:Work>\n  </rdf:RDF>\n </metadata>\n <defs>\n  <style type=\"text/css\">*{stroke-linejoin: round; stroke-linecap: butt}</style>\n </defs>\n <g id=\"figure_1\">\n  <g id=\"patch_1\">\n   <path d=\"M 0 183.35625 \nL 238.965625 183.35625 \nL 238.965625 0 \nL 0 0 \nz\n\" style=\"fill: #ffffff\"/>\n  </g>\n  <g id=\"axes_1\">\n   <g id=\"patch_2\">\n    <path d=\"M 30.103125 145.8 \nL 225.403125 145.8 \nL 225.403125 7.2 \nL 30.103125 7.2 \nz\n\" style=\"fill: #ffffff\"/>\n   </g>\n   <g id=\"matplotlib.axis_1\">\n    <g id=\"xtick_1\">\n     <g id=\"line2d_1\">\n      <path d=\"M 51.803125 145.8 \nL 51.803125 7.2 \n\" clip-path=\"url(#pa262f73fea)\" style=\"fill: none; stroke: #b0b0b0; stroke-width: 0.8; stroke-linecap: square\"/>\n     </g>\n     <g id=\"line2d_2\">\n      <defs>\n       <path id=\"m619e626afa\" d=\"M 0 0 \nL 0 3.5 \n\" style=\"stroke: #000000; stroke-width: 0.8\"/>\n      </defs>\n      <g>\n       <use xlink:href=\"#m619e626afa\" x=\"51.803125\" y=\"145.8\" style=\"stroke: #000000; stroke-width: 0.8\"/>\n      </g>\n     </g>\n     <g id=\"text_1\">\n      <!-- 2 -->\n      <g transform=\"translate(48.621875 160.398438)scale(0.1 -0.1)\">\n       <defs>\n        <path id=\"DejaVuSans-32\" d=\"M 1228 531 \nL 3431 531 \nL 3431 0 \nL 469 0 \nL 469 531 \nQ 828 903 1448 1529 \nQ 2069 2156 2228 2338 \nQ 2531 2678 2651 2914 \nQ 2772 3150 2772 3378 \nQ 2772 3750 2511 3984 \nQ 2250 4219 1831 4219 \nQ 1534 4219 1204 4116 \nQ 875 4013 500 3803 \nL 500 4441 \nQ 881 4594 1212 4672 \nQ 1544 4750 1819 4750 \nQ 2544 4750 2975 4387 \nQ 3406 4025 3406 3419 \nQ 3406 3131 3298 2873 \nQ 3191 2616 2906 2266 \nQ 2828 2175 2409 1742 \nQ 1991 1309 1228 531 \nz\n\" transform=\"scale(0.015625)\"/>\n       </defs>\n       <use xlink:href=\"#DejaVuSans-32\"/>\n      </g>\n     </g>\n    </g>\n    <g id=\"xtick_2\">\n     <g id=\"line2d_3\">\n      <path d=\"M 95.203125 145.8 \nL 95.203125 7.2 \n\" clip-path=\"url(#pa262f73fea)\" style=\"fill: none; stroke: #b0b0b0; stroke-width: 0.8; stroke-linecap: square\"/>\n     </g>\n     <g id=\"line2d_4\">\n      <g>\n       <use xlink:href=\"#m619e626afa\" x=\"95.203125\" y=\"145.8\" style=\"stroke: #000000; stroke-width: 0.8\"/>\n      </g>\n     </g>\n     <g id=\"text_2\">\n      <!-- 4 -->\n      <g transform=\"translate(92.021875 160.398438)scale(0.1 -0.1)\">\n       <defs>\n        <path id=\"DejaVuSans-34\" d=\"M 2419 4116 \nL 825 1625 \nL 2419 1625 \nL 2419 4116 \nz\nM 2253 4666 \nL 3047 4666 \nL 3047 1625 \nL 3713 1625 \nL 3713 1100 \nL 3047 1100 \nL 3047 0 \nL 2419 0 \nL 2419 1100 \nL 313 1100 \nL 313 1709 \nL 2253 4666 \nz\n\" transform=\"scale(0.015625)\"/>\n       </defs>\n       <use xlink:href=\"#DejaVuSans-34\"/>\n      </g>\n     </g>\n    </g>\n    <g id=\"xtick_3\">\n     <g id=\"line2d_5\">\n      <path d=\"M 138.603125 145.8 \nL 138.603125 7.2 \n\" clip-path=\"url(#pa262f73fea)\" style=\"fill: none; stroke: #b0b0b0; stroke-width: 0.8; stroke-linecap: square\"/>\n     </g>\n     <g id=\"line2d_6\">\n      <g>\n       <use xlink:href=\"#m619e626afa\" x=\"138.603125\" y=\"145.8\" style=\"stroke: #000000; stroke-width: 0.8\"/>\n      </g>\n     </g>\n     <g id=\"text_3\">\n      <!-- 6 -->\n      <g transform=\"translate(135.421875 160.398438)scale(0.1 -0.1)\">\n       <defs>\n        <path id=\"DejaVuSans-36\" d=\"M 2113 2584 \nQ 1688 2584 1439 2293 \nQ 1191 2003 1191 1497 \nQ 1191 994 1439 701 \nQ 1688 409 2113 409 \nQ 2538 409 2786 701 \nQ 3034 994 3034 1497 \nQ 3034 2003 2786 2293 \nQ 2538 2584 2113 2584 \nz\nM 3366 4563 \nL 3366 3988 \nQ 3128 4100 2886 4159 \nQ 2644 4219 2406 4219 \nQ 1781 4219 1451 3797 \nQ 1122 3375 1075 2522 \nQ 1259 2794 1537 2939 \nQ 1816 3084 2150 3084 \nQ 2853 3084 3261 2657 \nQ 3669 2231 3669 1497 \nQ 3669 778 3244 343 \nQ 2819 -91 2113 -91 \nQ 1303 -91 875 529 \nQ 447 1150 447 2328 \nQ 447 3434 972 4092 \nQ 1497 4750 2381 4750 \nQ 2619 4750 2861 4703 \nQ 3103 4656 3366 4563 \nz\n\" transform=\"scale(0.015625)\"/>\n       </defs>\n       <use xlink:href=\"#DejaVuSans-36\"/>\n      </g>\n     </g>\n    </g>\n    <g id=\"xtick_4\">\n     <g id=\"line2d_7\">\n      <path d=\"M 182.003125 145.8 \nL 182.003125 7.2 \n\" clip-path=\"url(#pa262f73fea)\" style=\"fill: none; stroke: #b0b0b0; stroke-width: 0.8; stroke-linecap: square\"/>\n     </g>\n     <g id=\"line2d_8\">\n      <g>\n       <use xlink:href=\"#m619e626afa\" x=\"182.003125\" y=\"145.8\" style=\"stroke: #000000; stroke-width: 0.8\"/>\n      </g>\n     </g>\n     <g id=\"text_4\">\n      <!-- 8 -->\n      <g transform=\"translate(178.821875 160.398438)scale(0.1 -0.1)\">\n       <defs>\n        <path id=\"DejaVuSans-38\" d=\"M 2034 2216 \nQ 1584 2216 1326 1975 \nQ 1069 1734 1069 1313 \nQ 1069 891 1326 650 \nQ 1584 409 2034 409 \nQ 2484 409 2743 651 \nQ 3003 894 3003 1313 \nQ 3003 1734 2745 1975 \nQ 2488 2216 2034 2216 \nz\nM 1403 2484 \nQ 997 2584 770 2862 \nQ 544 3141 544 3541 \nQ 544 4100 942 4425 \nQ 1341 4750 2034 4750 \nQ 2731 4750 3128 4425 \nQ 3525 4100 3525 3541 \nQ 3525 3141 3298 2862 \nQ 3072 2584 2669 2484 \nQ 3125 2378 3379 2068 \nQ 3634 1759 3634 1313 \nQ 3634 634 3220 271 \nQ 2806 -91 2034 -91 \nQ 1263 -91 848 271 \nQ 434 634 434 1313 \nQ 434 1759 690 2068 \nQ 947 2378 1403 2484 \nz\nM 1172 3481 \nQ 1172 3119 1398 2916 \nQ 1625 2713 2034 2713 \nQ 2441 2713 2670 2916 \nQ 2900 3119 2900 3481 \nQ 2900 3844 2670 4047 \nQ 2441 4250 2034 4250 \nQ 1625 4250 1398 4047 \nQ 1172 3844 1172 3481 \nz\n\" transform=\"scale(0.015625)\"/>\n       </defs>\n       <use xlink:href=\"#DejaVuSans-38\"/>\n      </g>\n     </g>\n    </g>\n    <g id=\"xtick_5\">\n     <g id=\"line2d_9\">\n      <path d=\"M 225.403125 145.8 \nL 225.403125 7.2 \n\" clip-path=\"url(#pa262f73fea)\" style=\"fill: none; stroke: #b0b0b0; stroke-width: 0.8; stroke-linecap: square\"/>\n     </g>\n     <g id=\"line2d_10\">\n      <g>\n       <use xlink:href=\"#m619e626afa\" x=\"225.403125\" y=\"145.8\" style=\"stroke: #000000; stroke-width: 0.8\"/>\n      </g>\n     </g>\n     <g id=\"text_5\">\n      <!-- 10 -->\n      <g transform=\"translate(219.040625 160.398438)scale(0.1 -0.1)\">\n       <defs>\n        <path id=\"DejaVuSans-31\" d=\"M 794 531 \nL 1825 531 \nL 1825 4091 \nL 703 3866 \nL 703 4441 \nL 1819 4666 \nL 2450 4666 \nL 2450 531 \nL 3481 531 \nL 3481 0 \nL 794 0 \nL 794 531 \nz\n\" transform=\"scale(0.015625)\"/>\n        <path id=\"DejaVuSans-30\" d=\"M 2034 4250 \nQ 1547 4250 1301 3770 \nQ 1056 3291 1056 2328 \nQ 1056 1369 1301 889 \nQ 1547 409 2034 409 \nQ 2525 409 2770 889 \nQ 3016 1369 3016 2328 \nQ 3016 3291 2770 3770 \nQ 2525 4250 2034 4250 \nz\nM 2034 4750 \nQ 2819 4750 3233 4129 \nQ 3647 3509 3647 2328 \nQ 3647 1150 3233 529 \nQ 2819 -91 2034 -91 \nQ 1250 -91 836 529 \nQ 422 1150 422 2328 \nQ 422 3509 836 4129 \nQ 1250 4750 2034 4750 \nz\n\" transform=\"scale(0.015625)\"/>\n       </defs>\n       <use xlink:href=\"#DejaVuSans-31\"/>\n       <use xlink:href=\"#DejaVuSans-30\" x=\"63.623047\"/>\n      </g>\n     </g>\n    </g>\n    <g id=\"text_6\">\n     <!-- epoch -->\n     <g transform=\"translate(112.525 174.076563)scale(0.1 -0.1)\">\n      <defs>\n       <path id=\"DejaVuSans-65\" d=\"M 3597 1894 \nL 3597 1613 \nL 953 1613 \nQ 991 1019 1311 708 \nQ 1631 397 2203 397 \nQ 2534 397 2845 478 \nQ 3156 559 3463 722 \nL 3463 178 \nQ 3153 47 2828 -22 \nQ 2503 -91 2169 -91 \nQ 1331 -91 842 396 \nQ 353 884 353 1716 \nQ 353 2575 817 3079 \nQ 1281 3584 2069 3584 \nQ 2775 3584 3186 3129 \nQ 3597 2675 3597 1894 \nz\nM 3022 2063 \nQ 3016 2534 2758 2815 \nQ 2500 3097 2075 3097 \nQ 1594 3097 1305 2825 \nQ 1016 2553 972 2059 \nL 3022 2063 \nz\n\" transform=\"scale(0.015625)\"/>\n       <path id=\"DejaVuSans-70\" d=\"M 1159 525 \nL 1159 -1331 \nL 581 -1331 \nL 581 3500 \nL 1159 3500 \nL 1159 2969 \nQ 1341 3281 1617 3432 \nQ 1894 3584 2278 3584 \nQ 2916 3584 3314 3078 \nQ 3713 2572 3713 1747 \nQ 3713 922 3314 415 \nQ 2916 -91 2278 -91 \nQ 1894 -91 1617 61 \nQ 1341 213 1159 525 \nz\nM 3116 1747 \nQ 3116 2381 2855 2742 \nQ 2594 3103 2138 3103 \nQ 1681 3103 1420 2742 \nQ 1159 2381 1159 1747 \nQ 1159 1113 1420 752 \nQ 1681 391 2138 391 \nQ 2594 391 2855 752 \nQ 3116 1113 3116 1747 \nz\n\" transform=\"scale(0.015625)\"/>\n       <path id=\"DejaVuSans-6f\" d=\"M 1959 3097 \nQ 1497 3097 1228 2736 \nQ 959 2375 959 1747 \nQ 959 1119 1226 758 \nQ 1494 397 1959 397 \nQ 2419 397 2687 759 \nQ 2956 1122 2956 1747 \nQ 2956 2369 2687 2733 \nQ 2419 3097 1959 3097 \nz\nM 1959 3584 \nQ 2709 3584 3137 3096 \nQ 3566 2609 3566 1747 \nQ 3566 888 3137 398 \nQ 2709 -91 1959 -91 \nQ 1206 -91 779 398 \nQ 353 888 353 1747 \nQ 353 2609 779 3096 \nQ 1206 3584 1959 3584 \nz\n\" transform=\"scale(0.015625)\"/>\n       <path id=\"DejaVuSans-63\" d=\"M 3122 3366 \nL 3122 2828 \nQ 2878 2963 2633 3030 \nQ 2388 3097 2138 3097 \nQ 1578 3097 1268 2742 \nQ 959 2388 959 1747 \nQ 959 1106 1268 751 \nQ 1578 397 2138 397 \nQ 2388 397 2633 464 \nQ 2878 531 3122 666 \nL 3122 134 \nQ 2881 22 2623 -34 \nQ 2366 -91 2075 -91 \nQ 1284 -91 818 406 \nQ 353 903 353 1747 \nQ 353 2603 823 3093 \nQ 1294 3584 2113 3584 \nQ 2378 3584 2631 3529 \nQ 2884 3475 3122 3366 \nz\n\" transform=\"scale(0.015625)\"/>\n       <path id=\"DejaVuSans-68\" d=\"M 3513 2113 \nL 3513 0 \nL 2938 0 \nL 2938 2094 \nQ 2938 2591 2744 2837 \nQ 2550 3084 2163 3084 \nQ 1697 3084 1428 2787 \nQ 1159 2491 1159 1978 \nL 1159 0 \nL 581 0 \nL 581 4863 \nL 1159 4863 \nL 1159 2956 \nQ 1366 3272 1645 3428 \nQ 1925 3584 2291 3584 \nQ 2894 3584 3203 3211 \nQ 3513 2838 3513 2113 \nz\n\" transform=\"scale(0.015625)\"/>\n      </defs>\n      <use xlink:href=\"#DejaVuSans-65\"/>\n      <use xlink:href=\"#DejaVuSans-70\" x=\"61.523438\"/>\n      <use xlink:href=\"#DejaVuSans-6f\" x=\"125\"/>\n      <use xlink:href=\"#DejaVuSans-63\" x=\"186.181641\"/>\n      <use xlink:href=\"#DejaVuSans-68\" x=\"241.162109\"/>\n     </g>\n    </g>\n   </g>\n   <g id=\"matplotlib.axis_2\">\n    <g id=\"ytick_1\">\n     <g id=\"line2d_11\">\n      <path d=\"M 30.103125 145.068833 \nL 225.403125 145.068833 \n\" clip-path=\"url(#pa262f73fea)\" style=\"fill: none; stroke: #b0b0b0; stroke-width: 0.8; stroke-linecap: square\"/>\n     </g>\n     <g id=\"line2d_12\">\n      <defs>\n       <path id=\"m9a1f38af41\" d=\"M 0 0 \nL -3.5 0 \n\" style=\"stroke: #000000; stroke-width: 0.8\"/>\n      </defs>\n      <g>\n       <use xlink:href=\"#m9a1f38af41\" x=\"30.103125\" y=\"145.068833\" style=\"stroke: #000000; stroke-width: 0.8\"/>\n      </g>\n     </g>\n     <g id=\"text_7\">\n      <!-- 0.0 -->\n      <g transform=\"translate(7.2 148.868051)scale(0.1 -0.1)\">\n       <defs>\n        <path id=\"DejaVuSans-2e\" d=\"M 684 794 \nL 1344 794 \nL 1344 0 \nL 684 0 \nL 684 794 \nz\n\" transform=\"scale(0.015625)\"/>\n       </defs>\n       <use xlink:href=\"#DejaVuSans-30\"/>\n       <use xlink:href=\"#DejaVuSans-2e\" x=\"63.623047\"/>\n       <use xlink:href=\"#DejaVuSans-30\" x=\"95.410156\"/>\n      </g>\n     </g>\n    </g>\n    <g id=\"ytick_2\">\n     <g id=\"line2d_13\">\n      <path d=\"M 30.103125 117.22467 \nL 225.403125 117.22467 \n\" clip-path=\"url(#pa262f73fea)\" style=\"fill: none; stroke: #b0b0b0; stroke-width: 0.8; stroke-linecap: square\"/>\n     </g>\n     <g id=\"line2d_14\">\n      <g>\n       <use xlink:href=\"#m9a1f38af41\" x=\"30.103125\" y=\"117.22467\" style=\"stroke: #000000; stroke-width: 0.8\"/>\n      </g>\n     </g>\n     <g id=\"text_8\">\n      <!-- 0.5 -->\n      <g transform=\"translate(7.2 121.023888)scale(0.1 -0.1)\">\n       <defs>\n        <path id=\"DejaVuSans-35\" d=\"M 691 4666 \nL 3169 4666 \nL 3169 4134 \nL 1269 4134 \nL 1269 2991 \nQ 1406 3038 1543 3061 \nQ 1681 3084 1819 3084 \nQ 2600 3084 3056 2656 \nQ 3513 2228 3513 1497 \nQ 3513 744 3044 326 \nQ 2575 -91 1722 -91 \nQ 1428 -91 1123 -41 \nQ 819 9 494 109 \nL 494 744 \nQ 775 591 1075 516 \nQ 1375 441 1709 441 \nQ 2250 441 2565 725 \nQ 2881 1009 2881 1497 \nQ 2881 1984 2565 2268 \nQ 2250 2553 1709 2553 \nQ 1456 2553 1204 2497 \nQ 953 2441 691 2322 \nL 691 4666 \nz\n\" transform=\"scale(0.015625)\"/>\n       </defs>\n       <use xlink:href=\"#DejaVuSans-30\"/>\n       <use xlink:href=\"#DejaVuSans-2e\" x=\"63.623047\"/>\n       <use xlink:href=\"#DejaVuSans-35\" x=\"95.410156\"/>\n      </g>\n     </g>\n    </g>\n    <g id=\"ytick_3\">\n     <g id=\"line2d_15\">\n      <path d=\"M 30.103125 89.380507 \nL 225.403125 89.380507 \n\" clip-path=\"url(#pa262f73fea)\" style=\"fill: none; stroke: #b0b0b0; stroke-width: 0.8; stroke-linecap: square\"/>\n     </g>\n     <g id=\"line2d_16\">\n      <g>\n       <use xlink:href=\"#m9a1f38af41\" x=\"30.103125\" y=\"89.380507\" style=\"stroke: #000000; stroke-width: 0.8\"/>\n      </g>\n     </g>\n     <g id=\"text_9\">\n      <!-- 1.0 -->\n      <g transform=\"translate(7.2 93.179725)scale(0.1 -0.1)\">\n       <use xlink:href=\"#DejaVuSans-31\"/>\n       <use xlink:href=\"#DejaVuSans-2e\" x=\"63.623047\"/>\n       <use xlink:href=\"#DejaVuSans-30\" x=\"95.410156\"/>\n      </g>\n     </g>\n    </g>\n    <g id=\"ytick_4\">\n     <g id=\"line2d_17\">\n      <path d=\"M 30.103125 61.536344 \nL 225.403125 61.536344 \n\" clip-path=\"url(#pa262f73fea)\" style=\"fill: none; stroke: #b0b0b0; stroke-width: 0.8; stroke-linecap: square\"/>\n     </g>\n     <g id=\"line2d_18\">\n      <g>\n       <use xlink:href=\"#m9a1f38af41\" x=\"30.103125\" y=\"61.536344\" style=\"stroke: #000000; stroke-width: 0.8\"/>\n      </g>\n     </g>\n     <g id=\"text_10\">\n      <!-- 1.5 -->\n      <g transform=\"translate(7.2 65.335562)scale(0.1 -0.1)\">\n       <use xlink:href=\"#DejaVuSans-31\"/>\n       <use xlink:href=\"#DejaVuSans-2e\" x=\"63.623047\"/>\n       <use xlink:href=\"#DejaVuSans-35\" x=\"95.410156\"/>\n      </g>\n     </g>\n    </g>\n    <g id=\"ytick_5\">\n     <g id=\"line2d_19\">\n      <path d=\"M 30.103125 33.692181 \nL 225.403125 33.692181 \n\" clip-path=\"url(#pa262f73fea)\" style=\"fill: none; stroke: #b0b0b0; stroke-width: 0.8; stroke-linecap: square\"/>\n     </g>\n     <g id=\"line2d_20\">\n      <g>\n       <use xlink:href=\"#m9a1f38af41\" x=\"30.103125\" y=\"33.692181\" style=\"stroke: #000000; stroke-width: 0.8\"/>\n      </g>\n     </g>\n     <g id=\"text_11\">\n      <!-- 2.0 -->\n      <g transform=\"translate(7.2 37.491399)scale(0.1 -0.1)\">\n       <use xlink:href=\"#DejaVuSans-32\"/>\n       <use xlink:href=\"#DejaVuSans-2e\" x=\"63.623047\"/>\n       <use xlink:href=\"#DejaVuSans-30\" x=\"95.410156\"/>\n      </g>\n     </g>\n    </g>\n   </g>\n   <g id=\"line2d_21\">\n    <path d=\"M 12.743125 13.5 \nL 17.083125 14.889244 \nL 21.423125 15.417919 \nL 25.763125 15.731458 \nL 30.103125 15.985754 \nL 34.443125 24.574175 \nL 38.783125 44.54016 \nL 43.123125 55.897478 \nL 47.463125 63.270576 \nL 51.803125 68.449637 \nL 56.143125 92.976552 \nL 60.483125 94.172077 \nL 64.823125 95.037388 \nL 69.163125 96.217845 \nL 73.503125 97.30211 \nL 77.843125 105.168424 \nL 82.183125 105.369415 \nL 86.523125 105.332608 \nL 90.863125 105.468305 \nL 95.203125 106.035744 \nL 99.543125 109.376465 \nL 103.883125 109.050167 \nL 108.223125 109.305314 \nL 112.563125 109.409584 \nL 116.903125 109.70169 \nL 121.243125 111.967951 \nL 125.583125 111.219031 \nL 129.923125 111.494391 \nL 134.263125 111.993007 \nL 138.603125 112.448246 \nL 142.943125 114.748377 \nL 147.283125 114.701111 \nL 151.623125 114.691832 \nL 155.963125 114.851029 \nL 160.303125 114.860739 \nL 164.643125 116.475607 \nL 168.983125 116.370585 \nL 173.323125 116.613024 \nL 177.663125 116.5498 \nL 182.003125 116.765793 \nL 186.343125 117.42297 \nL 190.683125 117.578304 \nL 195.023125 117.616299 \nL 199.363125 117.969648 \nL 203.703125 118.004263 \nL 208.043125 119.12568 \nL 212.383125 119.199538 \nL 216.723125 119.161654 \nL 221.063125 119.237773 \nL 225.403125 119.26151 \n\" clip-path=\"url(#pa262f73fea)\" style=\"fill: none; stroke: #1f77b4; stroke-width: 1.5; stroke-linecap: square\"/>\n   </g>\n   <g id=\"line2d_22\">\n    <path d=\"M 12.743125 139.338933 \nL 17.083125 139.37596 \nL 21.423125 139.397559 \nL 25.763125 139.299592 \nL 30.103125 139.177936 \nL 34.443125 134.655042 \nL 38.783125 127.802767 \nL 43.123125 123.887953 \nL 47.463125 121.395971 \nL 51.803125 119.450346 \nL 56.143125 110.402479 \nL 60.483125 109.777652 \nL 64.823125 109.175966 \nL 69.163125 108.643706 \nL 73.503125 108.18367 \nL 77.843125 104.885484 \nL 82.183125 104.903998 \nL 86.523125 104.882399 \nL 90.863125 104.823002 \nL 95.203125 104.611264 \nL 99.543125 103.348872 \nL 103.883125 103.360442 \nL 108.223125 103.288703 \nL 112.563125 103.27019 \nL 116.903125 103.173577 \nL 121.243125 102.131615 \nL 125.583125 102.321378 \nL 129.923125 102.275094 \nL 134.263125 102.161699 \nL 138.603125 101.986487 \nL 142.943125 101.057838 \nL 147.283125 101.062466 \nL 151.623125 101.039324 \nL 155.963125 101.01734 \nL 160.303125 100.972032 \nL 164.643125 100.386727 \nL 168.983125 100.46078 \nL 173.323125 100.343529 \nL 177.663125 100.326558 \nL 182.003125 100.185898 \nL 186.343125 99.942405 \nL 190.683125 99.778098 \nL 195.023125 99.854466 \nL 199.363125 99.676275 \nL 203.703125 99.629943 \nL 208.043125 99.248152 \nL 212.383125 99.153271 \nL 216.723125 99.186441 \nL 221.063125 99.132443 \nL 225.403125 99.121323 \n\" clip-path=\"url(#pa262f73fea)\" style=\"fill: none; stroke-dasharray: 5.55,2.4; stroke-dashoffset: 0; stroke: #bf00bf; stroke-width: 1.5\"/>\n   </g>\n   <g id=\"line2d_23\">\n    <path d=\"M 30.103125 139.5 \nL 51.803125 112.301822 \nL 73.503125 112.875411 \nL 95.203125 104.72264 \nL 116.903125 102.500676 \nL 138.603125 102.985165 \nL 160.303125 102.300198 \nL 182.003125 100.740925 \nL 203.703125 100.646255 \nL 225.403125 101.687627 \n\" clip-path=\"url(#pa262f73fea)\" style=\"fill: none; stroke-dasharray: 9.6,2.4,1.5,2.4; stroke-dashoffset: 0; stroke: #008000; stroke-width: 1.5\"/>\n   </g>\n   <g id=\"patch_3\">\n    <path d=\"M 30.103125 145.8 \nL 30.103125 7.2 \n\" style=\"fill: none; stroke: #000000; stroke-width: 0.8; stroke-linejoin: miter; stroke-linecap: square\"/>\n   </g>\n   <g id=\"patch_4\">\n    <path d=\"M 225.403125 145.8 \nL 225.403125 7.2 \n\" style=\"fill: none; stroke: #000000; stroke-width: 0.8; stroke-linejoin: miter; stroke-linecap: square\"/>\n   </g>\n   <g id=\"patch_5\">\n    <path d=\"M 30.103125 145.8 \nL 225.403125 145.8 \n\" style=\"fill: none; stroke: #000000; stroke-width: 0.8; stroke-linejoin: miter; stroke-linecap: square\"/>\n   </g>\n   <g id=\"patch_6\">\n    <path d=\"M 30.103125 7.2 \nL 225.403125 7.2 \n\" style=\"fill: none; stroke: #000000; stroke-width: 0.8; stroke-linejoin: miter; stroke-linecap: square\"/>\n   </g>\n   <g id=\"legend_1\">\n    <g id=\"patch_7\">\n     <path d=\"M 140.634375 59.234375 \nL 218.403125 59.234375 \nQ 220.403125 59.234375 220.403125 57.234375 \nL 220.403125 14.2 \nQ 220.403125 12.2 218.403125 12.2 \nL 140.634375 12.2 \nQ 138.634375 12.2 138.634375 14.2 \nL 138.634375 57.234375 \nQ 138.634375 59.234375 140.634375 59.234375 \nz\n\" style=\"fill: #ffffff; opacity: 0.8; stroke: #cccccc; stroke-linejoin: miter\"/>\n    </g>\n    <g id=\"line2d_24\">\n     <path d=\"M 142.634375 20.298438 \nL 152.634375 20.298438 \nL 162.634375 20.298438 \n\" style=\"fill: none; stroke: #1f77b4; stroke-width: 1.5; stroke-linecap: square\"/>\n    </g>\n    <g id=\"text_12\">\n     <!-- train loss -->\n     <g transform=\"translate(170.634375 23.798438)scale(0.1 -0.1)\">\n      <defs>\n       <path id=\"DejaVuSans-74\" d=\"M 1172 4494 \nL 1172 3500 \nL 2356 3500 \nL 2356 3053 \nL 1172 3053 \nL 1172 1153 \nQ 1172 725 1289 603 \nQ 1406 481 1766 481 \nL 2356 481 \nL 2356 0 \nL 1766 0 \nQ 1100 0 847 248 \nQ 594 497 594 1153 \nL 594 3053 \nL 172 3053 \nL 172 3500 \nL 594 3500 \nL 594 4494 \nL 1172 4494 \nz\n\" transform=\"scale(0.015625)\"/>\n       <path id=\"DejaVuSans-72\" d=\"M 2631 2963 \nQ 2534 3019 2420 3045 \nQ 2306 3072 2169 3072 \nQ 1681 3072 1420 2755 \nQ 1159 2438 1159 1844 \nL 1159 0 \nL 581 0 \nL 581 3500 \nL 1159 3500 \nL 1159 2956 \nQ 1341 3275 1631 3429 \nQ 1922 3584 2338 3584 \nQ 2397 3584 2469 3576 \nQ 2541 3569 2628 3553 \nL 2631 2963 \nz\n\" transform=\"scale(0.015625)\"/>\n       <path id=\"DejaVuSans-61\" d=\"M 2194 1759 \nQ 1497 1759 1228 1600 \nQ 959 1441 959 1056 \nQ 959 750 1161 570 \nQ 1363 391 1709 391 \nQ 2188 391 2477 730 \nQ 2766 1069 2766 1631 \nL 2766 1759 \nL 2194 1759 \nz\nM 3341 1997 \nL 3341 0 \nL 2766 0 \nL 2766 531 \nQ 2569 213 2275 61 \nQ 1981 -91 1556 -91 \nQ 1019 -91 701 211 \nQ 384 513 384 1019 \nQ 384 1609 779 1909 \nQ 1175 2209 1959 2209 \nL 2766 2209 \nL 2766 2266 \nQ 2766 2663 2505 2880 \nQ 2244 3097 1772 3097 \nQ 1472 3097 1187 3025 \nQ 903 2953 641 2809 \nL 641 3341 \nQ 956 3463 1253 3523 \nQ 1550 3584 1831 3584 \nQ 2591 3584 2966 3190 \nQ 3341 2797 3341 1997 \nz\n\" transform=\"scale(0.015625)\"/>\n       <path id=\"DejaVuSans-69\" d=\"M 603 3500 \nL 1178 3500 \nL 1178 0 \nL 603 0 \nL 603 3500 \nz\nM 603 4863 \nL 1178 4863 \nL 1178 4134 \nL 603 4134 \nL 603 4863 \nz\n\" transform=\"scale(0.015625)\"/>\n       <path id=\"DejaVuSans-6e\" d=\"M 3513 2113 \nL 3513 0 \nL 2938 0 \nL 2938 2094 \nQ 2938 2591 2744 2837 \nQ 2550 3084 2163 3084 \nQ 1697 3084 1428 2787 \nQ 1159 2491 1159 1978 \nL 1159 0 \nL 581 0 \nL 581 3500 \nL 1159 3500 \nL 1159 2956 \nQ 1366 3272 1645 3428 \nQ 1925 3584 2291 3584 \nQ 2894 3584 3203 3211 \nQ 3513 2838 3513 2113 \nz\n\" transform=\"scale(0.015625)\"/>\n       <path id=\"DejaVuSans-20\" transform=\"scale(0.015625)\"/>\n       <path id=\"DejaVuSans-6c\" d=\"M 603 4863 \nL 1178 4863 \nL 1178 0 \nL 603 0 \nL 603 4863 \nz\n\" transform=\"scale(0.015625)\"/>\n       <path id=\"DejaVuSans-73\" d=\"M 2834 3397 \nL 2834 2853 \nQ 2591 2978 2328 3040 \nQ 2066 3103 1784 3103 \nQ 1356 3103 1142 2972 \nQ 928 2841 928 2578 \nQ 928 2378 1081 2264 \nQ 1234 2150 1697 2047 \nL 1894 2003 \nQ 2506 1872 2764 1633 \nQ 3022 1394 3022 966 \nQ 3022 478 2636 193 \nQ 2250 -91 1575 -91 \nQ 1294 -91 989 -36 \nQ 684 19 347 128 \nL 347 722 \nQ 666 556 975 473 \nQ 1284 391 1588 391 \nQ 1994 391 2212 530 \nQ 2431 669 2431 922 \nQ 2431 1156 2273 1281 \nQ 2116 1406 1581 1522 \nL 1381 1569 \nQ 847 1681 609 1914 \nQ 372 2147 372 2553 \nQ 372 3047 722 3315 \nQ 1072 3584 1716 3584 \nQ 2034 3584 2315 3537 \nQ 2597 3491 2834 3397 \nz\n\" transform=\"scale(0.015625)\"/>\n      </defs>\n      <use xlink:href=\"#DejaVuSans-74\"/>\n      <use xlink:href=\"#DejaVuSans-72\" x=\"39.208984\"/>\n      <use xlink:href=\"#DejaVuSans-61\" x=\"80.322266\"/>\n      <use xlink:href=\"#DejaVuSans-69\" x=\"141.601562\"/>\n      <use xlink:href=\"#DejaVuSans-6e\" x=\"169.384766\"/>\n      <use xlink:href=\"#DejaVuSans-20\" x=\"232.763672\"/>\n      <use xlink:href=\"#DejaVuSans-6c\" x=\"264.550781\"/>\n      <use xlink:href=\"#DejaVuSans-6f\" x=\"292.333984\"/>\n      <use xlink:href=\"#DejaVuSans-73\" x=\"353.515625\"/>\n      <use xlink:href=\"#DejaVuSans-73\" x=\"405.615234\"/>\n     </g>\n    </g>\n    <g id=\"line2d_25\">\n     <path d=\"M 142.634375 34.976563 \nL 152.634375 34.976563 \nL 162.634375 34.976563 \n\" style=\"fill: none; stroke-dasharray: 5.55,2.4; stroke-dashoffset: 0; stroke: #bf00bf; stroke-width: 1.5\"/>\n    </g>\n    <g id=\"text_13\">\n     <!-- train acc -->\n     <g transform=\"translate(170.634375 38.476563)scale(0.1 -0.1)\">\n      <use xlink:href=\"#DejaVuSans-74\"/>\n      <use xlink:href=\"#DejaVuSans-72\" x=\"39.208984\"/>\n      <use xlink:href=\"#DejaVuSans-61\" x=\"80.322266\"/>\n      <use xlink:href=\"#DejaVuSans-69\" x=\"141.601562\"/>\n      <use xlink:href=\"#DejaVuSans-6e\" x=\"169.384766\"/>\n      <use xlink:href=\"#DejaVuSans-20\" x=\"232.763672\"/>\n      <use xlink:href=\"#DejaVuSans-61\" x=\"264.550781\"/>\n      <use xlink:href=\"#DejaVuSans-63\" x=\"325.830078\"/>\n      <use xlink:href=\"#DejaVuSans-63\" x=\"380.810547\"/>\n     </g>\n    </g>\n    <g id=\"line2d_26\">\n     <path d=\"M 142.634375 49.654688 \nL 152.634375 49.654688 \nL 162.634375 49.654688 \n\" style=\"fill: none; stroke-dasharray: 9.6,2.4,1.5,2.4; stroke-dashoffset: 0; stroke: #008000; stroke-width: 1.5\"/>\n    </g>\n    <g id=\"text_14\">\n     <!-- test acc -->\n     <g transform=\"translate(170.634375 53.154688)scale(0.1 -0.1)\">\n      <use xlink:href=\"#DejaVuSans-74\"/>\n      <use xlink:href=\"#DejaVuSans-65\" x=\"39.208984\"/>\n      <use xlink:href=\"#DejaVuSans-73\" x=\"100.732422\"/>\n      <use xlink:href=\"#DejaVuSans-74\" x=\"152.832031\"/>\n      <use xlink:href=\"#DejaVuSans-20\" x=\"192.041016\"/>\n      <use xlink:href=\"#DejaVuSans-61\" x=\"223.828125\"/>\n      <use xlink:href=\"#DejaVuSans-63\" x=\"285.107422\"/>\n      <use xlink:href=\"#DejaVuSans-63\" x=\"340.087891\"/>\n     </g>\n    </g>\n   </g>\n  </g>\n </g>\n <defs>\n  <clipPath id=\"pa262f73fea\">\n   <rect x=\"30.103125\" y=\"7.2\" width=\"195.3\" height=\"138.6\"/>\n  </clipPath>\n </defs>\n</svg>\n"
          },
          "metadata": {}
        }
      ],
      "source": [
        "lr, num_epochs = 0.9, 10\n",
        "train_ch6(net, train_iter, test_iter, num_epochs, lr, d2l.try_gpu())"
      ]
    },
    {
      "cell_type": "markdown",
      "source": [
        "&emsp;&emsp; 代码验证如下："
      ],
      "metadata": {
        "id": "pNRiATeIuQMX"
      }
    },
    {
      "cell_type": "code",
      "execution_count": null,
      "metadata": {
        "pycharm": {
          "name": "#%%\n"
        },
        "id": "f4384f90"
      },
      "outputs": [],
      "source": [
        "net_maxpool = nn.Sequential(\n",
        "    nn.Conv2d(1, 6, kernel_size=5, padding=2), nn.Sigmoid(),\n",
        "    nn.MaxPool2d(kernel_size=2, stride=2),\n",
        "    nn.Conv2d(6, 16, kernel_size=5), nn.Sigmoid(),\n",
        "    nn.MaxPool2d(kernel_size=2, stride=2),\n",
        "    nn.Flatten(),\n",
        "    nn.Linear(16 * 5 * 5, 120), nn.Sigmoid(),\n",
        "    nn.Linear(120, 84), nn.Sigmoid(),\n",
        "    nn.Linear(84, 10))"
      ]
    },
    {
      "cell_type": "code",
      "execution_count": null,
      "metadata": {
        "pycharm": {
          "name": "#%%\n"
        },
        "id": "45dd625c",
        "colab": {
          "base_uri": "https://localhost:8080/"
        },
        "outputId": "d490af62-cb45-420b-a9b7-76672f5d65c2"
      },
      "outputs": [
        {
          "output_type": "stream",
          "name": "stdout",
          "text": [
            "Conv2d output shape: \t torch.Size([1, 6, 28, 28])\n",
            "Sigmoid output shape: \t torch.Size([1, 6, 28, 28])\n",
            "MaxPool2d output shape: \t torch.Size([1, 6, 14, 14])\n",
            "Conv2d output shape: \t torch.Size([1, 16, 10, 10])\n",
            "Sigmoid output shape: \t torch.Size([1, 16, 10, 10])\n",
            "MaxPool2d output shape: \t torch.Size([1, 16, 5, 5])\n",
            "Flatten output shape: \t torch.Size([1, 400])\n",
            "Linear output shape: \t torch.Size([1, 120])\n",
            "Sigmoid output shape: \t torch.Size([1, 120])\n",
            "Linear output shape: \t torch.Size([1, 84])\n",
            "Sigmoid output shape: \t torch.Size([1, 84])\n",
            "Linear output shape: \t torch.Size([1, 10])\n"
          ]
        }
      ],
      "source": [
        "X = torch.rand(size=(1, 1, 28, 28), dtype=torch.float32)\n",
        "for layer in net_maxpool:\n",
        "    X = layer(X)\n",
        "    print(layer.__class__.__name__,'output shape: \\t',X.shape)"
      ]
    },
    {
      "cell_type": "code",
      "execution_count": null,
      "metadata": {
        "pycharm": {
          "name": "#%%\n"
        },
        "id": "8edc091b",
        "colab": {
          "base_uri": "https://localhost:8080/",
          "height": 302
        },
        "outputId": "7bffec6c-22c5-4fea-a67e-e40769ca7f8a"
      },
      "outputs": [
        {
          "output_type": "stream",
          "name": "stdout",
          "text": [
            "loss 0.409, train acc 0.850, test acc 0.834\n",
            "43916.5 examples/sec on cuda:0\n"
          ]
        },
        {
          "output_type": "display_data",
          "data": {
            "text/plain": [
              "<Figure size 350x250 with 1 Axes>"
            ],
            "image/svg+xml": "<?xml version=\"1.0\" encoding=\"utf-8\" standalone=\"no\"?>\n<!DOCTYPE svg PUBLIC \"-//W3C//DTD SVG 1.1//EN\"\n  \"http://www.w3.org/Graphics/SVG/1.1/DTD/svg11.dtd\">\n<svg xmlns:xlink=\"http://www.w3.org/1999/xlink\" width=\"238.965625pt\" height=\"183.35625pt\" viewBox=\"0 0 238.965625 183.35625\" xmlns=\"http://www.w3.org/2000/svg\" version=\"1.1\">\n <metadata>\n  <rdf:RDF xmlns:dc=\"http://purl.org/dc/elements/1.1/\" xmlns:cc=\"http://creativecommons.org/ns#\" xmlns:rdf=\"http://www.w3.org/1999/02/22-rdf-syntax-ns#\">\n   <cc:Work>\n    <dc:type rdf:resource=\"http://purl.org/dc/dcmitype/StillImage\"/>\n    <dc:date>2023-04-20T10:12:16.972000</dc:date>\n    <dc:format>image/svg+xml</dc:format>\n    <dc:creator>\n     <cc:Agent>\n      <dc:title>Matplotlib v3.5.1, https://matplotlib.org/</dc:title>\n     </cc:Agent>\n    </dc:creator>\n   </cc:Work>\n  </rdf:RDF>\n </metadata>\n <defs>\n  <style type=\"text/css\">*{stroke-linejoin: round; stroke-linecap: butt}</style>\n </defs>\n <g id=\"figure_1\">\n  <g id=\"patch_1\">\n   <path d=\"M 0 183.35625 \nL 238.965625 183.35625 \nL 238.965625 0 \nL 0 0 \nz\n\" style=\"fill: #ffffff\"/>\n  </g>\n  <g id=\"axes_1\">\n   <g id=\"patch_2\">\n    <path d=\"M 30.103125 145.8 \nL 225.403125 145.8 \nL 225.403125 7.2 \nL 30.103125 7.2 \nz\n\" style=\"fill: #ffffff\"/>\n   </g>\n   <g id=\"matplotlib.axis_1\">\n    <g id=\"xtick_1\">\n     <g id=\"line2d_1\">\n      <path d=\"M 51.803125 145.8 \nL 51.803125 7.2 \n\" clip-path=\"url(#p56e4218d63)\" style=\"fill: none; stroke: #b0b0b0; stroke-width: 0.8; stroke-linecap: square\"/>\n     </g>\n     <g id=\"line2d_2\">\n      <defs>\n       <path id=\"md33f95f502\" d=\"M 0 0 \nL 0 3.5 \n\" style=\"stroke: #000000; stroke-width: 0.8\"/>\n      </defs>\n      <g>\n       <use xlink:href=\"#md33f95f502\" x=\"51.803125\" y=\"145.8\" style=\"stroke: #000000; stroke-width: 0.8\"/>\n      </g>\n     </g>\n     <g id=\"text_1\">\n      <!-- 2 -->\n      <g transform=\"translate(48.621875 160.398438)scale(0.1 -0.1)\">\n       <defs>\n        <path id=\"DejaVuSans-32\" d=\"M 1228 531 \nL 3431 531 \nL 3431 0 \nL 469 0 \nL 469 531 \nQ 828 903 1448 1529 \nQ 2069 2156 2228 2338 \nQ 2531 2678 2651 2914 \nQ 2772 3150 2772 3378 \nQ 2772 3750 2511 3984 \nQ 2250 4219 1831 4219 \nQ 1534 4219 1204 4116 \nQ 875 4013 500 3803 \nL 500 4441 \nQ 881 4594 1212 4672 \nQ 1544 4750 1819 4750 \nQ 2544 4750 2975 4387 \nQ 3406 4025 3406 3419 \nQ 3406 3131 3298 2873 \nQ 3191 2616 2906 2266 \nQ 2828 2175 2409 1742 \nQ 1991 1309 1228 531 \nz\n\" transform=\"scale(0.015625)\"/>\n       </defs>\n       <use xlink:href=\"#DejaVuSans-32\"/>\n      </g>\n     </g>\n    </g>\n    <g id=\"xtick_2\">\n     <g id=\"line2d_3\">\n      <path d=\"M 95.203125 145.8 \nL 95.203125 7.2 \n\" clip-path=\"url(#p56e4218d63)\" style=\"fill: none; stroke: #b0b0b0; stroke-width: 0.8; stroke-linecap: square\"/>\n     </g>\n     <g id=\"line2d_4\">\n      <g>\n       <use xlink:href=\"#md33f95f502\" x=\"95.203125\" y=\"145.8\" style=\"stroke: #000000; stroke-width: 0.8\"/>\n      </g>\n     </g>\n     <g id=\"text_2\">\n      <!-- 4 -->\n      <g transform=\"translate(92.021875 160.398438)scale(0.1 -0.1)\">\n       <defs>\n        <path id=\"DejaVuSans-34\" d=\"M 2419 4116 \nL 825 1625 \nL 2419 1625 \nL 2419 4116 \nz\nM 2253 4666 \nL 3047 4666 \nL 3047 1625 \nL 3713 1625 \nL 3713 1100 \nL 3047 1100 \nL 3047 0 \nL 2419 0 \nL 2419 1100 \nL 313 1100 \nL 313 1709 \nL 2253 4666 \nz\n\" transform=\"scale(0.015625)\"/>\n       </defs>\n       <use xlink:href=\"#DejaVuSans-34\"/>\n      </g>\n     </g>\n    </g>\n    <g id=\"xtick_3\">\n     <g id=\"line2d_5\">\n      <path d=\"M 138.603125 145.8 \nL 138.603125 7.2 \n\" clip-path=\"url(#p56e4218d63)\" style=\"fill: none; stroke: #b0b0b0; stroke-width: 0.8; stroke-linecap: square\"/>\n     </g>\n     <g id=\"line2d_6\">\n      <g>\n       <use xlink:href=\"#md33f95f502\" x=\"138.603125\" y=\"145.8\" style=\"stroke: #000000; stroke-width: 0.8\"/>\n      </g>\n     </g>\n     <g id=\"text_3\">\n      <!-- 6 -->\n      <g transform=\"translate(135.421875 160.398438)scale(0.1 -0.1)\">\n       <defs>\n        <path id=\"DejaVuSans-36\" d=\"M 2113 2584 \nQ 1688 2584 1439 2293 \nQ 1191 2003 1191 1497 \nQ 1191 994 1439 701 \nQ 1688 409 2113 409 \nQ 2538 409 2786 701 \nQ 3034 994 3034 1497 \nQ 3034 2003 2786 2293 \nQ 2538 2584 2113 2584 \nz\nM 3366 4563 \nL 3366 3988 \nQ 3128 4100 2886 4159 \nQ 2644 4219 2406 4219 \nQ 1781 4219 1451 3797 \nQ 1122 3375 1075 2522 \nQ 1259 2794 1537 2939 \nQ 1816 3084 2150 3084 \nQ 2853 3084 3261 2657 \nQ 3669 2231 3669 1497 \nQ 3669 778 3244 343 \nQ 2819 -91 2113 -91 \nQ 1303 -91 875 529 \nQ 447 1150 447 2328 \nQ 447 3434 972 4092 \nQ 1497 4750 2381 4750 \nQ 2619 4750 2861 4703 \nQ 3103 4656 3366 4563 \nz\n\" transform=\"scale(0.015625)\"/>\n       </defs>\n       <use xlink:href=\"#DejaVuSans-36\"/>\n      </g>\n     </g>\n    </g>\n    <g id=\"xtick_4\">\n     <g id=\"line2d_7\">\n      <path d=\"M 182.003125 145.8 \nL 182.003125 7.2 \n\" clip-path=\"url(#p56e4218d63)\" style=\"fill: none; stroke: #b0b0b0; stroke-width: 0.8; stroke-linecap: square\"/>\n     </g>\n     <g id=\"line2d_8\">\n      <g>\n       <use xlink:href=\"#md33f95f502\" x=\"182.003125\" y=\"145.8\" style=\"stroke: #000000; stroke-width: 0.8\"/>\n      </g>\n     </g>\n     <g id=\"text_4\">\n      <!-- 8 -->\n      <g transform=\"translate(178.821875 160.398438)scale(0.1 -0.1)\">\n       <defs>\n        <path id=\"DejaVuSans-38\" d=\"M 2034 2216 \nQ 1584 2216 1326 1975 \nQ 1069 1734 1069 1313 \nQ 1069 891 1326 650 \nQ 1584 409 2034 409 \nQ 2484 409 2743 651 \nQ 3003 894 3003 1313 \nQ 3003 1734 2745 1975 \nQ 2488 2216 2034 2216 \nz\nM 1403 2484 \nQ 997 2584 770 2862 \nQ 544 3141 544 3541 \nQ 544 4100 942 4425 \nQ 1341 4750 2034 4750 \nQ 2731 4750 3128 4425 \nQ 3525 4100 3525 3541 \nQ 3525 3141 3298 2862 \nQ 3072 2584 2669 2484 \nQ 3125 2378 3379 2068 \nQ 3634 1759 3634 1313 \nQ 3634 634 3220 271 \nQ 2806 -91 2034 -91 \nQ 1263 -91 848 271 \nQ 434 634 434 1313 \nQ 434 1759 690 2068 \nQ 947 2378 1403 2484 \nz\nM 1172 3481 \nQ 1172 3119 1398 2916 \nQ 1625 2713 2034 2713 \nQ 2441 2713 2670 2916 \nQ 2900 3119 2900 3481 \nQ 2900 3844 2670 4047 \nQ 2441 4250 2034 4250 \nQ 1625 4250 1398 4047 \nQ 1172 3844 1172 3481 \nz\n\" transform=\"scale(0.015625)\"/>\n       </defs>\n       <use xlink:href=\"#DejaVuSans-38\"/>\n      </g>\n     </g>\n    </g>\n    <g id=\"xtick_5\">\n     <g id=\"line2d_9\">\n      <path d=\"M 225.403125 145.8 \nL 225.403125 7.2 \n\" clip-path=\"url(#p56e4218d63)\" style=\"fill: none; stroke: #b0b0b0; stroke-width: 0.8; stroke-linecap: square\"/>\n     </g>\n     <g id=\"line2d_10\">\n      <g>\n       <use xlink:href=\"#md33f95f502\" x=\"225.403125\" y=\"145.8\" style=\"stroke: #000000; stroke-width: 0.8\"/>\n      </g>\n     </g>\n     <g id=\"text_5\">\n      <!-- 10 -->\n      <g transform=\"translate(219.040625 160.398438)scale(0.1 -0.1)\">\n       <defs>\n        <path id=\"DejaVuSans-31\" d=\"M 794 531 \nL 1825 531 \nL 1825 4091 \nL 703 3866 \nL 703 4441 \nL 1819 4666 \nL 2450 4666 \nL 2450 531 \nL 3481 531 \nL 3481 0 \nL 794 0 \nL 794 531 \nz\n\" transform=\"scale(0.015625)\"/>\n        <path id=\"DejaVuSans-30\" d=\"M 2034 4250 \nQ 1547 4250 1301 3770 \nQ 1056 3291 1056 2328 \nQ 1056 1369 1301 889 \nQ 1547 409 2034 409 \nQ 2525 409 2770 889 \nQ 3016 1369 3016 2328 \nQ 3016 3291 2770 3770 \nQ 2525 4250 2034 4250 \nz\nM 2034 4750 \nQ 2819 4750 3233 4129 \nQ 3647 3509 3647 2328 \nQ 3647 1150 3233 529 \nQ 2819 -91 2034 -91 \nQ 1250 -91 836 529 \nQ 422 1150 422 2328 \nQ 422 3509 836 4129 \nQ 1250 4750 2034 4750 \nz\n\" transform=\"scale(0.015625)\"/>\n       </defs>\n       <use xlink:href=\"#DejaVuSans-31\"/>\n       <use xlink:href=\"#DejaVuSans-30\" x=\"63.623047\"/>\n      </g>\n     </g>\n    </g>\n    <g id=\"text_6\">\n     <!-- epoch -->\n     <g transform=\"translate(112.525 174.076563)scale(0.1 -0.1)\">\n      <defs>\n       <path id=\"DejaVuSans-65\" d=\"M 3597 1894 \nL 3597 1613 \nL 953 1613 \nQ 991 1019 1311 708 \nQ 1631 397 2203 397 \nQ 2534 397 2845 478 \nQ 3156 559 3463 722 \nL 3463 178 \nQ 3153 47 2828 -22 \nQ 2503 -91 2169 -91 \nQ 1331 -91 842 396 \nQ 353 884 353 1716 \nQ 353 2575 817 3079 \nQ 1281 3584 2069 3584 \nQ 2775 3584 3186 3129 \nQ 3597 2675 3597 1894 \nz\nM 3022 2063 \nQ 3016 2534 2758 2815 \nQ 2500 3097 2075 3097 \nQ 1594 3097 1305 2825 \nQ 1016 2553 972 2059 \nL 3022 2063 \nz\n\" transform=\"scale(0.015625)\"/>\n       <path id=\"DejaVuSans-70\" d=\"M 1159 525 \nL 1159 -1331 \nL 581 -1331 \nL 581 3500 \nL 1159 3500 \nL 1159 2969 \nQ 1341 3281 1617 3432 \nQ 1894 3584 2278 3584 \nQ 2916 3584 3314 3078 \nQ 3713 2572 3713 1747 \nQ 3713 922 3314 415 \nQ 2916 -91 2278 -91 \nQ 1894 -91 1617 61 \nQ 1341 213 1159 525 \nz\nM 3116 1747 \nQ 3116 2381 2855 2742 \nQ 2594 3103 2138 3103 \nQ 1681 3103 1420 2742 \nQ 1159 2381 1159 1747 \nQ 1159 1113 1420 752 \nQ 1681 391 2138 391 \nQ 2594 391 2855 752 \nQ 3116 1113 3116 1747 \nz\n\" transform=\"scale(0.015625)\"/>\n       <path id=\"DejaVuSans-6f\" d=\"M 1959 3097 \nQ 1497 3097 1228 2736 \nQ 959 2375 959 1747 \nQ 959 1119 1226 758 \nQ 1494 397 1959 397 \nQ 2419 397 2687 759 \nQ 2956 1122 2956 1747 \nQ 2956 2369 2687 2733 \nQ 2419 3097 1959 3097 \nz\nM 1959 3584 \nQ 2709 3584 3137 3096 \nQ 3566 2609 3566 1747 \nQ 3566 888 3137 398 \nQ 2709 -91 1959 -91 \nQ 1206 -91 779 398 \nQ 353 888 353 1747 \nQ 353 2609 779 3096 \nQ 1206 3584 1959 3584 \nz\n\" transform=\"scale(0.015625)\"/>\n       <path id=\"DejaVuSans-63\" d=\"M 3122 3366 \nL 3122 2828 \nQ 2878 2963 2633 3030 \nQ 2388 3097 2138 3097 \nQ 1578 3097 1268 2742 \nQ 959 2388 959 1747 \nQ 959 1106 1268 751 \nQ 1578 397 2138 397 \nQ 2388 397 2633 464 \nQ 2878 531 3122 666 \nL 3122 134 \nQ 2881 22 2623 -34 \nQ 2366 -91 2075 -91 \nQ 1284 -91 818 406 \nQ 353 903 353 1747 \nQ 353 2603 823 3093 \nQ 1294 3584 2113 3584 \nQ 2378 3584 2631 3529 \nQ 2884 3475 3122 3366 \nz\n\" transform=\"scale(0.015625)\"/>\n       <path id=\"DejaVuSans-68\" d=\"M 3513 2113 \nL 3513 0 \nL 2938 0 \nL 2938 2094 \nQ 2938 2591 2744 2837 \nQ 2550 3084 2163 3084 \nQ 1697 3084 1428 2787 \nQ 1159 2491 1159 1978 \nL 1159 0 \nL 581 0 \nL 581 4863 \nL 1159 4863 \nL 1159 2956 \nQ 1366 3272 1645 3428 \nQ 1925 3584 2291 3584 \nQ 2894 3584 3203 3211 \nQ 3513 2838 3513 2113 \nz\n\" transform=\"scale(0.015625)\"/>\n      </defs>\n      <use xlink:href=\"#DejaVuSans-65\"/>\n      <use xlink:href=\"#DejaVuSans-70\" x=\"61.523438\"/>\n      <use xlink:href=\"#DejaVuSans-6f\" x=\"125\"/>\n      <use xlink:href=\"#DejaVuSans-63\" x=\"186.181641\"/>\n      <use xlink:href=\"#DejaVuSans-68\" x=\"241.162109\"/>\n     </g>\n    </g>\n   </g>\n   <g id=\"matplotlib.axis_2\">\n    <g id=\"ytick_1\">\n     <g id=\"line2d_11\">\n      <path d=\"M 30.103125 144.882619 \nL 225.403125 144.882619 \n\" clip-path=\"url(#p56e4218d63)\" style=\"fill: none; stroke: #b0b0b0; stroke-width: 0.8; stroke-linecap: square\"/>\n     </g>\n     <g id=\"line2d_12\">\n      <defs>\n       <path id=\"mfb6c15a6ea\" d=\"M 0 0 \nL -3.5 0 \n\" style=\"stroke: #000000; stroke-width: 0.8\"/>\n      </defs>\n      <g>\n       <use xlink:href=\"#mfb6c15a6ea\" x=\"30.103125\" y=\"144.882619\" style=\"stroke: #000000; stroke-width: 0.8\"/>\n      </g>\n     </g>\n     <g id=\"text_7\">\n      <!-- 0.0 -->\n      <g transform=\"translate(7.2 148.681838)scale(0.1 -0.1)\">\n       <defs>\n        <path id=\"DejaVuSans-2e\" d=\"M 684 794 \nL 1344 794 \nL 1344 0 \nL 684 0 \nL 684 794 \nz\n\" transform=\"scale(0.015625)\"/>\n       </defs>\n       <use xlink:href=\"#DejaVuSans-30\"/>\n       <use xlink:href=\"#DejaVuSans-2e\" x=\"63.623047\"/>\n       <use xlink:href=\"#DejaVuSans-30\" x=\"95.410156\"/>\n      </g>\n     </g>\n    </g>\n    <g id=\"ytick_2\">\n     <g id=\"line2d_13\">\n      <path d=\"M 30.103125 117.015291 \nL 225.403125 117.015291 \n\" clip-path=\"url(#p56e4218d63)\" style=\"fill: none; stroke: #b0b0b0; stroke-width: 0.8; stroke-linecap: square\"/>\n     </g>\n     <g id=\"line2d_14\">\n      <g>\n       <use xlink:href=\"#mfb6c15a6ea\" x=\"30.103125\" y=\"117.015291\" style=\"stroke: #000000; stroke-width: 0.8\"/>\n      </g>\n     </g>\n     <g id=\"text_8\">\n      <!-- 0.5 -->\n      <g transform=\"translate(7.2 120.814509)scale(0.1 -0.1)\">\n       <defs>\n        <path id=\"DejaVuSans-35\" d=\"M 691 4666 \nL 3169 4666 \nL 3169 4134 \nL 1269 4134 \nL 1269 2991 \nQ 1406 3038 1543 3061 \nQ 1681 3084 1819 3084 \nQ 2600 3084 3056 2656 \nQ 3513 2228 3513 1497 \nQ 3513 744 3044 326 \nQ 2575 -91 1722 -91 \nQ 1428 -91 1123 -41 \nQ 819 9 494 109 \nL 494 744 \nQ 775 591 1075 516 \nQ 1375 441 1709 441 \nQ 2250 441 2565 725 \nQ 2881 1009 2881 1497 \nQ 2881 1984 2565 2268 \nQ 2250 2553 1709 2553 \nQ 1456 2553 1204 2497 \nQ 953 2441 691 2322 \nL 691 4666 \nz\n\" transform=\"scale(0.015625)\"/>\n       </defs>\n       <use xlink:href=\"#DejaVuSans-30\"/>\n       <use xlink:href=\"#DejaVuSans-2e\" x=\"63.623047\"/>\n       <use xlink:href=\"#DejaVuSans-35\" x=\"95.410156\"/>\n      </g>\n     </g>\n    </g>\n    <g id=\"ytick_3\">\n     <g id=\"line2d_15\">\n      <path d=\"M 30.103125 89.147962 \nL 225.403125 89.147962 \n\" clip-path=\"url(#p56e4218d63)\" style=\"fill: none; stroke: #b0b0b0; stroke-width: 0.8; stroke-linecap: square\"/>\n     </g>\n     <g id=\"line2d_16\">\n      <g>\n       <use xlink:href=\"#mfb6c15a6ea\" x=\"30.103125\" y=\"89.147962\" style=\"stroke: #000000; stroke-width: 0.8\"/>\n      </g>\n     </g>\n     <g id=\"text_9\">\n      <!-- 1.0 -->\n      <g transform=\"translate(7.2 92.947181)scale(0.1 -0.1)\">\n       <use xlink:href=\"#DejaVuSans-31\"/>\n       <use xlink:href=\"#DejaVuSans-2e\" x=\"63.623047\"/>\n       <use xlink:href=\"#DejaVuSans-30\" x=\"95.410156\"/>\n      </g>\n     </g>\n    </g>\n    <g id=\"ytick_4\">\n     <g id=\"line2d_17\">\n      <path d=\"M 30.103125 61.280634 \nL 225.403125 61.280634 \n\" clip-path=\"url(#p56e4218d63)\" style=\"fill: none; stroke: #b0b0b0; stroke-width: 0.8; stroke-linecap: square\"/>\n     </g>\n     <g id=\"line2d_18\">\n      <g>\n       <use xlink:href=\"#mfb6c15a6ea\" x=\"30.103125\" y=\"61.280634\" style=\"stroke: #000000; stroke-width: 0.8\"/>\n      </g>\n     </g>\n     <g id=\"text_10\">\n      <!-- 1.5 -->\n      <g transform=\"translate(7.2 65.079853)scale(0.1 -0.1)\">\n       <use xlink:href=\"#DejaVuSans-31\"/>\n       <use xlink:href=\"#DejaVuSans-2e\" x=\"63.623047\"/>\n       <use xlink:href=\"#DejaVuSans-35\" x=\"95.410156\"/>\n      </g>\n     </g>\n    </g>\n    <g id=\"ytick_5\">\n     <g id=\"line2d_19\">\n      <path d=\"M 30.103125 33.413305 \nL 225.403125 33.413305 \n\" clip-path=\"url(#p56e4218d63)\" style=\"fill: none; stroke: #b0b0b0; stroke-width: 0.8; stroke-linecap: square\"/>\n     </g>\n     <g id=\"line2d_20\">\n      <g>\n       <use xlink:href=\"#mfb6c15a6ea\" x=\"30.103125\" y=\"33.413305\" style=\"stroke: #000000; stroke-width: 0.8\"/>\n      </g>\n     </g>\n     <g id=\"text_11\">\n      <!-- 2.0 -->\n      <g transform=\"translate(7.2 37.212524)scale(0.1 -0.1)\">\n       <use xlink:href=\"#DejaVuSans-32\"/>\n       <use xlink:href=\"#DejaVuSans-2e\" x=\"63.623047\"/>\n       <use xlink:href=\"#DejaVuSans-30\" x=\"95.410156\"/>\n      </g>\n     </g>\n    </g>\n   </g>\n   <g id=\"line2d_21\">\n    <path d=\"M 12.743125 13.5 \nL 17.083125 14.744307 \nL 21.423125 15.213809 \nL 25.763125 15.492211 \nL 30.103125 15.696749 \nL 34.443125 16.833113 \nL 38.783125 20.964345 \nL 43.123125 36.236668 \nL 47.463125 47.20673 \nL 51.803125 54.976272 \nL 56.143125 90.04141 \nL 60.483125 91.339729 \nL 64.823125 93.252793 \nL 69.163125 94.996954 \nL 73.503125 96.633882 \nL 77.843125 104.84109 \nL 82.183125 105.86229 \nL 86.523125 106.390038 \nL 90.863125 106.761492 \nL 95.203125 107.117764 \nL 99.543125 109.282064 \nL 103.883125 109.943203 \nL 108.223125 110.352161 \nL 112.563125 110.407731 \nL 116.903125 110.900249 \nL 121.243125 112.995505 \nL 125.583125 112.983849 \nL 129.923125 113.296183 \nL 134.263125 113.699285 \nL 138.603125 113.840916 \nL 142.943125 115.886341 \nL 147.283125 115.812717 \nL 151.623125 116.309959 \nL 155.963125 116.487684 \nL 160.303125 116.690461 \nL 164.643125 117.858021 \nL 168.983125 118.364539 \nL 173.323125 118.4087 \nL 177.663125 118.734817 \nL 182.003125 118.829893 \nL 186.343125 119.311793 \nL 190.683125 119.813869 \nL 195.023125 120.271268 \nL 199.363125 120.555096 \nL 203.703125 120.6806 \nL 208.043125 121.48642 \nL 212.383125 121.875898 \nL 216.723125 121.914375 \nL 221.063125 121.95737 \nL 225.403125 122.093462 \n\" clip-path=\"url(#p56e4218d63)\" style=\"fill: none; stroke: #1f77b4; stroke-width: 1.5; stroke-linecap: square\"/>\n   </g>\n   <g id=\"line2d_22\">\n    <path d=\"M 12.743125 139.5 \nL 17.083125 139.370298 \nL 21.423125 139.4089 \nL 25.763125 139.303131 \nL 30.103125 139.250632 \nL 34.443125 138.670836 \nL 38.783125 135.928572 \nL 43.123125 130.65095 \nL 47.463125 126.975683 \nL 51.803125 124.259867 \nL 56.143125 111.470545 \nL 60.483125 110.879939 \nL 64.823125 110.000592 \nL 69.163125 109.153285 \nL 73.503125 108.368987 \nL 77.843125 104.614885 \nL 82.183125 104.269786 \nL 86.523125 104.213428 \nL 90.863125 104.116924 \nL 95.203125 104.001248 \nL 99.543125 103.253018 \nL 103.883125 102.755056 \nL 108.223125 102.615318 \nL 112.563125 102.579032 \nL 116.903125 102.397019 \nL 121.243125 101.349183 \nL 125.583125 101.370028 \nL 129.923125 101.293596 \nL 134.263125 101.13726 \nL 138.603125 101.044525 \nL 142.943125 100.172603 \nL 147.283125 100.202713 \nL 151.623125 99.957978 \nL 155.963125 99.893513 \nL 160.303125 99.76913 \nL 164.643125 99.426819 \nL 168.983125 99.13499 \nL 173.323125 99.122638 \nL 177.663125 98.954334 \nL 182.003125 98.906172 \nL 186.343125 98.449424 \nL 190.683125 98.393838 \nL 195.023125 98.230167 \nL 199.363125 98.108957 \nL 203.703125 98.056218 \nL 208.043125 97.685111 \nL 212.383125 97.580886 \nL 216.723125 97.583202 \nL 221.063125 97.558883 \nL 225.403125 97.510947 \n\" clip-path=\"url(#p56e4218d63)\" style=\"fill: none; stroke-dasharray: 5.55,2.4; stroke-dashoffset: 0; stroke: #bf00bf; stroke-width: 1.5\"/>\n   </g>\n   <g id=\"line2d_23\">\n    <path d=\"M 30.103125 139.309153 \nL 51.803125 112.428328 \nL 73.503125 107.295166 \nL 95.203125 103.77831 \nL 116.903125 103.193096 \nL 138.603125 101.136487 \nL 160.303125 100.98043 \nL 182.003125 100.105396 \nL 203.703125 98.427783 \nL 225.403125 98.405489 \n\" clip-path=\"url(#p56e4218d63)\" style=\"fill: none; stroke-dasharray: 9.6,2.4,1.5,2.4; stroke-dashoffset: 0; stroke: #008000; stroke-width: 1.5\"/>\n   </g>\n   <g id=\"patch_3\">\n    <path d=\"M 30.103125 145.8 \nL 30.103125 7.2 \n\" style=\"fill: none; stroke: #000000; stroke-width: 0.8; stroke-linejoin: miter; stroke-linecap: square\"/>\n   </g>\n   <g id=\"patch_4\">\n    <path d=\"M 225.403125 145.8 \nL 225.403125 7.2 \n\" style=\"fill: none; stroke: #000000; stroke-width: 0.8; stroke-linejoin: miter; stroke-linecap: square\"/>\n   </g>\n   <g id=\"patch_5\">\n    <path d=\"M 30.103125 145.8 \nL 225.403125 145.8 \n\" style=\"fill: none; stroke: #000000; stroke-width: 0.8; stroke-linejoin: miter; stroke-linecap: square\"/>\n   </g>\n   <g id=\"patch_6\">\n    <path d=\"M 30.103125 7.2 \nL 225.403125 7.2 \n\" style=\"fill: none; stroke: #000000; stroke-width: 0.8; stroke-linejoin: miter; stroke-linecap: square\"/>\n   </g>\n   <g id=\"legend_1\">\n    <g id=\"patch_7\">\n     <path d=\"M 140.634375 59.234375 \nL 218.403125 59.234375 \nQ 220.403125 59.234375 220.403125 57.234375 \nL 220.403125 14.2 \nQ 220.403125 12.2 218.403125 12.2 \nL 140.634375 12.2 \nQ 138.634375 12.2 138.634375 14.2 \nL 138.634375 57.234375 \nQ 138.634375 59.234375 140.634375 59.234375 \nz\n\" style=\"fill: #ffffff; opacity: 0.8; stroke: #cccccc; stroke-linejoin: miter\"/>\n    </g>\n    <g id=\"line2d_24\">\n     <path d=\"M 142.634375 20.298438 \nL 152.634375 20.298438 \nL 162.634375 20.298438 \n\" style=\"fill: none; stroke: #1f77b4; stroke-width: 1.5; stroke-linecap: square\"/>\n    </g>\n    <g id=\"text_12\">\n     <!-- train loss -->\n     <g transform=\"translate(170.634375 23.798438)scale(0.1 -0.1)\">\n      <defs>\n       <path id=\"DejaVuSans-74\" d=\"M 1172 4494 \nL 1172 3500 \nL 2356 3500 \nL 2356 3053 \nL 1172 3053 \nL 1172 1153 \nQ 1172 725 1289 603 \nQ 1406 481 1766 481 \nL 2356 481 \nL 2356 0 \nL 1766 0 \nQ 1100 0 847 248 \nQ 594 497 594 1153 \nL 594 3053 \nL 172 3053 \nL 172 3500 \nL 594 3500 \nL 594 4494 \nL 1172 4494 \nz\n\" transform=\"scale(0.015625)\"/>\n       <path id=\"DejaVuSans-72\" d=\"M 2631 2963 \nQ 2534 3019 2420 3045 \nQ 2306 3072 2169 3072 \nQ 1681 3072 1420 2755 \nQ 1159 2438 1159 1844 \nL 1159 0 \nL 581 0 \nL 581 3500 \nL 1159 3500 \nL 1159 2956 \nQ 1341 3275 1631 3429 \nQ 1922 3584 2338 3584 \nQ 2397 3584 2469 3576 \nQ 2541 3569 2628 3553 \nL 2631 2963 \nz\n\" transform=\"scale(0.015625)\"/>\n       <path id=\"DejaVuSans-61\" d=\"M 2194 1759 \nQ 1497 1759 1228 1600 \nQ 959 1441 959 1056 \nQ 959 750 1161 570 \nQ 1363 391 1709 391 \nQ 2188 391 2477 730 \nQ 2766 1069 2766 1631 \nL 2766 1759 \nL 2194 1759 \nz\nM 3341 1997 \nL 3341 0 \nL 2766 0 \nL 2766 531 \nQ 2569 213 2275 61 \nQ 1981 -91 1556 -91 \nQ 1019 -91 701 211 \nQ 384 513 384 1019 \nQ 384 1609 779 1909 \nQ 1175 2209 1959 2209 \nL 2766 2209 \nL 2766 2266 \nQ 2766 2663 2505 2880 \nQ 2244 3097 1772 3097 \nQ 1472 3097 1187 3025 \nQ 903 2953 641 2809 \nL 641 3341 \nQ 956 3463 1253 3523 \nQ 1550 3584 1831 3584 \nQ 2591 3584 2966 3190 \nQ 3341 2797 3341 1997 \nz\n\" transform=\"scale(0.015625)\"/>\n       <path id=\"DejaVuSans-69\" d=\"M 603 3500 \nL 1178 3500 \nL 1178 0 \nL 603 0 \nL 603 3500 \nz\nM 603 4863 \nL 1178 4863 \nL 1178 4134 \nL 603 4134 \nL 603 4863 \nz\n\" transform=\"scale(0.015625)\"/>\n       <path id=\"DejaVuSans-6e\" d=\"M 3513 2113 \nL 3513 0 \nL 2938 0 \nL 2938 2094 \nQ 2938 2591 2744 2837 \nQ 2550 3084 2163 3084 \nQ 1697 3084 1428 2787 \nQ 1159 2491 1159 1978 \nL 1159 0 \nL 581 0 \nL 581 3500 \nL 1159 3500 \nL 1159 2956 \nQ 1366 3272 1645 3428 \nQ 1925 3584 2291 3584 \nQ 2894 3584 3203 3211 \nQ 3513 2838 3513 2113 \nz\n\" transform=\"scale(0.015625)\"/>\n       <path id=\"DejaVuSans-20\" transform=\"scale(0.015625)\"/>\n       <path id=\"DejaVuSans-6c\" d=\"M 603 4863 \nL 1178 4863 \nL 1178 0 \nL 603 0 \nL 603 4863 \nz\n\" transform=\"scale(0.015625)\"/>\n       <path id=\"DejaVuSans-73\" d=\"M 2834 3397 \nL 2834 2853 \nQ 2591 2978 2328 3040 \nQ 2066 3103 1784 3103 \nQ 1356 3103 1142 2972 \nQ 928 2841 928 2578 \nQ 928 2378 1081 2264 \nQ 1234 2150 1697 2047 \nL 1894 2003 \nQ 2506 1872 2764 1633 \nQ 3022 1394 3022 966 \nQ 3022 478 2636 193 \nQ 2250 -91 1575 -91 \nQ 1294 -91 989 -36 \nQ 684 19 347 128 \nL 347 722 \nQ 666 556 975 473 \nQ 1284 391 1588 391 \nQ 1994 391 2212 530 \nQ 2431 669 2431 922 \nQ 2431 1156 2273 1281 \nQ 2116 1406 1581 1522 \nL 1381 1569 \nQ 847 1681 609 1914 \nQ 372 2147 372 2553 \nQ 372 3047 722 3315 \nQ 1072 3584 1716 3584 \nQ 2034 3584 2315 3537 \nQ 2597 3491 2834 3397 \nz\n\" transform=\"scale(0.015625)\"/>\n      </defs>\n      <use xlink:href=\"#DejaVuSans-74\"/>\n      <use xlink:href=\"#DejaVuSans-72\" x=\"39.208984\"/>\n      <use xlink:href=\"#DejaVuSans-61\" x=\"80.322266\"/>\n      <use xlink:href=\"#DejaVuSans-69\" x=\"141.601562\"/>\n      <use xlink:href=\"#DejaVuSans-6e\" x=\"169.384766\"/>\n      <use xlink:href=\"#DejaVuSans-20\" x=\"232.763672\"/>\n      <use xlink:href=\"#DejaVuSans-6c\" x=\"264.550781\"/>\n      <use xlink:href=\"#DejaVuSans-6f\" x=\"292.333984\"/>\n      <use xlink:href=\"#DejaVuSans-73\" x=\"353.515625\"/>\n      <use xlink:href=\"#DejaVuSans-73\" x=\"405.615234\"/>\n     </g>\n    </g>\n    <g id=\"line2d_25\">\n     <path d=\"M 142.634375 34.976563 \nL 152.634375 34.976563 \nL 162.634375 34.976563 \n\" style=\"fill: none; stroke-dasharray: 5.55,2.4; stroke-dashoffset: 0; stroke: #bf00bf; stroke-width: 1.5\"/>\n    </g>\n    <g id=\"text_13\">\n     <!-- train acc -->\n     <g transform=\"translate(170.634375 38.476563)scale(0.1 -0.1)\">\n      <use xlink:href=\"#DejaVuSans-74\"/>\n      <use xlink:href=\"#DejaVuSans-72\" x=\"39.208984\"/>\n      <use xlink:href=\"#DejaVuSans-61\" x=\"80.322266\"/>\n      <use xlink:href=\"#DejaVuSans-69\" x=\"141.601562\"/>\n      <use xlink:href=\"#DejaVuSans-6e\" x=\"169.384766\"/>\n      <use xlink:href=\"#DejaVuSans-20\" x=\"232.763672\"/>\n      <use xlink:href=\"#DejaVuSans-61\" x=\"264.550781\"/>\n      <use xlink:href=\"#DejaVuSans-63\" x=\"325.830078\"/>\n      <use xlink:href=\"#DejaVuSans-63\" x=\"380.810547\"/>\n     </g>\n    </g>\n    <g id=\"line2d_26\">\n     <path d=\"M 142.634375 49.654688 \nL 152.634375 49.654688 \nL 162.634375 49.654688 \n\" style=\"fill: none; stroke-dasharray: 9.6,2.4,1.5,2.4; stroke-dashoffset: 0; stroke: #008000; stroke-width: 1.5\"/>\n    </g>\n    <g id=\"text_14\">\n     <!-- test acc -->\n     <g transform=\"translate(170.634375 53.154688)scale(0.1 -0.1)\">\n      <use xlink:href=\"#DejaVuSans-74\"/>\n      <use xlink:href=\"#DejaVuSans-65\" x=\"39.208984\"/>\n      <use xlink:href=\"#DejaVuSans-73\" x=\"100.732422\"/>\n      <use xlink:href=\"#DejaVuSans-74\" x=\"152.832031\"/>\n      <use xlink:href=\"#DejaVuSans-20\" x=\"192.041016\"/>\n      <use xlink:href=\"#DejaVuSans-61\" x=\"223.828125\"/>\n      <use xlink:href=\"#DejaVuSans-63\" x=\"285.107422\"/>\n      <use xlink:href=\"#DejaVuSans-63\" x=\"340.087891\"/>\n     </g>\n    </g>\n   </g>\n  </g>\n </g>\n <defs>\n  <clipPath id=\"p56e4218d63\">\n   <rect x=\"30.103125\" y=\"7.2\" width=\"195.3\" height=\"138.6\"/>\n  </clipPath>\n </defs>\n</svg>\n"
          },
          "metadata": {}
        }
      ],
      "source": [
        "lr, num_epochs = 0.9, 10\n",
        "train_ch6(net_maxpool, train_iter, test_iter, num_epochs, lr, d2l.try_gpu())"
      ]
    },
    {
      "cell_type": "markdown",
      "source": [
        "&emsp;&emsp; 可见用最大汇聚层替换平均汇聚层后，在训练集和测试集上均得到了更好的结果"
      ],
      "metadata": {
        "id": "q-RxShsf46LS"
      }
    },
    {
      "cell_type": "markdown",
      "metadata": {
        "id": "etARpxbiH6Gt"
      },
      "source": [
        "### 练习 6.6.2\n",
        "\n",
        "尝试构建一个基于LeNet的更复杂的网络，以提高其准确性。\n",
        "1. 调整卷积窗口大小。\n",
        "1. 调整输出通道的数量。\n",
        "1. 调整激活函数（如ReLU）。\n",
        "1. 调整卷积层的数量。\n",
        "1. 调整全连接层的数量。\n",
        "1. 调整学习率和其他训练细节（例如，初始化和轮数）。"
      ]
    },
    {
      "cell_type": "markdown",
      "metadata": {
        "id": "xmc7aQICH6Gt"
      },
      "source": [
        "**解答：** "
      ]
    },
    {
      "cell_type": "markdown",
      "source": [
        "**第1问：**"
      ],
      "metadata": {
        "id": "sjvzTbAXulfz"
      }
    },
    {
      "cell_type": "markdown",
      "source": [
        "&emsp;&emsp; `nn.Conv2d(1, 6, kernel_size = 7)`"
      ],
      "metadata": {
        "id": "j-E6t0GsulmH"
      }
    },
    {
      "cell_type": "markdown",
      "source": [
        "**第2问：**"
      ],
      "metadata": {
        "id": "OnqV2DSSulx5"
      }
    },
    {
      "cell_type": "markdown",
      "source": [
        "&emsp;&emsp; `nn.Conv2d(1, 10, kernel_size = 5)`"
      ],
      "metadata": {
        "id": "Bh0S_tDful5D"
      }
    },
    {
      "cell_type": "markdown",
      "source": [
        "**第3问：**"
      ],
      "metadata": {
        "id": "hPIOeTz_umAj"
      }
    },
    {
      "cell_type": "markdown",
      "source": [
        "&emsp;&emsp; `nn.Conv2d(1, 6, kernel_size = 5).ReLU()`或者直接将`nn.Sigmoid()`改为`nn.ReLU()`"
      ],
      "metadata": {
        "id": "I7wIit-_umHa"
      }
    },
    {
      "cell_type": "markdown",
      "source": [
        "**第4问：**"
      ],
      "metadata": {
        "id": "ev80H6ydumOY"
      }
    },
    {
      "cell_type": "markdown",
      "source": [
        "&emsp;&emsp; 添加`conv3`为`nn.Cov2d(16, 120, kernel_size = 5). ReLU()`"
      ],
      "metadata": {
        "id": "9YahX5BwumU5"
      }
    },
    {
      "cell_type": "markdown",
      "source": [
        "**第5问：**"
      ],
      "metadata": {
        "id": "BKPp_2wBumbv"
      }
    },
    {
      "cell_type": "markdown",
      "source": [
        "&emsp;&emsp; 添加`nn.Linear(84, 20)`并将`nn.Linear(84, 10)`替换为`nn.Linear(20, 10)`，添加`nn.Sigmoid()`"
      ],
      "metadata": {
        "id": "EDpiFmlBumh2"
      }
    },
    {
      "cell_type": "markdown",
      "source": [
        "**第6问：**"
      ],
      "metadata": {
        "id": "BuBEDHOfumpI"
      }
    },
    {
      "cell_type": "markdown",
      "source": [
        "&emsp;&emsp; `lr, num_epochs = 0.1, 50`"
      ],
      "metadata": {
        "id": "Va4i3jXKumvh"
      }
    },
    {
      "cell_type": "markdown",
      "metadata": {
        "id": "uv0dRt72H6Gu"
      },
      "source": [
        "### 练习 6.6.3\n",
        "\n",
        "在MNIST数据集上尝试以上改进的网络。"
      ]
    },
    {
      "cell_type": "markdown",
      "metadata": {
        "id": "Rbz9BNXqH6Gu"
      },
      "source": [
        "**解答：** "
      ]
    },
    {
      "cell_type": "code",
      "execution_count": null,
      "metadata": {
        "pycharm": {
          "name": "#%%\n"
        },
        "id": "082f2fe4"
      },
      "outputs": [],
      "source": [
        "net_improve = nn.Sequential(\n",
        "    nn.Conv2d(1, 6, kernel_size=3, padding=2), nn.ReLU(),\n",
        "    nn.AvgPool2d(kernel_size=2, stride=2),\n",
        "    nn.Conv2d(6, 10, kernel_size=3), nn.ReLU(),\n",
        "    nn.AvgPool2d(kernel_size=2, stride=2),\n",
        "    nn.Conv2d(10, 16, kernel_size=3), nn.ReLU(),\n",
        "    nn.AvgPool2d(kernel_size=2, stride=2),\n",
        "    nn.Flatten(),\n",
        "    nn.Linear(16 * 2 * 2, 120), nn.ReLU(),\n",
        "    nn.Linear(120, 84), nn.ReLU(),\n",
        "    nn.Linear(84, 20), nn.ReLU(),\n",
        "    nn.Linear(20, 10))"
      ]
    },
    {
      "cell_type": "code",
      "execution_count": null,
      "metadata": {
        "pycharm": {
          "name": "#%%\n"
        },
        "id": "35480427",
        "colab": {
          "base_uri": "https://localhost:8080/"
        },
        "outputId": "39fa5e67-df44-4760-feae-a58e0024d56a"
      },
      "outputs": [
        {
          "output_type": "stream",
          "name": "stdout",
          "text": [
            "Conv2d output shape: \t torch.Size([1, 6, 30, 30])\n",
            "ReLU output shape: \t torch.Size([1, 6, 30, 30])\n",
            "AvgPool2d output shape: \t torch.Size([1, 6, 15, 15])\n",
            "Conv2d output shape: \t torch.Size([1, 10, 13, 13])\n",
            "ReLU output shape: \t torch.Size([1, 10, 13, 13])\n",
            "AvgPool2d output shape: \t torch.Size([1, 10, 6, 6])\n",
            "Conv2d output shape: \t torch.Size([1, 16, 4, 4])\n",
            "ReLU output shape: \t torch.Size([1, 16, 4, 4])\n",
            "AvgPool2d output shape: \t torch.Size([1, 16, 2, 2])\n",
            "Flatten output shape: \t torch.Size([1, 64])\n",
            "Linear output shape: \t torch.Size([1, 120])\n",
            "ReLU output shape: \t torch.Size([1, 120])\n",
            "Linear output shape: \t torch.Size([1, 84])\n",
            "ReLU output shape: \t torch.Size([1, 84])\n",
            "Linear output shape: \t torch.Size([1, 20])\n",
            "ReLU output shape: \t torch.Size([1, 20])\n",
            "Linear output shape: \t torch.Size([1, 10])\n"
          ]
        }
      ],
      "source": [
        "X = torch.rand(size=(1, 1, 28, 28), dtype=torch.float32)\n",
        "for layer in net_improve:\n",
        "    X = layer(X)\n",
        "    print(layer.__class__.__name__,'output shape: \\t',X.shape)"
      ]
    },
    {
      "cell_type": "code",
      "execution_count": null,
      "metadata": {
        "pycharm": {
          "name": "#%%\n"
        },
        "id": "5c1fc87f",
        "colab": {
          "base_uri": "https://localhost:8080/",
          "height": 302
        },
        "outputId": "a616aee7-81dc-4307-ffa7-9a084a350103"
      },
      "outputs": [
        {
          "output_type": "stream",
          "name": "stdout",
          "text": [
            "loss 0.275, train acc 0.897, test acc 0.825\n",
            "30035.9 examples/sec on cuda:0\n"
          ]
        },
        {
          "output_type": "display_data",
          "data": {
            "text/plain": [
              "<Figure size 350x250 with 1 Axes>"
            ],
            "image/svg+xml": "<?xml version=\"1.0\" encoding=\"utf-8\" standalone=\"no\"?>\n<!DOCTYPE svg PUBLIC \"-//W3C//DTD SVG 1.1//EN\"\n  \"http://www.w3.org/Graphics/SVG/1.1/DTD/svg11.dtd\">\n<svg xmlns:xlink=\"http://www.w3.org/1999/xlink\" width=\"238.965625pt\" height=\"183.35625pt\" viewBox=\"0 0 238.965625 183.35625\" xmlns=\"http://www.w3.org/2000/svg\" version=\"1.1\">\n <metadata>\n  <rdf:RDF xmlns:dc=\"http://purl.org/dc/elements/1.1/\" xmlns:cc=\"http://creativecommons.org/ns#\" xmlns:rdf=\"http://www.w3.org/1999/02/22-rdf-syntax-ns#\">\n   <cc:Work>\n    <dc:type rdf:resource=\"http://purl.org/dc/dcmitype/StillImage\"/>\n    <dc:date>2023-04-20T10:10:22.257053</dc:date>\n    <dc:format>image/svg+xml</dc:format>\n    <dc:creator>\n     <cc:Agent>\n      <dc:title>Matplotlib v3.5.1, https://matplotlib.org/</dc:title>\n     </cc:Agent>\n    </dc:creator>\n   </cc:Work>\n  </rdf:RDF>\n </metadata>\n <defs>\n  <style type=\"text/css\">*{stroke-linejoin: round; stroke-linecap: butt}</style>\n </defs>\n <g id=\"figure_1\">\n  <g id=\"patch_1\">\n   <path d=\"M 0 183.35625 \nL 238.965625 183.35625 \nL 238.965625 0 \nL 0 0 \nz\n\" style=\"fill: #ffffff\"/>\n  </g>\n  <g id=\"axes_1\">\n   <g id=\"patch_2\">\n    <path d=\"M 30.103125 145.8 \nL 225.403125 145.8 \nL 225.403125 7.2 \nL 30.103125 7.2 \nz\n\" style=\"fill: #ffffff\"/>\n   </g>\n   <g id=\"matplotlib.axis_1\">\n    <g id=\"xtick_1\">\n     <g id=\"line2d_1\">\n      <path d=\"M 65.974554 145.8 \nL 65.974554 7.2 \n\" clip-path=\"url(#pd705c6d25f)\" style=\"fill: none; stroke: #b0b0b0; stroke-width: 0.8; stroke-linecap: square\"/>\n     </g>\n     <g id=\"line2d_2\">\n      <defs>\n       <path id=\"m2e5e1fe88b\" d=\"M 0 0 \nL 0 3.5 \n\" style=\"stroke: #000000; stroke-width: 0.8\"/>\n      </defs>\n      <g>\n       <use xlink:href=\"#m2e5e1fe88b\" x=\"65.974554\" y=\"145.8\" style=\"stroke: #000000; stroke-width: 0.8\"/>\n      </g>\n     </g>\n     <g id=\"text_1\">\n      <!-- 10 -->\n      <g transform=\"translate(59.612054 160.398438)scale(0.1 -0.1)\">\n       <defs>\n        <path id=\"DejaVuSans-31\" d=\"M 794 531 \nL 1825 531 \nL 1825 4091 \nL 703 3866 \nL 703 4441 \nL 1819 4666 \nL 2450 4666 \nL 2450 531 \nL 3481 531 \nL 3481 0 \nL 794 0 \nL 794 531 \nz\n\" transform=\"scale(0.015625)\"/>\n        <path id=\"DejaVuSans-30\" d=\"M 2034 4250 \nQ 1547 4250 1301 3770 \nQ 1056 3291 1056 2328 \nQ 1056 1369 1301 889 \nQ 1547 409 2034 409 \nQ 2525 409 2770 889 \nQ 3016 1369 3016 2328 \nQ 3016 3291 2770 3770 \nQ 2525 4250 2034 4250 \nz\nM 2034 4750 \nQ 2819 4750 3233 4129 \nQ 3647 3509 3647 2328 \nQ 3647 1150 3233 529 \nQ 2819 -91 2034 -91 \nQ 1250 -91 836 529 \nQ 422 1150 422 2328 \nQ 422 3509 836 4129 \nQ 1250 4750 2034 4750 \nz\n\" transform=\"scale(0.015625)\"/>\n       </defs>\n       <use xlink:href=\"#DejaVuSans-31\"/>\n       <use xlink:href=\"#DejaVuSans-30\" x=\"63.623047\"/>\n      </g>\n     </g>\n    </g>\n    <g id=\"xtick_2\">\n     <g id=\"line2d_3\">\n      <path d=\"M 105.831696 145.8 \nL 105.831696 7.2 \n\" clip-path=\"url(#pd705c6d25f)\" style=\"fill: none; stroke: #b0b0b0; stroke-width: 0.8; stroke-linecap: square\"/>\n     </g>\n     <g id=\"line2d_4\">\n      <g>\n       <use xlink:href=\"#m2e5e1fe88b\" x=\"105.831696\" y=\"145.8\" style=\"stroke: #000000; stroke-width: 0.8\"/>\n      </g>\n     </g>\n     <g id=\"text_2\">\n      <!-- 20 -->\n      <g transform=\"translate(99.469196 160.398438)scale(0.1 -0.1)\">\n       <defs>\n        <path id=\"DejaVuSans-32\" d=\"M 1228 531 \nL 3431 531 \nL 3431 0 \nL 469 0 \nL 469 531 \nQ 828 903 1448 1529 \nQ 2069 2156 2228 2338 \nQ 2531 2678 2651 2914 \nQ 2772 3150 2772 3378 \nQ 2772 3750 2511 3984 \nQ 2250 4219 1831 4219 \nQ 1534 4219 1204 4116 \nQ 875 4013 500 3803 \nL 500 4441 \nQ 881 4594 1212 4672 \nQ 1544 4750 1819 4750 \nQ 2544 4750 2975 4387 \nQ 3406 4025 3406 3419 \nQ 3406 3131 3298 2873 \nQ 3191 2616 2906 2266 \nQ 2828 2175 2409 1742 \nQ 1991 1309 1228 531 \nz\n\" transform=\"scale(0.015625)\"/>\n       </defs>\n       <use xlink:href=\"#DejaVuSans-32\"/>\n       <use xlink:href=\"#DejaVuSans-30\" x=\"63.623047\"/>\n      </g>\n     </g>\n    </g>\n    <g id=\"xtick_3\">\n     <g id=\"line2d_5\">\n      <path d=\"M 145.688839 145.8 \nL 145.688839 7.2 \n\" clip-path=\"url(#pd705c6d25f)\" style=\"fill: none; stroke: #b0b0b0; stroke-width: 0.8; stroke-linecap: square\"/>\n     </g>\n     <g id=\"line2d_6\">\n      <g>\n       <use xlink:href=\"#m2e5e1fe88b\" x=\"145.688839\" y=\"145.8\" style=\"stroke: #000000; stroke-width: 0.8\"/>\n      </g>\n     </g>\n     <g id=\"text_3\">\n      <!-- 30 -->\n      <g transform=\"translate(139.326339 160.398438)scale(0.1 -0.1)\">\n       <defs>\n        <path id=\"DejaVuSans-33\" d=\"M 2597 2516 \nQ 3050 2419 3304 2112 \nQ 3559 1806 3559 1356 \nQ 3559 666 3084 287 \nQ 2609 -91 1734 -91 \nQ 1441 -91 1130 -33 \nQ 819 25 488 141 \nL 488 750 \nQ 750 597 1062 519 \nQ 1375 441 1716 441 \nQ 2309 441 2620 675 \nQ 2931 909 2931 1356 \nQ 2931 1769 2642 2001 \nQ 2353 2234 1838 2234 \nL 1294 2234 \nL 1294 2753 \nL 1863 2753 \nQ 2328 2753 2575 2939 \nQ 2822 3125 2822 3475 \nQ 2822 3834 2567 4026 \nQ 2313 4219 1838 4219 \nQ 1578 4219 1281 4162 \nQ 984 4106 628 3988 \nL 628 4550 \nQ 988 4650 1302 4700 \nQ 1616 4750 1894 4750 \nQ 2613 4750 3031 4423 \nQ 3450 4097 3450 3541 \nQ 3450 3153 3228 2886 \nQ 3006 2619 2597 2516 \nz\n\" transform=\"scale(0.015625)\"/>\n       </defs>\n       <use xlink:href=\"#DejaVuSans-33\"/>\n       <use xlink:href=\"#DejaVuSans-30\" x=\"63.623047\"/>\n      </g>\n     </g>\n    </g>\n    <g id=\"xtick_4\">\n     <g id=\"line2d_7\">\n      <path d=\"M 185.545982 145.8 \nL 185.545982 7.2 \n\" clip-path=\"url(#pd705c6d25f)\" style=\"fill: none; stroke: #b0b0b0; stroke-width: 0.8; stroke-linecap: square\"/>\n     </g>\n     <g id=\"line2d_8\">\n      <g>\n       <use xlink:href=\"#m2e5e1fe88b\" x=\"185.545982\" y=\"145.8\" style=\"stroke: #000000; stroke-width: 0.8\"/>\n      </g>\n     </g>\n     <g id=\"text_4\">\n      <!-- 40 -->\n      <g transform=\"translate(179.183482 160.398438)scale(0.1 -0.1)\">\n       <defs>\n        <path id=\"DejaVuSans-34\" d=\"M 2419 4116 \nL 825 1625 \nL 2419 1625 \nL 2419 4116 \nz\nM 2253 4666 \nL 3047 4666 \nL 3047 1625 \nL 3713 1625 \nL 3713 1100 \nL 3047 1100 \nL 3047 0 \nL 2419 0 \nL 2419 1100 \nL 313 1100 \nL 313 1709 \nL 2253 4666 \nz\n\" transform=\"scale(0.015625)\"/>\n       </defs>\n       <use xlink:href=\"#DejaVuSans-34\"/>\n       <use xlink:href=\"#DejaVuSans-30\" x=\"63.623047\"/>\n      </g>\n     </g>\n    </g>\n    <g id=\"xtick_5\">\n     <g id=\"line2d_9\">\n      <path d=\"M 225.403125 145.8 \nL 225.403125 7.2 \n\" clip-path=\"url(#pd705c6d25f)\" style=\"fill: none; stroke: #b0b0b0; stroke-width: 0.8; stroke-linecap: square\"/>\n     </g>\n     <g id=\"line2d_10\">\n      <g>\n       <use xlink:href=\"#m2e5e1fe88b\" x=\"225.403125\" y=\"145.8\" style=\"stroke: #000000; stroke-width: 0.8\"/>\n      </g>\n     </g>\n     <g id=\"text_5\">\n      <!-- 50 -->\n      <g transform=\"translate(219.040625 160.398438)scale(0.1 -0.1)\">\n       <defs>\n        <path id=\"DejaVuSans-35\" d=\"M 691 4666 \nL 3169 4666 \nL 3169 4134 \nL 1269 4134 \nL 1269 2991 \nQ 1406 3038 1543 3061 \nQ 1681 3084 1819 3084 \nQ 2600 3084 3056 2656 \nQ 3513 2228 3513 1497 \nQ 3513 744 3044 326 \nQ 2575 -91 1722 -91 \nQ 1428 -91 1123 -41 \nQ 819 9 494 109 \nL 494 744 \nQ 775 591 1075 516 \nQ 1375 441 1709 441 \nQ 2250 441 2565 725 \nQ 2881 1009 2881 1497 \nQ 2881 1984 2565 2268 \nQ 2250 2553 1709 2553 \nQ 1456 2553 1204 2497 \nQ 953 2441 691 2322 \nL 691 4666 \nz\n\" transform=\"scale(0.015625)\"/>\n       </defs>\n       <use xlink:href=\"#DejaVuSans-35\"/>\n       <use xlink:href=\"#DejaVuSans-30\" x=\"63.623047\"/>\n      </g>\n     </g>\n    </g>\n    <g id=\"text_6\">\n     <!-- epoch -->\n     <g transform=\"translate(112.525 174.076563)scale(0.1 -0.1)\">\n      <defs>\n       <path id=\"DejaVuSans-65\" d=\"M 3597 1894 \nL 3597 1613 \nL 953 1613 \nQ 991 1019 1311 708 \nQ 1631 397 2203 397 \nQ 2534 397 2845 478 \nQ 3156 559 3463 722 \nL 3463 178 \nQ 3153 47 2828 -22 \nQ 2503 -91 2169 -91 \nQ 1331 -91 842 396 \nQ 353 884 353 1716 \nQ 353 2575 817 3079 \nQ 1281 3584 2069 3584 \nQ 2775 3584 3186 3129 \nQ 3597 2675 3597 1894 \nz\nM 3022 2063 \nQ 3016 2534 2758 2815 \nQ 2500 3097 2075 3097 \nQ 1594 3097 1305 2825 \nQ 1016 2553 972 2059 \nL 3022 2063 \nz\n\" transform=\"scale(0.015625)\"/>\n       <path id=\"DejaVuSans-70\" d=\"M 1159 525 \nL 1159 -1331 \nL 581 -1331 \nL 581 3500 \nL 1159 3500 \nL 1159 2969 \nQ 1341 3281 1617 3432 \nQ 1894 3584 2278 3584 \nQ 2916 3584 3314 3078 \nQ 3713 2572 3713 1747 \nQ 3713 922 3314 415 \nQ 2916 -91 2278 -91 \nQ 1894 -91 1617 61 \nQ 1341 213 1159 525 \nz\nM 3116 1747 \nQ 3116 2381 2855 2742 \nQ 2594 3103 2138 3103 \nQ 1681 3103 1420 2742 \nQ 1159 2381 1159 1747 \nQ 1159 1113 1420 752 \nQ 1681 391 2138 391 \nQ 2594 391 2855 752 \nQ 3116 1113 3116 1747 \nz\n\" transform=\"scale(0.015625)\"/>\n       <path id=\"DejaVuSans-6f\" d=\"M 1959 3097 \nQ 1497 3097 1228 2736 \nQ 959 2375 959 1747 \nQ 959 1119 1226 758 \nQ 1494 397 1959 397 \nQ 2419 397 2687 759 \nQ 2956 1122 2956 1747 \nQ 2956 2369 2687 2733 \nQ 2419 3097 1959 3097 \nz\nM 1959 3584 \nQ 2709 3584 3137 3096 \nQ 3566 2609 3566 1747 \nQ 3566 888 3137 398 \nQ 2709 -91 1959 -91 \nQ 1206 -91 779 398 \nQ 353 888 353 1747 \nQ 353 2609 779 3096 \nQ 1206 3584 1959 3584 \nz\n\" transform=\"scale(0.015625)\"/>\n       <path id=\"DejaVuSans-63\" d=\"M 3122 3366 \nL 3122 2828 \nQ 2878 2963 2633 3030 \nQ 2388 3097 2138 3097 \nQ 1578 3097 1268 2742 \nQ 959 2388 959 1747 \nQ 959 1106 1268 751 \nQ 1578 397 2138 397 \nQ 2388 397 2633 464 \nQ 2878 531 3122 666 \nL 3122 134 \nQ 2881 22 2623 -34 \nQ 2366 -91 2075 -91 \nQ 1284 -91 818 406 \nQ 353 903 353 1747 \nQ 353 2603 823 3093 \nQ 1294 3584 2113 3584 \nQ 2378 3584 2631 3529 \nQ 2884 3475 3122 3366 \nz\n\" transform=\"scale(0.015625)\"/>\n       <path id=\"DejaVuSans-68\" d=\"M 3513 2113 \nL 3513 0 \nL 2938 0 \nL 2938 2094 \nQ 2938 2591 2744 2837 \nQ 2550 3084 2163 3084 \nQ 1697 3084 1428 2787 \nQ 1159 2491 1159 1978 \nL 1159 0 \nL 581 0 \nL 581 4863 \nL 1159 4863 \nL 1159 2956 \nQ 1366 3272 1645 3428 \nQ 1925 3584 2291 3584 \nQ 2894 3584 3203 3211 \nQ 3513 2838 3513 2113 \nz\n\" transform=\"scale(0.015625)\"/>\n      </defs>\n      <use xlink:href=\"#DejaVuSans-65\"/>\n      <use xlink:href=\"#DejaVuSans-70\" x=\"61.523438\"/>\n      <use xlink:href=\"#DejaVuSans-6f\" x=\"125\"/>\n      <use xlink:href=\"#DejaVuSans-63\" x=\"186.181641\"/>\n      <use xlink:href=\"#DejaVuSans-68\" x=\"241.162109\"/>\n     </g>\n    </g>\n   </g>\n   <g id=\"matplotlib.axis_2\">\n    <g id=\"ytick_1\">\n     <g id=\"line2d_11\">\n      <path d=\"M 30.103125 144.130558 \nL 225.403125 144.130558 \n\" clip-path=\"url(#pd705c6d25f)\" style=\"fill: none; stroke: #b0b0b0; stroke-width: 0.8; stroke-linecap: square\"/>\n     </g>\n     <g id=\"line2d_12\">\n      <defs>\n       <path id=\"m8606c71754\" d=\"M 0 0 \nL -3.5 0 \n\" style=\"stroke: #000000; stroke-width: 0.8\"/>\n      </defs>\n      <g>\n       <use xlink:href=\"#m8606c71754\" x=\"30.103125\" y=\"144.130558\" style=\"stroke: #000000; stroke-width: 0.8\"/>\n      </g>\n     </g>\n     <g id=\"text_7\">\n      <!-- 0.0 -->\n      <g transform=\"translate(7.2 147.929777)scale(0.1 -0.1)\">\n       <defs>\n        <path id=\"DejaVuSans-2e\" d=\"M 684 794 \nL 1344 794 \nL 1344 0 \nL 684 0 \nL 684 794 \nz\n\" transform=\"scale(0.015625)\"/>\n       </defs>\n       <use xlink:href=\"#DejaVuSans-30\"/>\n       <use xlink:href=\"#DejaVuSans-2e\" x=\"63.623047\"/>\n       <use xlink:href=\"#DejaVuSans-30\" x=\"95.410156\"/>\n      </g>\n     </g>\n    </g>\n    <g id=\"ytick_2\">\n     <g id=\"line2d_13\">\n      <path d=\"M 30.103125 115.762496 \nL 225.403125 115.762496 \n\" clip-path=\"url(#pd705c6d25f)\" style=\"fill: none; stroke: #b0b0b0; stroke-width: 0.8; stroke-linecap: square\"/>\n     </g>\n     <g id=\"line2d_14\">\n      <g>\n       <use xlink:href=\"#m8606c71754\" x=\"30.103125\" y=\"115.762496\" style=\"stroke: #000000; stroke-width: 0.8\"/>\n      </g>\n     </g>\n     <g id=\"text_8\">\n      <!-- 0.5 -->\n      <g transform=\"translate(7.2 119.561715)scale(0.1 -0.1)\">\n       <use xlink:href=\"#DejaVuSans-30\"/>\n       <use xlink:href=\"#DejaVuSans-2e\" x=\"63.623047\"/>\n       <use xlink:href=\"#DejaVuSans-35\" x=\"95.410156\"/>\n      </g>\n     </g>\n    </g>\n    <g id=\"ytick_3\">\n     <g id=\"line2d_15\">\n      <path d=\"M 30.103125 87.394434 \nL 225.403125 87.394434 \n\" clip-path=\"url(#pd705c6d25f)\" style=\"fill: none; stroke: #b0b0b0; stroke-width: 0.8; stroke-linecap: square\"/>\n     </g>\n     <g id=\"line2d_16\">\n      <g>\n       <use xlink:href=\"#m8606c71754\" x=\"30.103125\" y=\"87.394434\" style=\"stroke: #000000; stroke-width: 0.8\"/>\n      </g>\n     </g>\n     <g id=\"text_9\">\n      <!-- 1.0 -->\n      <g transform=\"translate(7.2 91.193653)scale(0.1 -0.1)\">\n       <use xlink:href=\"#DejaVuSans-31\"/>\n       <use xlink:href=\"#DejaVuSans-2e\" x=\"63.623047\"/>\n       <use xlink:href=\"#DejaVuSans-30\" x=\"95.410156\"/>\n      </g>\n     </g>\n    </g>\n    <g id=\"ytick_4\">\n     <g id=\"line2d_17\">\n      <path d=\"M 30.103125 59.026373 \nL 225.403125 59.026373 \n\" clip-path=\"url(#pd705c6d25f)\" style=\"fill: none; stroke: #b0b0b0; stroke-width: 0.8; stroke-linecap: square\"/>\n     </g>\n     <g id=\"line2d_18\">\n      <g>\n       <use xlink:href=\"#m8606c71754\" x=\"30.103125\" y=\"59.026373\" style=\"stroke: #000000; stroke-width: 0.8\"/>\n      </g>\n     </g>\n     <g id=\"text_10\">\n      <!-- 1.5 -->\n      <g transform=\"translate(7.2 62.825591)scale(0.1 -0.1)\">\n       <use xlink:href=\"#DejaVuSans-31\"/>\n       <use xlink:href=\"#DejaVuSans-2e\" x=\"63.623047\"/>\n       <use xlink:href=\"#DejaVuSans-35\" x=\"95.410156\"/>\n      </g>\n     </g>\n    </g>\n    <g id=\"ytick_5\">\n     <g id=\"line2d_19\">\n      <path d=\"M 30.103125 30.658311 \nL 225.403125 30.658311 \n\" clip-path=\"url(#pd705c6d25f)\" style=\"fill: none; stroke: #b0b0b0; stroke-width: 0.8; stroke-linecap: square\"/>\n     </g>\n     <g id=\"line2d_20\">\n      <g>\n       <use xlink:href=\"#m8606c71754\" x=\"30.103125\" y=\"30.658311\" style=\"stroke: #000000; stroke-width: 0.8\"/>\n      </g>\n     </g>\n     <g id=\"text_11\">\n      <!-- 2.0 -->\n      <g transform=\"translate(7.2 34.45753)scale(0.1 -0.1)\">\n       <use xlink:href=\"#DejaVuSans-32\"/>\n       <use xlink:href=\"#DejaVuSans-2e\" x=\"63.623047\"/>\n       <use xlink:href=\"#DejaVuSans-30\" x=\"95.410156\"/>\n      </g>\n     </g>\n    </g>\n   </g>\n   <g id=\"line2d_21\">\n    <path d=\"M 26.914554 13.5 \nL 27.711696 15.976677 \nL 29.305982 38.304007 \nL 30.103125 47.256626 \nL 30.900268 96.186585 \nL 31.697411 97.234707 \nL 32.494554 97.910111 \nL 34.088839 99.957095 \nL 34.885982 103.069958 \nL 35.683125 104.203032 \nL 36.480268 104.778428 \nL 37.277411 105.146215 \nL 38.074554 105.376226 \nL 38.871696 107.506983 \nL 40.465982 107.945852 \nL 41.263125 107.977083 \nL 42.060268 108.226114 \nL 42.857411 109.929961 \nL 43.654554 109.953605 \nL 44.451696 110.206092 \nL 46.045982 110.288301 \nL 46.843125 110.942833 \nL 48.437411 111.540131 \nL 49.234554 111.702282 \nL 50.031696 112.086953 \nL 50.828839 113.368828 \nL 51.625982 113.395257 \nL 54.017411 114.175622 \nL 54.814554 114.28689 \nL 55.611696 114.815786 \nL 56.408839 114.910891 \nL 57.205982 115.254945 \nL 58.003125 114.949439 \nL 58.800268 117.181011 \nL 59.597411 116.709683 \nL 60.394554 116.803315 \nL 61.191696 116.75341 \nL 61.988839 116.836881 \nL 62.785982 116.394419 \nL 63.583125 116.821305 \nL 65.177411 117.202151 \nL 65.974554 117.502011 \nL 66.771696 117.371707 \nL 67.568839 117.907675 \nL 68.365982 117.900887 \nL 69.960268 118.234789 \nL 70.757411 119.48527 \nL 71.554554 118.953935 \nL 73.945982 119.043205 \nL 74.743125 119.4984 \nL 75.540268 119.769531 \nL 76.337411 119.656688 \nL 77.931696 119.672843 \nL 78.728839 119.582894 \nL 79.525982 120.125813 \nL 80.323125 120.015603 \nL 81.917411 120.145725 \nL 82.714554 120.965213 \nL 84.308839 120.860217 \nL 85.105982 120.978871 \nL 85.903125 120.87106 \nL 86.700268 120.357966 \nL 87.497411 121.166437 \nL 88.294554 121.264742 \nL 89.091696 121.172731 \nL 89.888839 121.371195 \nL 90.685982 121.417974 \nL 91.483125 120.939452 \nL 92.280268 121.363582 \nL 94.671696 121.588162 \nL 95.468839 122.08726 \nL 96.265982 122.05495 \nL 97.860268 122.204262 \nL 98.657411 122.568066 \nL 99.454554 122.304288 \nL 101.048839 122.580147 \nL 101.845982 122.50153 \nL 103.440268 122.583909 \nL 104.237411 122.898473 \nL 106.628839 123.177682 \nL 107.425982 123.017878 \nL 109.020268 123.279974 \nL 109.817411 122.942988 \nL 110.614554 123.311971 \nL 111.411696 123.336523 \nL 112.208839 123.101063 \nL 113.005982 123.480303 \nL 114.600268 123.504689 \nL 115.397411 123.948962 \nL 116.194554 123.8153 \nL 117.788839 123.844567 \nL 118.585982 124.545747 \nL 119.383125 124.059948 \nL 120.180268 124.293428 \nL 120.977411 124.090008 \nL 121.774554 124.157403 \nL 122.571696 124.747373 \nL 123.368839 124.606474 \nL 124.165982 124.652424 \nL 125.760268 124.348399 \nL 126.557411 124.27088 \nL 127.354554 124.814303 \nL 128.151696 124.649717 \nL 129.745982 124.589089 \nL 130.543125 125.248623 \nL 131.340268 124.801441 \nL 132.137411 125.117299 \nL 132.934554 124.901329 \nL 133.731696 124.886984 \nL 134.528839 125.452889 \nL 135.325982 125.496346 \nL 136.920268 125.165762 \nL 137.717411 125.157231 \nL 138.514554 125.580511 \nL 141.703125 125.414552 \nL 143.297411 125.018354 \nL 144.094554 125.422987 \nL 144.891696 125.525173 \nL 145.688839 125.512123 \nL 146.485982 126.456754 \nL 148.080268 125.720406 \nL 149.674554 125.710886 \nL 150.471696 125.261103 \nL 152.065982 125.976634 \nL 153.660268 125.991632 \nL 154.457411 125.67512 \nL 155.254554 126.258497 \nL 156.051696 126.075671 \nL 156.848839 126.187418 \nL 157.645982 126.100515 \nL 158.443125 126.575134 \nL 159.240268 126.351844 \nL 160.037411 126.43857 \nL 160.834554 126.209714 \nL 161.631696 126.296478 \nL 162.428839 126.047423 \nL 163.225982 126.233051 \nL 164.820268 126.374053 \nL 165.617411 126.482802 \nL 166.414554 126.271356 \nL 167.211696 126.234299 \nL 168.008839 126.468495 \nL 169.603125 126.583017 \nL 170.400268 127.054442 \nL 171.994554 126.695362 \nL 173.588839 126.700412 \nL 174.385982 126.57916 \nL 175.183125 126.816244 \nL 177.574554 126.991293 \nL 178.371696 127.170458 \nL 179.168839 126.908632 \nL 179.965982 127.034162 \nL 181.560268 127.058924 \nL 183.154554 127.37715 \nL 183.951696 127.028682 \nL 185.545982 127.285661 \nL 186.343125 127.694555 \nL 187.140268 127.458065 \nL 187.937411 127.548452 \nL 188.734554 127.433137 \nL 189.531696 127.44248 \nL 190.328839 127.570287 \nL 191.125982 127.23752 \nL 192.720268 127.453707 \nL 193.517411 127.423169 \nL 194.314554 127.76687 \nL 196.705982 127.559348 \nL 197.503125 127.569929 \nL 199.097411 127.916618 \nL 199.894554 127.912074 \nL 201.488839 127.766583 \nL 202.285982 128.44964 \nL 203.083125 128.505515 \nL 203.880268 128.167876 \nL 204.677411 127.992658 \nL 207.068839 127.839846 \nL 208.663125 128.041503 \nL 209.460268 128.023135 \nL 210.257411 128.378853 \nL 211.054554 127.963515 \nL 213.445982 128.175075 \nL 214.243125 128.662441 \nL 215.040268 128.358962 \nL 215.837411 128.279894 \nL 216.634554 128.340959 \nL 217.431696 128.287197 \nL 219.025982 128.898983 \nL 219.823125 128.507115 \nL 222.214554 128.441051 \nL 223.011696 128.538029 \nL 223.808839 128.402547 \nL 225.403125 128.532253 \nL 225.403125 128.532253 \n\" clip-path=\"url(#pd705c6d25f)\" style=\"fill: none; stroke: #1f77b4; stroke-width: 1.5; stroke-linecap: square\"/>\n   </g>\n   <g id=\"line2d_22\">\n    <path d=\"M 26.914554 139.5 \nL 27.711696 135.928057 \nL 29.305982 126.886209 \nL 30.103125 123.358518 \nL 30.900268 105.482846 \nL 32.494554 105.064744 \nL 34.088839 104.270594 \nL 34.885982 102.969519 \nL 36.480268 102.483829 \nL 38.074554 102.270646 \nL 38.871696 101.554888 \nL 41.263125 101.317938 \nL 42.060268 101.247505 \nL 42.857411 100.687248 \nL 43.654554 100.673102 \nL 45.248839 100.4892 \nL 46.045982 100.458873 \nL 46.843125 100.074241 \nL 47.640268 99.946925 \nL 48.437411 99.957927 \nL 50.031696 99.711847 \nL 52.423125 99.06671 \nL 57.205982 98.367254 \nL 58.003125 98.496748 \nL 58.800268 97.801401 \nL 61.191696 97.822621 \nL 61.988839 97.749723 \nL 62.785982 97.905141 \nL 63.583125 97.704735 \nL 66.771696 97.485467 \nL 67.568839 97.221403 \nL 69.163125 97.200183 \nL 69.960268 97.177633 \nL 70.757411 96.641404 \nL 71.554554 96.860672 \nL 73.945982 96.835325 \nL 74.743125 96.631973 \nL 75.540268 96.554169 \nL 77.931696 96.603653 \nL 78.728839 96.551811 \nL 79.525982 96.37734 \nL 81.120268 96.351405 \nL 82.714554 96.226446 \nL 83.511696 96.063763 \nL 90.685982 96.018967 \nL 91.483125 96.167503 \nL 92.280268 95.990674 \nL 94.671696 95.938804 \nL 95.468839 95.611081 \nL 99.454554 95.637016 \nL 101.048839 95.508521 \nL 101.845982 95.514319 \nL 102.643125 95.40596 \nL 103.440268 95.467261 \nL 105.034554 95.273928 \nL 107.425982 95.363521 \nL 108.223125 95.247207 \nL 109.817411 95.351676 \nL 110.614554 95.123034 \nL 112.208839 95.338372 \nL 113.005982 95.148969 \nL 114.600268 95.066449 \nL 115.397411 94.965067 \nL 117.788839 94.977217 \nL 118.585982 94.75523 \nL 119.383125 94.894335 \nL 120.180268 94.8071 \nL 121.774554 94.819302 \nL 122.571696 94.627913 \nL 125.760268 94.841996 \nL 126.557411 94.906124 \nL 127.354554 94.56897 \nL 129.745982 94.674625 \nL 130.543125 94.519458 \nL 131.340268 94.689214 \nL 132.137411 94.569756 \nL 133.731696 94.638692 \nL 134.528839 94.491165 \nL 136.123125 94.505312 \nL 137.717411 94.563989 \nL 138.514554 94.344987 \nL 143.297411 94.510027 \nL 144.094554 94.360705 \nL 145.688839 94.374869 \nL 146.485982 94.047914 \nL 147.283125 94.092711 \nL 148.080268 94.299404 \nL 149.674554 94.319078 \nL 150.471696 94.557181 \nL 151.268839 94.498238 \nL 152.065982 94.297832 \nL 153.660268 94.221681 \nL 154.457411 94.396857 \nL 155.254554 94.142223 \nL 156.051696 94.214526 \nL 157.645982 94.160217 \nL 158.443125 93.88759 \nL 159.240268 94.019622 \nL 160.037411 93.994473 \nL 160.834554 94.110394 \nL 165.617411 93.926653 \nL 166.414554 94.109215 \nL 169.603125 93.975825 \nL 170.400268 93.802712 \nL 173.588839 93.915306 \nL 185.545982 93.722403 \nL 186.343125 93.529216 \nL 187.140268 93.675395 \nL 189.531696 93.65432 \nL 194.314554 93.614094 \nL 195.111696 93.543363 \nL 195.908839 93.632956 \nL 203.880268 93.379894 \nL 206.271696 93.486778 \nL 207.865982 93.477347 \nL 210.257411 93.420761 \nL 211.054554 93.526859 \nL 212.648839 93.379501 \nL 216.634554 93.32881 \nL 217.431696 93.381041 \nL 219.025982 93.123689 \nL 219.823125 93.266724 \nL 221.417411 93.371585 \nL 222.214554 93.166128 \nL 225.403125 93.219343 \nL 225.403125 93.219343 \n\" clip-path=\"url(#pd705c6d25f)\" style=\"fill: none; stroke-dasharray: 5.55,2.4; stroke-dashoffset: 0; stroke: #bf00bf; stroke-width: 1.5\"/>\n   </g>\n   <g id=\"line2d_23\">\n    <path d=\"M 30.103125 109.703078 \nL 34.088839 105.419501 \nL 38.074554 101.499035 \nL 42.060268 102.094764 \nL 46.045982 106.003883 \nL 50.031696 101.016778 \nL 54.017411 101.464993 \nL 58.003125 98.361527 \nL 61.988839 98.764354 \nL 65.974554 98.792722 \nL 69.960268 99.473555 \nL 73.945982 100.148715 \nL 77.931696 97.414034 \nL 81.917411 100.642319 \nL 85.903125 101.289111 \nL 89.888839 97.703388 \nL 93.874554 96.926103 \nL 97.860268 97.192763 \nL 101.845982 96.738874 \nL 105.831696 96.614055 \nL 109.817411 96.114777 \nL 113.803125 96.381436 \nL 117.788839 95.592804 \nL 121.774554 96.216902 \nL 125.760268 96.137471 \nL 129.745982 95.462311 \nL 133.731696 95.439617 \nL 137.717411 96.398457 \nL 141.703125 102.015333 \nL 145.688839 95.16161 \nL 149.674554 95.258061 \nL 153.660268 95.416922 \nL 157.645982 95.150263 \nL 161.631696 95.519047 \nL 165.617411 95.819749 \nL 169.603125 95.314797 \nL 173.588839 96.12045 \nL 177.574554 95.553089 \nL 181.560268 94.991401 \nL 185.545982 95.019769 \nL 189.531696 95.22402 \nL 193.517411 95.666561 \nL 197.503125 94.781478 \nL 201.488839 95.014096 \nL 205.474554 96.04102 \nL 209.460268 94.594249 \nL 213.445982 94.702047 \nL 217.431696 94.503471 \nL 221.417411 94.764457 \nL 225.403125 97.311909 \n\" clip-path=\"url(#pd705c6d25f)\" style=\"fill: none; stroke-dasharray: 9.6,2.4,1.5,2.4; stroke-dashoffset: 0; stroke: #008000; stroke-width: 1.5\"/>\n   </g>\n   <g id=\"patch_3\">\n    <path d=\"M 30.103125 145.8 \nL 30.103125 7.2 \n\" style=\"fill: none; stroke: #000000; stroke-width: 0.8; stroke-linejoin: miter; stroke-linecap: square\"/>\n   </g>\n   <g id=\"patch_4\">\n    <path d=\"M 225.403125 145.8 \nL 225.403125 7.2 \n\" style=\"fill: none; stroke: #000000; stroke-width: 0.8; stroke-linejoin: miter; stroke-linecap: square\"/>\n   </g>\n   <g id=\"patch_5\">\n    <path d=\"M 30.103125 145.8 \nL 225.403125 145.8 \n\" style=\"fill: none; stroke: #000000; stroke-width: 0.8; stroke-linejoin: miter; stroke-linecap: square\"/>\n   </g>\n   <g id=\"patch_6\">\n    <path d=\"M 30.103125 7.2 \nL 225.403125 7.2 \n\" style=\"fill: none; stroke: #000000; stroke-width: 0.8; stroke-linejoin: miter; stroke-linecap: square\"/>\n   </g>\n   <g id=\"legend_1\">\n    <g id=\"patch_7\">\n     <path d=\"M 140.634375 59.234375 \nL 218.403125 59.234375 \nQ 220.403125 59.234375 220.403125 57.234375 \nL 220.403125 14.2 \nQ 220.403125 12.2 218.403125 12.2 \nL 140.634375 12.2 \nQ 138.634375 12.2 138.634375 14.2 \nL 138.634375 57.234375 \nQ 138.634375 59.234375 140.634375 59.234375 \nz\n\" style=\"fill: #ffffff; opacity: 0.8; stroke: #cccccc; stroke-linejoin: miter\"/>\n    </g>\n    <g id=\"line2d_24\">\n     <path d=\"M 142.634375 20.298438 \nL 152.634375 20.298438 \nL 162.634375 20.298438 \n\" style=\"fill: none; stroke: #1f77b4; stroke-width: 1.5; stroke-linecap: square\"/>\n    </g>\n    <g id=\"text_12\">\n     <!-- train loss -->\n     <g transform=\"translate(170.634375 23.798438)scale(0.1 -0.1)\">\n      <defs>\n       <path id=\"DejaVuSans-74\" d=\"M 1172 4494 \nL 1172 3500 \nL 2356 3500 \nL 2356 3053 \nL 1172 3053 \nL 1172 1153 \nQ 1172 725 1289 603 \nQ 1406 481 1766 481 \nL 2356 481 \nL 2356 0 \nL 1766 0 \nQ 1100 0 847 248 \nQ 594 497 594 1153 \nL 594 3053 \nL 172 3053 \nL 172 3500 \nL 594 3500 \nL 594 4494 \nL 1172 4494 \nz\n\" transform=\"scale(0.015625)\"/>\n       <path id=\"DejaVuSans-72\" d=\"M 2631 2963 \nQ 2534 3019 2420 3045 \nQ 2306 3072 2169 3072 \nQ 1681 3072 1420 2755 \nQ 1159 2438 1159 1844 \nL 1159 0 \nL 581 0 \nL 581 3500 \nL 1159 3500 \nL 1159 2956 \nQ 1341 3275 1631 3429 \nQ 1922 3584 2338 3584 \nQ 2397 3584 2469 3576 \nQ 2541 3569 2628 3553 \nL 2631 2963 \nz\n\" transform=\"scale(0.015625)\"/>\n       <path id=\"DejaVuSans-61\" d=\"M 2194 1759 \nQ 1497 1759 1228 1600 \nQ 959 1441 959 1056 \nQ 959 750 1161 570 \nQ 1363 391 1709 391 \nQ 2188 391 2477 730 \nQ 2766 1069 2766 1631 \nL 2766 1759 \nL 2194 1759 \nz\nM 3341 1997 \nL 3341 0 \nL 2766 0 \nL 2766 531 \nQ 2569 213 2275 61 \nQ 1981 -91 1556 -91 \nQ 1019 -91 701 211 \nQ 384 513 384 1019 \nQ 384 1609 779 1909 \nQ 1175 2209 1959 2209 \nL 2766 2209 \nL 2766 2266 \nQ 2766 2663 2505 2880 \nQ 2244 3097 1772 3097 \nQ 1472 3097 1187 3025 \nQ 903 2953 641 2809 \nL 641 3341 \nQ 956 3463 1253 3523 \nQ 1550 3584 1831 3584 \nQ 2591 3584 2966 3190 \nQ 3341 2797 3341 1997 \nz\n\" transform=\"scale(0.015625)\"/>\n       <path id=\"DejaVuSans-69\" d=\"M 603 3500 \nL 1178 3500 \nL 1178 0 \nL 603 0 \nL 603 3500 \nz\nM 603 4863 \nL 1178 4863 \nL 1178 4134 \nL 603 4134 \nL 603 4863 \nz\n\" transform=\"scale(0.015625)\"/>\n       <path id=\"DejaVuSans-6e\" d=\"M 3513 2113 \nL 3513 0 \nL 2938 0 \nL 2938 2094 \nQ 2938 2591 2744 2837 \nQ 2550 3084 2163 3084 \nQ 1697 3084 1428 2787 \nQ 1159 2491 1159 1978 \nL 1159 0 \nL 581 0 \nL 581 3500 \nL 1159 3500 \nL 1159 2956 \nQ 1366 3272 1645 3428 \nQ 1925 3584 2291 3584 \nQ 2894 3584 3203 3211 \nQ 3513 2838 3513 2113 \nz\n\" transform=\"scale(0.015625)\"/>\n       <path id=\"DejaVuSans-20\" transform=\"scale(0.015625)\"/>\n       <path id=\"DejaVuSans-6c\" d=\"M 603 4863 \nL 1178 4863 \nL 1178 0 \nL 603 0 \nL 603 4863 \nz\n\" transform=\"scale(0.015625)\"/>\n       <path id=\"DejaVuSans-73\" d=\"M 2834 3397 \nL 2834 2853 \nQ 2591 2978 2328 3040 \nQ 2066 3103 1784 3103 \nQ 1356 3103 1142 2972 \nQ 928 2841 928 2578 \nQ 928 2378 1081 2264 \nQ 1234 2150 1697 2047 \nL 1894 2003 \nQ 2506 1872 2764 1633 \nQ 3022 1394 3022 966 \nQ 3022 478 2636 193 \nQ 2250 -91 1575 -91 \nQ 1294 -91 989 -36 \nQ 684 19 347 128 \nL 347 722 \nQ 666 556 975 473 \nQ 1284 391 1588 391 \nQ 1994 391 2212 530 \nQ 2431 669 2431 922 \nQ 2431 1156 2273 1281 \nQ 2116 1406 1581 1522 \nL 1381 1569 \nQ 847 1681 609 1914 \nQ 372 2147 372 2553 \nQ 372 3047 722 3315 \nQ 1072 3584 1716 3584 \nQ 2034 3584 2315 3537 \nQ 2597 3491 2834 3397 \nz\n\" transform=\"scale(0.015625)\"/>\n      </defs>\n      <use xlink:href=\"#DejaVuSans-74\"/>\n      <use xlink:href=\"#DejaVuSans-72\" x=\"39.208984\"/>\n      <use xlink:href=\"#DejaVuSans-61\" x=\"80.322266\"/>\n      <use xlink:href=\"#DejaVuSans-69\" x=\"141.601562\"/>\n      <use xlink:href=\"#DejaVuSans-6e\" x=\"169.384766\"/>\n      <use xlink:href=\"#DejaVuSans-20\" x=\"232.763672\"/>\n      <use xlink:href=\"#DejaVuSans-6c\" x=\"264.550781\"/>\n      <use xlink:href=\"#DejaVuSans-6f\" x=\"292.333984\"/>\n      <use xlink:href=\"#DejaVuSans-73\" x=\"353.515625\"/>\n      <use xlink:href=\"#DejaVuSans-73\" x=\"405.615234\"/>\n     </g>\n    </g>\n    <g id=\"line2d_25\">\n     <path d=\"M 142.634375 34.976563 \nL 152.634375 34.976563 \nL 162.634375 34.976563 \n\" style=\"fill: none; stroke-dasharray: 5.55,2.4; stroke-dashoffset: 0; stroke: #bf00bf; stroke-width: 1.5\"/>\n    </g>\n    <g id=\"text_13\">\n     <!-- train acc -->\n     <g transform=\"translate(170.634375 38.476563)scale(0.1 -0.1)\">\n      <use xlink:href=\"#DejaVuSans-74\"/>\n      <use xlink:href=\"#DejaVuSans-72\" x=\"39.208984\"/>\n      <use xlink:href=\"#DejaVuSans-61\" x=\"80.322266\"/>\n      <use xlink:href=\"#DejaVuSans-69\" x=\"141.601562\"/>\n      <use xlink:href=\"#DejaVuSans-6e\" x=\"169.384766\"/>\n      <use xlink:href=\"#DejaVuSans-20\" x=\"232.763672\"/>\n      <use xlink:href=\"#DejaVuSans-61\" x=\"264.550781\"/>\n      <use xlink:href=\"#DejaVuSans-63\" x=\"325.830078\"/>\n      <use xlink:href=\"#DejaVuSans-63\" x=\"380.810547\"/>\n     </g>\n    </g>\n    <g id=\"line2d_26\">\n     <path d=\"M 142.634375 49.654688 \nL 152.634375 49.654688 \nL 162.634375 49.654688 \n\" style=\"fill: none; stroke-dasharray: 9.6,2.4,1.5,2.4; stroke-dashoffset: 0; stroke: #008000; stroke-width: 1.5\"/>\n    </g>\n    <g id=\"text_14\">\n     <!-- test acc -->\n     <g transform=\"translate(170.634375 53.154688)scale(0.1 -0.1)\">\n      <use xlink:href=\"#DejaVuSans-74\"/>\n      <use xlink:href=\"#DejaVuSans-65\" x=\"39.208984\"/>\n      <use xlink:href=\"#DejaVuSans-73\" x=\"100.732422\"/>\n      <use xlink:href=\"#DejaVuSans-74\" x=\"152.832031\"/>\n      <use xlink:href=\"#DejaVuSans-20\" x=\"192.041016\"/>\n      <use xlink:href=\"#DejaVuSans-61\" x=\"223.828125\"/>\n      <use xlink:href=\"#DejaVuSans-63\" x=\"285.107422\"/>\n      <use xlink:href=\"#DejaVuSans-63\" x=\"340.087891\"/>\n     </g>\n    </g>\n   </g>\n  </g>\n </g>\n <defs>\n  <clipPath id=\"pd705c6d25f\">\n   <rect x=\"30.103125\" y=\"7.2\" width=\"195.3\" height=\"138.6\"/>\n  </clipPath>\n </defs>\n</svg>\n"
          },
          "metadata": {}
        }
      ],
      "source": [
        "lr, num_epochs = 0.1, 50\n",
        "train_ch6(net_improve, train_iter, test_iter, num_epochs, lr, d2l.try_gpu())"
      ]
    },
    {
      "cell_type": "markdown",
      "source": [
        "&emsp;&emsp; 改进之后的网络在训练集和测试集上均表现出了更好的效果"
      ],
      "metadata": {
        "id": "cek7LSVZ5PSb"
      }
    },
    {
      "cell_type": "markdown",
      "metadata": {
        "id": "iDIBoQa0H6Gu"
      },
      "source": [
        "### 练习 6.6.4\n",
        "\n",
        "显示不同输入（例如毛衣和外套）时，LeNet第一层和第二层的激活值。"
      ]
    },
    {
      "cell_type": "markdown",
      "metadata": {
        "id": "Mq9U1KWRH6Gu"
      },
      "source": [
        "**解答：** "
      ]
    },
    {
      "cell_type": "markdown",
      "source": [
        "&emsp;&emsp; 通过在所有epoch结束后添加`d2l.show_images`展示了激活值"
      ],
      "metadata": {
        "id": "TK6125gm5eK_"
      }
    },
    {
      "cell_type": "code",
      "execution_count": null,
      "metadata": {
        "pycharm": {
          "name": "#%%\n"
        },
        "id": "346c706c"
      },
      "outputs": [],
      "source": [
        "#@save\n",
        "def train_ch6(net, train_iter, test_iter, num_epochs, lr, device):\n",
        "    \"\"\"用GPU训练模型(在第六章定义)\"\"\"\n",
        "    def init_weights(m):\n",
        "        if type(m) == nn.Linear or type(m) == nn.Conv2d:\n",
        "            nn.init.xavier_uniform_(m.weight)\n",
        "    net.apply(init_weights)\n",
        "    print('training on', device)\n",
        "    net.to(device)\n",
        "    optimizer = torch.optim.SGD(net.parameters(), lr=lr)\n",
        "    loss = nn.CrossEntropyLoss()\n",
        "    animator = d2l.Animator(xlabel='epoch', xlim=[1, num_epochs],\n",
        "                            legend=['train loss', 'train acc', 'test acc'])\n",
        "    timer, num_batches = d2l.Timer(), len(train_iter)\n",
        "    for epoch in range(num_epochs):\n",
        "        # 训练损失之和，训练准确率之和，样本数\n",
        "        metric = d2l.Accumulator(3)\n",
        "        net.train()\n",
        "        for i, (X, y) in enumerate(train_iter):\n",
        "            timer.start()\n",
        "            optimizer.zero_grad()\n",
        "            X, y = X.to(device), y.to(device)\n",
        "            y_hat = net(X)\n",
        "            l = loss(y_hat, y)\n",
        "            l.backward()\n",
        "            optimizer.step()\n",
        "            with torch.no_grad():\n",
        "                metric.add(l * X.shape[0], d2l.accuracy(y_hat, y), X.shape[0])\n",
        "            timer.stop()\n",
        "            train_l = metric[0] / metric[2]\n",
        "            train_acc = metric[1] / metric[2]\n",
        "            if (i + 1) % (num_batches // 5) == 0 or i == num_batches - 1:\n",
        "                animator.add(epoch + (i + 1) / num_batches,\n",
        "                             (train_l, train_acc, None))\n",
        "        test_acc = evaluate_accuracy_gpu(net, test_iter)\n",
        "        animator.add(epoch + 1, (None, None, test_acc))\n",
        "    x_first_Sigmoid_layer = net[0:2](X)[0:9, 1, :, :]\n",
        "    d2l.show_images(x_first_Sigmoid_layer.reshape(9, 28, 28).cpu().detach(), 1, 9)\n",
        "    x_second_Sigmoid_layer = net[0:5](X)[0:9, 1, :, :]\n",
        "    d2l.show_images(x_second_Sigmoid_layer.reshape(9, 10, 10).cpu().detach(), 1, 9)\n",
        "    print(f'loss {train_l:.3f}, train acc {train_acc:.3f}, '\n",
        "          f'test acc {test_acc:.3f}')\n",
        "    print(f'{metric[2] * num_epochs / timer.sum():.1f} examples/sec '\n",
        "          f'on {str(device)}')"
      ]
    },
    {
      "cell_type": "code",
      "execution_count": null,
      "metadata": {
        "pycharm": {
          "name": "#%%\n"
        },
        "id": "86a28a08",
        "colab": {
          "base_uri": "https://localhost:8080/",
          "height": 545
        },
        "outputId": "72dd0b00-a4cd-456d-bc6f-2c84736db2b0"
      },
      "outputs": [
        {
          "output_type": "stream",
          "name": "stdout",
          "text": [
            "loss 0.475, train acc 0.821, test acc 0.815\n",
            "44287.0 examples/sec on cuda:0\n"
          ]
        },
        {
          "output_type": "display_data",
          "data": {
            "text/plain": [
              "<Figure size 350x250 with 1 Axes>"
            ],
            "image/svg+xml": "<?xml version=\"1.0\" encoding=\"utf-8\" standalone=\"no\"?>\n<!DOCTYPE svg PUBLIC \"-//W3C//DTD SVG 1.1//EN\"\n  \"http://www.w3.org/Graphics/SVG/1.1/DTD/svg11.dtd\">\n<svg xmlns:xlink=\"http://www.w3.org/1999/xlink\" width=\"238.965625pt\" height=\"183.35625pt\" viewBox=\"0 0 238.965625 183.35625\" xmlns=\"http://www.w3.org/2000/svg\" version=\"1.1\">\n <metadata>\n  <rdf:RDF xmlns:dc=\"http://purl.org/dc/elements/1.1/\" xmlns:cc=\"http://creativecommons.org/ns#\" xmlns:rdf=\"http://www.w3.org/1999/02/22-rdf-syntax-ns#\">\n   <cc:Work>\n    <dc:type rdf:resource=\"http://purl.org/dc/dcmitype/StillImage\"/>\n    <dc:date>2023-04-20T10:14:13.839638</dc:date>\n    <dc:format>image/svg+xml</dc:format>\n    <dc:creator>\n     <cc:Agent>\n      <dc:title>Matplotlib v3.5.1, https://matplotlib.org/</dc:title>\n     </cc:Agent>\n    </dc:creator>\n   </cc:Work>\n  </rdf:RDF>\n </metadata>\n <defs>\n  <style type=\"text/css\">*{stroke-linejoin: round; stroke-linecap: butt}</style>\n </defs>\n <g id=\"figure_1\">\n  <g id=\"patch_1\">\n   <path d=\"M 0 183.35625 \nL 238.965625 183.35625 \nL 238.965625 0 \nL 0 0 \nz\n\" style=\"fill: #ffffff\"/>\n  </g>\n  <g id=\"axes_1\">\n   <g id=\"patch_2\">\n    <path d=\"M 30.103125 145.8 \nL 225.403125 145.8 \nL 225.403125 7.2 \nL 30.103125 7.2 \nz\n\" style=\"fill: #ffffff\"/>\n   </g>\n   <g id=\"matplotlib.axis_1\">\n    <g id=\"xtick_1\">\n     <g id=\"line2d_1\">\n      <path d=\"M 51.803125 145.8 \nL 51.803125 7.2 \n\" clip-path=\"url(#pfc16b2dc4f)\" style=\"fill: none; stroke: #b0b0b0; stroke-width: 0.8; stroke-linecap: square\"/>\n     </g>\n     <g id=\"line2d_2\">\n      <defs>\n       <path id=\"m3e58b05883\" d=\"M 0 0 \nL 0 3.5 \n\" style=\"stroke: #000000; stroke-width: 0.8\"/>\n      </defs>\n      <g>\n       <use xlink:href=\"#m3e58b05883\" x=\"51.803125\" y=\"145.8\" style=\"stroke: #000000; stroke-width: 0.8\"/>\n      </g>\n     </g>\n     <g id=\"text_1\">\n      <!-- 2 -->\n      <g transform=\"translate(48.621875 160.398438)scale(0.1 -0.1)\">\n       <defs>\n        <path id=\"DejaVuSans-32\" d=\"M 1228 531 \nL 3431 531 \nL 3431 0 \nL 469 0 \nL 469 531 \nQ 828 903 1448 1529 \nQ 2069 2156 2228 2338 \nQ 2531 2678 2651 2914 \nQ 2772 3150 2772 3378 \nQ 2772 3750 2511 3984 \nQ 2250 4219 1831 4219 \nQ 1534 4219 1204 4116 \nQ 875 4013 500 3803 \nL 500 4441 \nQ 881 4594 1212 4672 \nQ 1544 4750 1819 4750 \nQ 2544 4750 2975 4387 \nQ 3406 4025 3406 3419 \nQ 3406 3131 3298 2873 \nQ 3191 2616 2906 2266 \nQ 2828 2175 2409 1742 \nQ 1991 1309 1228 531 \nz\n\" transform=\"scale(0.015625)\"/>\n       </defs>\n       <use xlink:href=\"#DejaVuSans-32\"/>\n      </g>\n     </g>\n    </g>\n    <g id=\"xtick_2\">\n     <g id=\"line2d_3\">\n      <path d=\"M 95.203125 145.8 \nL 95.203125 7.2 \n\" clip-path=\"url(#pfc16b2dc4f)\" style=\"fill: none; stroke: #b0b0b0; stroke-width: 0.8; stroke-linecap: square\"/>\n     </g>\n     <g id=\"line2d_4\">\n      <g>\n       <use xlink:href=\"#m3e58b05883\" x=\"95.203125\" y=\"145.8\" style=\"stroke: #000000; stroke-width: 0.8\"/>\n      </g>\n     </g>\n     <g id=\"text_2\">\n      <!-- 4 -->\n      <g transform=\"translate(92.021875 160.398438)scale(0.1 -0.1)\">\n       <defs>\n        <path id=\"DejaVuSans-34\" d=\"M 2419 4116 \nL 825 1625 \nL 2419 1625 \nL 2419 4116 \nz\nM 2253 4666 \nL 3047 4666 \nL 3047 1625 \nL 3713 1625 \nL 3713 1100 \nL 3047 1100 \nL 3047 0 \nL 2419 0 \nL 2419 1100 \nL 313 1100 \nL 313 1709 \nL 2253 4666 \nz\n\" transform=\"scale(0.015625)\"/>\n       </defs>\n       <use xlink:href=\"#DejaVuSans-34\"/>\n      </g>\n     </g>\n    </g>\n    <g id=\"xtick_3\">\n     <g id=\"line2d_5\">\n      <path d=\"M 138.603125 145.8 \nL 138.603125 7.2 \n\" clip-path=\"url(#pfc16b2dc4f)\" style=\"fill: none; stroke: #b0b0b0; stroke-width: 0.8; stroke-linecap: square\"/>\n     </g>\n     <g id=\"line2d_6\">\n      <g>\n       <use xlink:href=\"#m3e58b05883\" x=\"138.603125\" y=\"145.8\" style=\"stroke: #000000; stroke-width: 0.8\"/>\n      </g>\n     </g>\n     <g id=\"text_3\">\n      <!-- 6 -->\n      <g transform=\"translate(135.421875 160.398438)scale(0.1 -0.1)\">\n       <defs>\n        <path id=\"DejaVuSans-36\" d=\"M 2113 2584 \nQ 1688 2584 1439 2293 \nQ 1191 2003 1191 1497 \nQ 1191 994 1439 701 \nQ 1688 409 2113 409 \nQ 2538 409 2786 701 \nQ 3034 994 3034 1497 \nQ 3034 2003 2786 2293 \nQ 2538 2584 2113 2584 \nz\nM 3366 4563 \nL 3366 3988 \nQ 3128 4100 2886 4159 \nQ 2644 4219 2406 4219 \nQ 1781 4219 1451 3797 \nQ 1122 3375 1075 2522 \nQ 1259 2794 1537 2939 \nQ 1816 3084 2150 3084 \nQ 2853 3084 3261 2657 \nQ 3669 2231 3669 1497 \nQ 3669 778 3244 343 \nQ 2819 -91 2113 -91 \nQ 1303 -91 875 529 \nQ 447 1150 447 2328 \nQ 447 3434 972 4092 \nQ 1497 4750 2381 4750 \nQ 2619 4750 2861 4703 \nQ 3103 4656 3366 4563 \nz\n\" transform=\"scale(0.015625)\"/>\n       </defs>\n       <use xlink:href=\"#DejaVuSans-36\"/>\n      </g>\n     </g>\n    </g>\n    <g id=\"xtick_4\">\n     <g id=\"line2d_7\">\n      <path d=\"M 182.003125 145.8 \nL 182.003125 7.2 \n\" clip-path=\"url(#pfc16b2dc4f)\" style=\"fill: none; stroke: #b0b0b0; stroke-width: 0.8; stroke-linecap: square\"/>\n     </g>\n     <g id=\"line2d_8\">\n      <g>\n       <use xlink:href=\"#m3e58b05883\" x=\"182.003125\" y=\"145.8\" style=\"stroke: #000000; stroke-width: 0.8\"/>\n      </g>\n     </g>\n     <g id=\"text_4\">\n      <!-- 8 -->\n      <g transform=\"translate(178.821875 160.398438)scale(0.1 -0.1)\">\n       <defs>\n        <path id=\"DejaVuSans-38\" d=\"M 2034 2216 \nQ 1584 2216 1326 1975 \nQ 1069 1734 1069 1313 \nQ 1069 891 1326 650 \nQ 1584 409 2034 409 \nQ 2484 409 2743 651 \nQ 3003 894 3003 1313 \nQ 3003 1734 2745 1975 \nQ 2488 2216 2034 2216 \nz\nM 1403 2484 \nQ 997 2584 770 2862 \nQ 544 3141 544 3541 \nQ 544 4100 942 4425 \nQ 1341 4750 2034 4750 \nQ 2731 4750 3128 4425 \nQ 3525 4100 3525 3541 \nQ 3525 3141 3298 2862 \nQ 3072 2584 2669 2484 \nQ 3125 2378 3379 2068 \nQ 3634 1759 3634 1313 \nQ 3634 634 3220 271 \nQ 2806 -91 2034 -91 \nQ 1263 -91 848 271 \nQ 434 634 434 1313 \nQ 434 1759 690 2068 \nQ 947 2378 1403 2484 \nz\nM 1172 3481 \nQ 1172 3119 1398 2916 \nQ 1625 2713 2034 2713 \nQ 2441 2713 2670 2916 \nQ 2900 3119 2900 3481 \nQ 2900 3844 2670 4047 \nQ 2441 4250 2034 4250 \nQ 1625 4250 1398 4047 \nQ 1172 3844 1172 3481 \nz\n\" transform=\"scale(0.015625)\"/>\n       </defs>\n       <use xlink:href=\"#DejaVuSans-38\"/>\n      </g>\n     </g>\n    </g>\n    <g id=\"xtick_5\">\n     <g id=\"line2d_9\">\n      <path d=\"M 225.403125 145.8 \nL 225.403125 7.2 \n\" clip-path=\"url(#pfc16b2dc4f)\" style=\"fill: none; stroke: #b0b0b0; stroke-width: 0.8; stroke-linecap: square\"/>\n     </g>\n     <g id=\"line2d_10\">\n      <g>\n       <use xlink:href=\"#m3e58b05883\" x=\"225.403125\" y=\"145.8\" style=\"stroke: #000000; stroke-width: 0.8\"/>\n      </g>\n     </g>\n     <g id=\"text_5\">\n      <!-- 10 -->\n      <g transform=\"translate(219.040625 160.398438)scale(0.1 -0.1)\">\n       <defs>\n        <path id=\"DejaVuSans-31\" d=\"M 794 531 \nL 1825 531 \nL 1825 4091 \nL 703 3866 \nL 703 4441 \nL 1819 4666 \nL 2450 4666 \nL 2450 531 \nL 3481 531 \nL 3481 0 \nL 794 0 \nL 794 531 \nz\n\" transform=\"scale(0.015625)\"/>\n        <path id=\"DejaVuSans-30\" d=\"M 2034 4250 \nQ 1547 4250 1301 3770 \nQ 1056 3291 1056 2328 \nQ 1056 1369 1301 889 \nQ 1547 409 2034 409 \nQ 2525 409 2770 889 \nQ 3016 1369 3016 2328 \nQ 3016 3291 2770 3770 \nQ 2525 4250 2034 4250 \nz\nM 2034 4750 \nQ 2819 4750 3233 4129 \nQ 3647 3509 3647 2328 \nQ 3647 1150 3233 529 \nQ 2819 -91 2034 -91 \nQ 1250 -91 836 529 \nQ 422 1150 422 2328 \nQ 422 3509 836 4129 \nQ 1250 4750 2034 4750 \nz\n\" transform=\"scale(0.015625)\"/>\n       </defs>\n       <use xlink:href=\"#DejaVuSans-31\"/>\n       <use xlink:href=\"#DejaVuSans-30\" x=\"63.623047\"/>\n      </g>\n     </g>\n    </g>\n    <g id=\"text_6\">\n     <!-- epoch -->\n     <g transform=\"translate(112.525 174.076563)scale(0.1 -0.1)\">\n      <defs>\n       <path id=\"DejaVuSans-65\" d=\"M 3597 1894 \nL 3597 1613 \nL 953 1613 \nQ 991 1019 1311 708 \nQ 1631 397 2203 397 \nQ 2534 397 2845 478 \nQ 3156 559 3463 722 \nL 3463 178 \nQ 3153 47 2828 -22 \nQ 2503 -91 2169 -91 \nQ 1331 -91 842 396 \nQ 353 884 353 1716 \nQ 353 2575 817 3079 \nQ 1281 3584 2069 3584 \nQ 2775 3584 3186 3129 \nQ 3597 2675 3597 1894 \nz\nM 3022 2063 \nQ 3016 2534 2758 2815 \nQ 2500 3097 2075 3097 \nQ 1594 3097 1305 2825 \nQ 1016 2553 972 2059 \nL 3022 2063 \nz\n\" transform=\"scale(0.015625)\"/>\n       <path id=\"DejaVuSans-70\" d=\"M 1159 525 \nL 1159 -1331 \nL 581 -1331 \nL 581 3500 \nL 1159 3500 \nL 1159 2969 \nQ 1341 3281 1617 3432 \nQ 1894 3584 2278 3584 \nQ 2916 3584 3314 3078 \nQ 3713 2572 3713 1747 \nQ 3713 922 3314 415 \nQ 2916 -91 2278 -91 \nQ 1894 -91 1617 61 \nQ 1341 213 1159 525 \nz\nM 3116 1747 \nQ 3116 2381 2855 2742 \nQ 2594 3103 2138 3103 \nQ 1681 3103 1420 2742 \nQ 1159 2381 1159 1747 \nQ 1159 1113 1420 752 \nQ 1681 391 2138 391 \nQ 2594 391 2855 752 \nQ 3116 1113 3116 1747 \nz\n\" transform=\"scale(0.015625)\"/>\n       <path id=\"DejaVuSans-6f\" d=\"M 1959 3097 \nQ 1497 3097 1228 2736 \nQ 959 2375 959 1747 \nQ 959 1119 1226 758 \nQ 1494 397 1959 397 \nQ 2419 397 2687 759 \nQ 2956 1122 2956 1747 \nQ 2956 2369 2687 2733 \nQ 2419 3097 1959 3097 \nz\nM 1959 3584 \nQ 2709 3584 3137 3096 \nQ 3566 2609 3566 1747 \nQ 3566 888 3137 398 \nQ 2709 -91 1959 -91 \nQ 1206 -91 779 398 \nQ 353 888 353 1747 \nQ 353 2609 779 3096 \nQ 1206 3584 1959 3584 \nz\n\" transform=\"scale(0.015625)\"/>\n       <path id=\"DejaVuSans-63\" d=\"M 3122 3366 \nL 3122 2828 \nQ 2878 2963 2633 3030 \nQ 2388 3097 2138 3097 \nQ 1578 3097 1268 2742 \nQ 959 2388 959 1747 \nQ 959 1106 1268 751 \nQ 1578 397 2138 397 \nQ 2388 397 2633 464 \nQ 2878 531 3122 666 \nL 3122 134 \nQ 2881 22 2623 -34 \nQ 2366 -91 2075 -91 \nQ 1284 -91 818 406 \nQ 353 903 353 1747 \nQ 353 2603 823 3093 \nQ 1294 3584 2113 3584 \nQ 2378 3584 2631 3529 \nQ 2884 3475 3122 3366 \nz\n\" transform=\"scale(0.015625)\"/>\n       <path id=\"DejaVuSans-68\" d=\"M 3513 2113 \nL 3513 0 \nL 2938 0 \nL 2938 2094 \nQ 2938 2591 2744 2837 \nQ 2550 3084 2163 3084 \nQ 1697 3084 1428 2787 \nQ 1159 2491 1159 1978 \nL 1159 0 \nL 581 0 \nL 581 4863 \nL 1159 4863 \nL 1159 2956 \nQ 1366 3272 1645 3428 \nQ 1925 3584 2291 3584 \nQ 2894 3584 3203 3211 \nQ 3513 2838 3513 2113 \nz\n\" transform=\"scale(0.015625)\"/>\n      </defs>\n      <use xlink:href=\"#DejaVuSans-65\"/>\n      <use xlink:href=\"#DejaVuSans-70\" x=\"61.523438\"/>\n      <use xlink:href=\"#DejaVuSans-6f\" x=\"125\"/>\n      <use xlink:href=\"#DejaVuSans-63\" x=\"186.181641\"/>\n      <use xlink:href=\"#DejaVuSans-68\" x=\"241.162109\"/>\n     </g>\n    </g>\n   </g>\n   <g id=\"matplotlib.axis_2\">\n    <g id=\"ytick_1\">\n     <g id=\"line2d_11\">\n      <path d=\"M 30.103125 145.07255 \nL 225.403125 145.07255 \n\" clip-path=\"url(#pfc16b2dc4f)\" style=\"fill: none; stroke: #b0b0b0; stroke-width: 0.8; stroke-linecap: square\"/>\n     </g>\n     <g id=\"line2d_12\">\n      <defs>\n       <path id=\"m1b84855ef0\" d=\"M 0 0 \nL -3.5 0 \n\" style=\"stroke: #000000; stroke-width: 0.8\"/>\n      </defs>\n      <g>\n       <use xlink:href=\"#m1b84855ef0\" x=\"30.103125\" y=\"145.07255\" style=\"stroke: #000000; stroke-width: 0.8\"/>\n      </g>\n     </g>\n     <g id=\"text_7\">\n      <!-- 0.0 -->\n      <g transform=\"translate(7.2 148.871769)scale(0.1 -0.1)\">\n       <defs>\n        <path id=\"DejaVuSans-2e\" d=\"M 684 794 \nL 1344 794 \nL 1344 0 \nL 684 0 \nL 684 794 \nz\n\" transform=\"scale(0.015625)\"/>\n       </defs>\n       <use xlink:href=\"#DejaVuSans-30\"/>\n       <use xlink:href=\"#DejaVuSans-2e\" x=\"63.623047\"/>\n       <use xlink:href=\"#DejaVuSans-30\" x=\"95.410156\"/>\n      </g>\n     </g>\n    </g>\n    <g id=\"ytick_2\">\n     <g id=\"line2d_13\">\n      <path d=\"M 30.103125 117.181982 \nL 225.403125 117.181982 \n\" clip-path=\"url(#pfc16b2dc4f)\" style=\"fill: none; stroke: #b0b0b0; stroke-width: 0.8; stroke-linecap: square\"/>\n     </g>\n     <g id=\"line2d_14\">\n      <g>\n       <use xlink:href=\"#m1b84855ef0\" x=\"30.103125\" y=\"117.181982\" style=\"stroke: #000000; stroke-width: 0.8\"/>\n      </g>\n     </g>\n     <g id=\"text_8\">\n      <!-- 0.5 -->\n      <g transform=\"translate(7.2 120.981201)scale(0.1 -0.1)\">\n       <defs>\n        <path id=\"DejaVuSans-35\" d=\"M 691 4666 \nL 3169 4666 \nL 3169 4134 \nL 1269 4134 \nL 1269 2991 \nQ 1406 3038 1543 3061 \nQ 1681 3084 1819 3084 \nQ 2600 3084 3056 2656 \nQ 3513 2228 3513 1497 \nQ 3513 744 3044 326 \nQ 2575 -91 1722 -91 \nQ 1428 -91 1123 -41 \nQ 819 9 494 109 \nL 494 744 \nQ 775 591 1075 516 \nQ 1375 441 1709 441 \nQ 2250 441 2565 725 \nQ 2881 1009 2881 1497 \nQ 2881 1984 2565 2268 \nQ 2250 2553 1709 2553 \nQ 1456 2553 1204 2497 \nQ 953 2441 691 2322 \nL 691 4666 \nz\n\" transform=\"scale(0.015625)\"/>\n       </defs>\n       <use xlink:href=\"#DejaVuSans-30\"/>\n       <use xlink:href=\"#DejaVuSans-2e\" x=\"63.623047\"/>\n       <use xlink:href=\"#DejaVuSans-35\" x=\"95.410156\"/>\n      </g>\n     </g>\n    </g>\n    <g id=\"ytick_3\">\n     <g id=\"line2d_15\">\n      <path d=\"M 30.103125 89.291415 \nL 225.403125 89.291415 \n\" clip-path=\"url(#pfc16b2dc4f)\" style=\"fill: none; stroke: #b0b0b0; stroke-width: 0.8; stroke-linecap: square\"/>\n     </g>\n     <g id=\"line2d_16\">\n      <g>\n       <use xlink:href=\"#m1b84855ef0\" x=\"30.103125\" y=\"89.291415\" style=\"stroke: #000000; stroke-width: 0.8\"/>\n      </g>\n     </g>\n     <g id=\"text_9\">\n      <!-- 1.0 -->\n      <g transform=\"translate(7.2 93.090633)scale(0.1 -0.1)\">\n       <use xlink:href=\"#DejaVuSans-31\"/>\n       <use xlink:href=\"#DejaVuSans-2e\" x=\"63.623047\"/>\n       <use xlink:href=\"#DejaVuSans-30\" x=\"95.410156\"/>\n      </g>\n     </g>\n    </g>\n    <g id=\"ytick_4\">\n     <g id=\"line2d_17\">\n      <path d=\"M 30.103125 61.400847 \nL 225.403125 61.400847 \n\" clip-path=\"url(#pfc16b2dc4f)\" style=\"fill: none; stroke: #b0b0b0; stroke-width: 0.8; stroke-linecap: square\"/>\n     </g>\n     <g id=\"line2d_18\">\n      <g>\n       <use xlink:href=\"#m1b84855ef0\" x=\"30.103125\" y=\"61.400847\" style=\"stroke: #000000; stroke-width: 0.8\"/>\n      </g>\n     </g>\n     <g id=\"text_10\">\n      <!-- 1.5 -->\n      <g transform=\"translate(7.2 65.200066)scale(0.1 -0.1)\">\n       <use xlink:href=\"#DejaVuSans-31\"/>\n       <use xlink:href=\"#DejaVuSans-2e\" x=\"63.623047\"/>\n       <use xlink:href=\"#DejaVuSans-35\" x=\"95.410156\"/>\n      </g>\n     </g>\n    </g>\n    <g id=\"ytick_5\">\n     <g id=\"line2d_19\">\n      <path d=\"M 30.103125 33.510279 \nL 225.403125 33.510279 \n\" clip-path=\"url(#pfc16b2dc4f)\" style=\"fill: none; stroke: #b0b0b0; stroke-width: 0.8; stroke-linecap: square\"/>\n     </g>\n     <g id=\"line2d_20\">\n      <g>\n       <use xlink:href=\"#m1b84855ef0\" x=\"30.103125\" y=\"33.510279\" style=\"stroke: #000000; stroke-width: 0.8\"/>\n      </g>\n     </g>\n     <g id=\"text_11\">\n      <!-- 2.0 -->\n      <g transform=\"translate(7.2 37.309498)scale(0.1 -0.1)\">\n       <use xlink:href=\"#DejaVuSans-32\"/>\n       <use xlink:href=\"#DejaVuSans-2e\" x=\"63.623047\"/>\n       <use xlink:href=\"#DejaVuSans-30\" x=\"95.410156\"/>\n      </g>\n     </g>\n    </g>\n   </g>\n   <g id=\"line2d_21\">\n    <path d=\"M 12.743125 13.5 \nL 17.083125 14.790957 \nL 21.423125 15.314944 \nL 25.763125 15.567164 \nL 30.103125 15.740819 \nL 34.443125 16.586658 \nL 38.783125 16.643491 \nL 43.123125 17.362639 \nL 47.463125 23.906811 \nL 51.803125 33.174297 \nL 56.143125 81.59979 \nL 60.483125 85.221885 \nL 64.823125 86.956117 \nL 69.163125 88.791256 \nL 73.503125 90.515335 \nL 77.843125 98.252768 \nL 82.183125 99.876426 \nL 86.523125 100.713616 \nL 90.863125 101.478049 \nL 95.203125 102.62019 \nL 99.543125 105.167766 \nL 103.883125 106.449312 \nL 108.223125 107.082838 \nL 112.563125 107.614053 \nL 116.903125 107.953762 \nL 121.243125 109.561194 \nL 125.583125 110.034329 \nL 129.923125 110.395582 \nL 134.263125 110.694709 \nL 138.603125 110.983082 \nL 142.943125 112.269522 \nL 147.283125 112.766154 \nL 151.623125 113.152662 \nL 155.963125 113.250794 \nL 160.303125 113.65767 \nL 164.643125 114.701456 \nL 168.983125 114.916346 \nL 173.323125 115.047725 \nL 177.663125 115.329525 \nL 182.003125 115.548047 \nL 186.343125 116.663014 \nL 190.683125 116.782994 \nL 195.023125 116.888795 \nL 199.363125 117.085829 \nL 203.703125 117.368051 \nL 208.043125 117.695735 \nL 212.383125 117.773656 \nL 216.723125 118.295568 \nL 221.063125 118.481903 \nL 225.403125 118.564746 \n\" clip-path=\"url(#pfc16b2dc4f)\" style=\"fill: none; stroke: #1f77b4; stroke-width: 1.5; stroke-linecap: square\"/>\n   </g>\n   <g id=\"line2d_22\">\n    <path d=\"M 12.743125 139.467548 \nL 17.083125 139.5 \nL 21.423125 139.384098 \nL 25.763125 139.474502 \nL 30.103125 139.452601 \nL 34.443125 139.388734 \nL 38.783125 139.066528 \nL 43.123125 138.121543 \nL 47.463125 135.487486 \nL 51.803125 132.126678 \nL 56.143125 115.318284 \nL 60.483125 113.663209 \nL 64.823125 113.074429 \nL 69.163125 112.21328 \nL 73.503125 111.350994 \nL 77.843125 107.381341 \nL 82.183125 106.924688 \nL 86.523125 106.591664 \nL 90.863125 106.378792 \nL 95.203125 105.944873 \nL 99.543125 104.808325 \nL 103.883125 104.284449 \nL 108.223125 104.100552 \nL 112.563125 103.991218 \nL 116.903125 103.845643 \nL 121.243125 103.227426 \nL 125.583125 102.981715 \nL 129.923125 102.802454 \nL 134.263125 102.707028 \nL 138.603125 102.592426 \nL 142.943125 101.933964 \nL 147.283125 101.848197 \nL 151.623125 101.723796 \nL 155.963125 101.615235 \nL 160.303125 101.39871 \nL 164.643125 100.941846 \nL 168.983125 100.91403 \nL 173.323125 100.892395 \nL 177.663125 100.765676 \nL 182.003125 100.657751 \nL 186.343125 100.251073 \nL 190.683125 100.197758 \nL 195.023125 100.057903 \nL 199.363125 100.01811 \nL 203.703125 99.881463 \nL 208.043125 99.778194 \nL 212.383125 99.622886 \nL 216.723125 99.388765 \nL 221.063125 99.270545 \nL 225.403125 99.252066 \n\" clip-path=\"url(#pfc16b2dc4f)\" style=\"fill: none; stroke-dasharray: 5.55,2.4; stroke-dashoffset: 0; stroke: #bf00bf; stroke-width: 1.5\"/>\n   </g>\n   <g id=\"line2d_23\">\n    <path d=\"M 30.103125 139.494437 \nL 51.803125 116.98117 \nL 73.503125 110.912183 \nL 95.203125 106.605879 \nL 116.903125 103.627167 \nL 138.603125 102.082029 \nL 160.303125 103.476557 \nL 182.003125 100.235674 \nL 203.703125 102.299576 \nL 225.403125 99.622081 \n\" clip-path=\"url(#pfc16b2dc4f)\" style=\"fill: none; stroke-dasharray: 9.6,2.4,1.5,2.4; stroke-dashoffset: 0; stroke: #008000; stroke-width: 1.5\"/>\n   </g>\n   <g id=\"patch_3\">\n    <path d=\"M 30.103125 145.8 \nL 30.103125 7.2 \n\" style=\"fill: none; stroke: #000000; stroke-width: 0.8; stroke-linejoin: miter; stroke-linecap: square\"/>\n   </g>\n   <g id=\"patch_4\">\n    <path d=\"M 225.403125 145.8 \nL 225.403125 7.2 \n\" style=\"fill: none; stroke: #000000; stroke-width: 0.8; stroke-linejoin: miter; stroke-linecap: square\"/>\n   </g>\n   <g id=\"patch_5\">\n    <path d=\"M 30.103125 145.8 \nL 225.403125 145.8 \n\" style=\"fill: none; stroke: #000000; stroke-width: 0.8; stroke-linejoin: miter; stroke-linecap: square\"/>\n   </g>\n   <g id=\"patch_6\">\n    <path d=\"M 30.103125 7.2 \nL 225.403125 7.2 \n\" style=\"fill: none; stroke: #000000; stroke-width: 0.8; stroke-linejoin: miter; stroke-linecap: square\"/>\n   </g>\n   <g id=\"legend_1\">\n    <g id=\"patch_7\">\n     <path d=\"M 140.634375 59.234375 \nL 218.403125 59.234375 \nQ 220.403125 59.234375 220.403125 57.234375 \nL 220.403125 14.2 \nQ 220.403125 12.2 218.403125 12.2 \nL 140.634375 12.2 \nQ 138.634375 12.2 138.634375 14.2 \nL 138.634375 57.234375 \nQ 138.634375 59.234375 140.634375 59.234375 \nz\n\" style=\"fill: #ffffff; opacity: 0.8; stroke: #cccccc; stroke-linejoin: miter\"/>\n    </g>\n    <g id=\"line2d_24\">\n     <path d=\"M 142.634375 20.298438 \nL 152.634375 20.298438 \nL 162.634375 20.298438 \n\" style=\"fill: none; stroke: #1f77b4; stroke-width: 1.5; stroke-linecap: square\"/>\n    </g>\n    <g id=\"text_12\">\n     <!-- train loss -->\n     <g transform=\"translate(170.634375 23.798438)scale(0.1 -0.1)\">\n      <defs>\n       <path id=\"DejaVuSans-74\" d=\"M 1172 4494 \nL 1172 3500 \nL 2356 3500 \nL 2356 3053 \nL 1172 3053 \nL 1172 1153 \nQ 1172 725 1289 603 \nQ 1406 481 1766 481 \nL 2356 481 \nL 2356 0 \nL 1766 0 \nQ 1100 0 847 248 \nQ 594 497 594 1153 \nL 594 3053 \nL 172 3053 \nL 172 3500 \nL 594 3500 \nL 594 4494 \nL 1172 4494 \nz\n\" transform=\"scale(0.015625)\"/>\n       <path id=\"DejaVuSans-72\" d=\"M 2631 2963 \nQ 2534 3019 2420 3045 \nQ 2306 3072 2169 3072 \nQ 1681 3072 1420 2755 \nQ 1159 2438 1159 1844 \nL 1159 0 \nL 581 0 \nL 581 3500 \nL 1159 3500 \nL 1159 2956 \nQ 1341 3275 1631 3429 \nQ 1922 3584 2338 3584 \nQ 2397 3584 2469 3576 \nQ 2541 3569 2628 3553 \nL 2631 2963 \nz\n\" transform=\"scale(0.015625)\"/>\n       <path id=\"DejaVuSans-61\" d=\"M 2194 1759 \nQ 1497 1759 1228 1600 \nQ 959 1441 959 1056 \nQ 959 750 1161 570 \nQ 1363 391 1709 391 \nQ 2188 391 2477 730 \nQ 2766 1069 2766 1631 \nL 2766 1759 \nL 2194 1759 \nz\nM 3341 1997 \nL 3341 0 \nL 2766 0 \nL 2766 531 \nQ 2569 213 2275 61 \nQ 1981 -91 1556 -91 \nQ 1019 -91 701 211 \nQ 384 513 384 1019 \nQ 384 1609 779 1909 \nQ 1175 2209 1959 2209 \nL 2766 2209 \nL 2766 2266 \nQ 2766 2663 2505 2880 \nQ 2244 3097 1772 3097 \nQ 1472 3097 1187 3025 \nQ 903 2953 641 2809 \nL 641 3341 \nQ 956 3463 1253 3523 \nQ 1550 3584 1831 3584 \nQ 2591 3584 2966 3190 \nQ 3341 2797 3341 1997 \nz\n\" transform=\"scale(0.015625)\"/>\n       <path id=\"DejaVuSans-69\" d=\"M 603 3500 \nL 1178 3500 \nL 1178 0 \nL 603 0 \nL 603 3500 \nz\nM 603 4863 \nL 1178 4863 \nL 1178 4134 \nL 603 4134 \nL 603 4863 \nz\n\" transform=\"scale(0.015625)\"/>\n       <path id=\"DejaVuSans-6e\" d=\"M 3513 2113 \nL 3513 0 \nL 2938 0 \nL 2938 2094 \nQ 2938 2591 2744 2837 \nQ 2550 3084 2163 3084 \nQ 1697 3084 1428 2787 \nQ 1159 2491 1159 1978 \nL 1159 0 \nL 581 0 \nL 581 3500 \nL 1159 3500 \nL 1159 2956 \nQ 1366 3272 1645 3428 \nQ 1925 3584 2291 3584 \nQ 2894 3584 3203 3211 \nQ 3513 2838 3513 2113 \nz\n\" transform=\"scale(0.015625)\"/>\n       <path id=\"DejaVuSans-20\" transform=\"scale(0.015625)\"/>\n       <path id=\"DejaVuSans-6c\" d=\"M 603 4863 \nL 1178 4863 \nL 1178 0 \nL 603 0 \nL 603 4863 \nz\n\" transform=\"scale(0.015625)\"/>\n       <path id=\"DejaVuSans-73\" d=\"M 2834 3397 \nL 2834 2853 \nQ 2591 2978 2328 3040 \nQ 2066 3103 1784 3103 \nQ 1356 3103 1142 2972 \nQ 928 2841 928 2578 \nQ 928 2378 1081 2264 \nQ 1234 2150 1697 2047 \nL 1894 2003 \nQ 2506 1872 2764 1633 \nQ 3022 1394 3022 966 \nQ 3022 478 2636 193 \nQ 2250 -91 1575 -91 \nQ 1294 -91 989 -36 \nQ 684 19 347 128 \nL 347 722 \nQ 666 556 975 473 \nQ 1284 391 1588 391 \nQ 1994 391 2212 530 \nQ 2431 669 2431 922 \nQ 2431 1156 2273 1281 \nQ 2116 1406 1581 1522 \nL 1381 1569 \nQ 847 1681 609 1914 \nQ 372 2147 372 2553 \nQ 372 3047 722 3315 \nQ 1072 3584 1716 3584 \nQ 2034 3584 2315 3537 \nQ 2597 3491 2834 3397 \nz\n\" transform=\"scale(0.015625)\"/>\n      </defs>\n      <use xlink:href=\"#DejaVuSans-74\"/>\n      <use xlink:href=\"#DejaVuSans-72\" x=\"39.208984\"/>\n      <use xlink:href=\"#DejaVuSans-61\" x=\"80.322266\"/>\n      <use xlink:href=\"#DejaVuSans-69\" x=\"141.601562\"/>\n      <use xlink:href=\"#DejaVuSans-6e\" x=\"169.384766\"/>\n      <use xlink:href=\"#DejaVuSans-20\" x=\"232.763672\"/>\n      <use xlink:href=\"#DejaVuSans-6c\" x=\"264.550781\"/>\n      <use xlink:href=\"#DejaVuSans-6f\" x=\"292.333984\"/>\n      <use xlink:href=\"#DejaVuSans-73\" x=\"353.515625\"/>\n      <use xlink:href=\"#DejaVuSans-73\" x=\"405.615234\"/>\n     </g>\n    </g>\n    <g id=\"line2d_25\">\n     <path d=\"M 142.634375 34.976563 \nL 152.634375 34.976563 \nL 162.634375 34.976563 \n\" style=\"fill: none; stroke-dasharray: 5.55,2.4; stroke-dashoffset: 0; stroke: #bf00bf; stroke-width: 1.5\"/>\n    </g>\n    <g id=\"text_13\">\n     <!-- train acc -->\n     <g transform=\"translate(170.634375 38.476563)scale(0.1 -0.1)\">\n      <use xlink:href=\"#DejaVuSans-74\"/>\n      <use xlink:href=\"#DejaVuSans-72\" x=\"39.208984\"/>\n      <use xlink:href=\"#DejaVuSans-61\" x=\"80.322266\"/>\n      <use xlink:href=\"#DejaVuSans-69\" x=\"141.601562\"/>\n      <use xlink:href=\"#DejaVuSans-6e\" x=\"169.384766\"/>\n      <use xlink:href=\"#DejaVuSans-20\" x=\"232.763672\"/>\n      <use xlink:href=\"#DejaVuSans-61\" x=\"264.550781\"/>\n      <use xlink:href=\"#DejaVuSans-63\" x=\"325.830078\"/>\n      <use xlink:href=\"#DejaVuSans-63\" x=\"380.810547\"/>\n     </g>\n    </g>\n    <g id=\"line2d_26\">\n     <path d=\"M 142.634375 49.654688 \nL 152.634375 49.654688 \nL 162.634375 49.654688 \n\" style=\"fill: none; stroke-dasharray: 9.6,2.4,1.5,2.4; stroke-dashoffset: 0; stroke: #008000; stroke-width: 1.5\"/>\n    </g>\n    <g id=\"text_14\">\n     <!-- test acc -->\n     <g transform=\"translate(170.634375 53.154688)scale(0.1 -0.1)\">\n      <use xlink:href=\"#DejaVuSans-74\"/>\n      <use xlink:href=\"#DejaVuSans-65\" x=\"39.208984\"/>\n      <use xlink:href=\"#DejaVuSans-73\" x=\"100.732422\"/>\n      <use xlink:href=\"#DejaVuSans-74\" x=\"152.832031\"/>\n      <use xlink:href=\"#DejaVuSans-20\" x=\"192.041016\"/>\n      <use xlink:href=\"#DejaVuSans-61\" x=\"223.828125\"/>\n      <use xlink:href=\"#DejaVuSans-63\" x=\"285.107422\"/>\n      <use xlink:href=\"#DejaVuSans-63\" x=\"340.087891\"/>\n     </g>\n    </g>\n   </g>\n  </g>\n </g>\n <defs>\n  <clipPath id=\"pfc16b2dc4f\">\n   <rect x=\"30.103125\" y=\"7.2\" width=\"195.3\" height=\"138.6\"/>\n  </clipPath>\n </defs>\n</svg>\n"
          },
          "metadata": {}
        },
        {
          "output_type": "display_data",
          "data": {
            "text/plain": [
              "<Figure size 1350x150 with 9 Axes>"
            ],
            "image/svg+xml": "<?xml version=\"1.0\" encoding=\"utf-8\" standalone=\"no\"?>\n<!DOCTYPE svg PUBLIC \"-//W3C//DTD SVG 1.1//EN\"\n  \"http://www.w3.org/Graphics/SVG/1.1/DTD/svg11.dtd\">\n<svg xmlns:xlink=\"http://www.w3.org/1999/xlink\" width=\"771.2pt\" height=\"88.966038pt\" viewBox=\"0 0 771.2 88.966038\" xmlns=\"http://www.w3.org/2000/svg\" version=\"1.1\">\n <metadata>\n  <rdf:RDF xmlns:dc=\"http://purl.org/dc/elements/1.1/\" xmlns:cc=\"http://creativecommons.org/ns#\" xmlns:rdf=\"http://www.w3.org/1999/02/22-rdf-syntax-ns#\">\n   <cc:Work>\n    <dc:type rdf:resource=\"http://purl.org/dc/dcmitype/StillImage\"/>\n    <dc:date>2023-04-20T10:14:13.975266</dc:date>\n    <dc:format>image/svg+xml</dc:format>\n    <dc:creator>\n     <cc:Agent>\n      <dc:title>Matplotlib v3.5.1, https://matplotlib.org/</dc:title>\n     </cc:Agent>\n    </dc:creator>\n   </cc:Work>\n  </rdf:RDF>\n </metadata>\n <defs>\n  <style type=\"text/css\">*{stroke-linejoin: round; stroke-linecap: butt}</style>\n </defs>\n <g id=\"figure_1\">\n  <g id=\"patch_1\">\n   <path d=\"M 0 88.966038 \nL 771.2 88.966038 \nL 771.2 0 \nL 0 0 \nz\n\" style=\"fill: #ffffff\"/>\n  </g>\n  <g id=\"axes_1\">\n   <g id=\"patch_2\">\n    <path d=\"M 10.7 78.266038 \nL 81.766038 78.266038 \nL 81.766038 7.2 \nL 10.7 7.2 \nz\n\" style=\"fill: #ffffff\"/>\n   </g>\n   <g clip-path=\"url(#pcaf11c5340)\">\n    <image xlink:href=\"data:image/png;base64,\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\" id=\"image4ff59d49b9\" transform=\"scale(1 -1)translate(0 -71.28)\" x=\"10.7\" y=\"-6.986038\" width=\"71.28\" height=\"71.28\"/>\n   </g>\n   <g id=\"patch_3\">\n    <path d=\"M 10.7 78.266038 \nL 10.7 7.2 \n\" style=\"fill: none; stroke: #000000; stroke-width: 0.8; stroke-linejoin: miter; stroke-linecap: square\"/>\n   </g>\n   <g id=\"patch_4\">\n    <path d=\"M 81.766038 78.266038 \nL 81.766038 7.2 \n\" style=\"fill: none; stroke: #000000; stroke-width: 0.8; stroke-linejoin: miter; stroke-linecap: square\"/>\n   </g>\n   <g id=\"patch_5\">\n    <path d=\"M 10.7 78.266038 \nL 81.766038 78.266038 \n\" style=\"fill: none; stroke: #000000; stroke-width: 0.8; stroke-linejoin: miter; stroke-linecap: square\"/>\n   </g>\n   <g id=\"patch_6\">\n    <path d=\"M 10.7 7.2 \nL 81.766038 7.2 \n\" style=\"fill: none; stroke: #000000; stroke-width: 0.8; stroke-linejoin: miter; stroke-linecap: square\"/>\n   </g>\n  </g>\n  <g id=\"axes_2\">\n   <g id=\"patch_7\">\n    <path d=\"M 95.979245 78.266038 \nL 167.045283 78.266038 \nL 167.045283 7.2 \nL 95.979245 7.2 \nz\n\" style=\"fill: #ffffff\"/>\n   </g>\n   <g clip-path=\"url(#pb1cede7040)\">\n    <image xlink:href=\"data:image/png;base64,\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\" id=\"imagea2ed65e02c\" transform=\"scale(1 -1)translate(0 -71.28)\" x=\"95.979245\" y=\"-6.986038\" width=\"71.28\" height=\"71.28\"/>\n   </g>\n   <g id=\"patch_8\">\n    <path d=\"M 95.979245 78.266038 \nL 95.979245 7.2 \n\" style=\"fill: none; stroke: #000000; stroke-width: 0.8; stroke-linejoin: miter; stroke-linecap: square\"/>\n   </g>\n   <g id=\"patch_9\">\n    <path d=\"M 167.045283 78.266038 \nL 167.045283 7.2 \n\" style=\"fill: none; stroke: #000000; stroke-width: 0.8; stroke-linejoin: miter; stroke-linecap: square\"/>\n   </g>\n   <g id=\"patch_10\">\n    <path d=\"M 95.979245 78.266038 \nL 167.045283 78.266038 \n\" style=\"fill: none; stroke: #000000; stroke-width: 0.8; stroke-linejoin: miter; stroke-linecap: square\"/>\n   </g>\n   <g id=\"patch_11\">\n    <path d=\"M 95.979245 7.2 \nL 167.045283 7.2 \n\" style=\"fill: none; stroke: #000000; stroke-width: 0.8; stroke-linejoin: miter; stroke-linecap: square\"/>\n   </g>\n  </g>\n  <g id=\"axes_3\">\n   <g id=\"patch_12\">\n    <path d=\"M 181.258491 78.266038 \nL 252.324528 78.266038 \nL 252.324528 7.2 \nL 181.258491 7.2 \nz\n\" style=\"fill: #ffffff\"/>\n   </g>\n   <g clip-path=\"url(#pa455e41471)\">\n    <image xlink:href=\"data:image/png;base64,\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\" id=\"imageceb32573f3\" transform=\"scale(1 -1)translate(0 -71.28)\" x=\"181.258491\" y=\"-6.986038\" width=\"71.28\" height=\"71.28\"/>\n   </g>\n   <g id=\"patch_13\">\n    <path d=\"M 181.258491 78.266038 \nL 181.258491 7.2 \n\" style=\"fill: none; stroke: #000000; stroke-width: 0.8; stroke-linejoin: miter; stroke-linecap: square\"/>\n   </g>\n   <g id=\"patch_14\">\n    <path d=\"M 252.324528 78.266038 \nL 252.324528 7.2 \n\" style=\"fill: none; stroke: #000000; stroke-width: 0.8; stroke-linejoin: miter; stroke-linecap: square\"/>\n   </g>\n   <g id=\"patch_15\">\n    <path d=\"M 181.258491 78.266038 \nL 252.324528 78.266038 \n\" style=\"fill: none; stroke: #000000; stroke-width: 0.8; stroke-linejoin: miter; stroke-linecap: square\"/>\n   </g>\n   <g id=\"patch_16\">\n    <path d=\"M 181.258491 7.2 \nL 252.324528 7.2 \n\" style=\"fill: none; stroke: #000000; stroke-width: 0.8; stroke-linejoin: miter; stroke-linecap: square\"/>\n   </g>\n  </g>\n  <g id=\"axes_4\">\n   <g id=\"patch_17\">\n    <path d=\"M 266.537736 78.266038 \nL 337.603774 78.266038 \nL 337.603774 7.2 \nL 266.537736 7.2 \nz\n\" style=\"fill: #ffffff\"/>\n   </g>\n   <g clip-path=\"url(#p56649bbabf)\">\n    <image xlink:href=\"data:image/png;base64,\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\" id=\"image78af789f20\" transform=\"scale(1 -1)translate(0 -71.28)\" x=\"266.537736\" y=\"-6.986038\" width=\"71.28\" height=\"71.28\"/>\n   </g>\n   <g id=\"patch_18\">\n    <path d=\"M 266.537736 78.266038 \nL 266.537736 7.2 \n\" style=\"fill: none; stroke: #000000; stroke-width: 0.8; stroke-linejoin: miter; stroke-linecap: square\"/>\n   </g>\n   <g id=\"patch_19\">\n    <path d=\"M 337.603774 78.266038 \nL 337.603774 7.2 \n\" style=\"fill: none; stroke: #000000; stroke-width: 0.8; stroke-linejoin: miter; stroke-linecap: square\"/>\n   </g>\n   <g id=\"patch_20\">\n    <path d=\"M 266.537736 78.266038 \nL 337.603774 78.266038 \n\" style=\"fill: none; stroke: #000000; stroke-width: 0.8; stroke-linejoin: miter; stroke-linecap: square\"/>\n   </g>\n   <g id=\"patch_21\">\n    <path d=\"M 266.537736 7.2 \nL 337.603774 7.2 \n\" style=\"fill: none; stroke: #000000; stroke-width: 0.8; stroke-linejoin: miter; stroke-linecap: square\"/>\n   </g>\n  </g>\n  <g id=\"axes_5\">\n   <g id=\"patch_22\">\n    <path d=\"M 351.816981 78.266038 \nL 422.883019 78.266038 \nL 422.883019 7.2 \nL 351.816981 7.2 \nz\n\" style=\"fill: #ffffff\"/>\n   </g>\n   <g clip-path=\"url(#p26e50f3fea)\">\n    <image xlink:href=\"data:image/png;base64,\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\" id=\"image0a124d7256\" transform=\"scale(1 -1)translate(0 -71.28)\" x=\"351.816981\" y=\"-6.986038\" width=\"71.28\" height=\"71.28\"/>\n   </g>\n   <g id=\"patch_23\">\n    <path d=\"M 351.816981 78.266038 \nL 351.816981 7.2 \n\" style=\"fill: none; stroke: #000000; stroke-width: 0.8; stroke-linejoin: miter; stroke-linecap: square\"/>\n   </g>\n   <g id=\"patch_24\">\n    <path d=\"M 422.883019 78.266038 \nL 422.883019 7.2 \n\" style=\"fill: none; stroke: #000000; stroke-width: 0.8; stroke-linejoin: miter; stroke-linecap: square\"/>\n   </g>\n   <g id=\"patch_25\">\n    <path d=\"M 351.816981 78.266038 \nL 422.883019 78.266038 \n\" style=\"fill: none; stroke: #000000; stroke-width: 0.8; stroke-linejoin: miter; stroke-linecap: square\"/>\n   </g>\n   <g id=\"patch_26\">\n    <path d=\"M 351.816981 7.2 \nL 422.883019 7.2 \n\" style=\"fill: none; stroke: #000000; stroke-width: 0.8; stroke-linejoin: miter; stroke-linecap: square\"/>\n   </g>\n  </g>\n  <g id=\"axes_6\">\n   <g id=\"patch_27\">\n    <path d=\"M 437.096226 78.266038 \nL 508.162264 78.266038 \nL 508.162264 7.2 \nL 437.096226 7.2 \nz\n\" style=\"fill: #ffffff\"/>\n   </g>\n   <g clip-path=\"url(#pf84dc97a63)\">\n    <image xlink:href=\"data:image/png;base64,\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\" id=\"imageb6a0956e8a\" transform=\"scale(1 -1)translate(0 -71.28)\" x=\"437.096226\" y=\"-6.986038\" width=\"71.28\" height=\"71.28\"/>\n   </g>\n   <g id=\"patch_28\">\n    <path d=\"M 437.096226 78.266038 \nL 437.096226 7.2 \n\" style=\"fill: none; stroke: #000000; stroke-width: 0.8; stroke-linejoin: miter; stroke-linecap: square\"/>\n   </g>\n   <g id=\"patch_29\">\n    <path d=\"M 508.162264 78.266038 \nL 508.162264 7.2 \n\" style=\"fill: none; stroke: #000000; stroke-width: 0.8; stroke-linejoin: miter; stroke-linecap: square\"/>\n   </g>\n   <g id=\"patch_30\">\n    <path d=\"M 437.096226 78.266038 \nL 508.162264 78.266038 \n\" style=\"fill: none; stroke: #000000; stroke-width: 0.8; stroke-linejoin: miter; stroke-linecap: square\"/>\n   </g>\n   <g id=\"patch_31\">\n    <path d=\"M 437.096226 7.2 \nL 508.162264 7.2 \n\" style=\"fill: none; stroke: #000000; stroke-width: 0.8; stroke-linejoin: miter; stroke-linecap: square\"/>\n   </g>\n  </g>\n  <g id=\"axes_7\">\n   <g id=\"patch_32\">\n    <path d=\"M 522.375472 78.266038 \nL 593.441509 78.266038 \nL 593.441509 7.2 \nL 522.375472 7.2 \nz\n\" style=\"fill: #ffffff\"/>\n   </g>\n   <g clip-path=\"url(#p66c5c50978)\">\n    <image xlink:href=\"data:image/png;base64,\niVBORw0KGgoAAAANSUhEUgAAAGMAAABjCAYAAACPO76VAAALOklEQVR4nO1dS3MbxxEe7C7ABQgQIEiCYEhKtizakuySZClO4lQc2S6XU/HBlVx8SFUqFx9SlWMOuebiSw7+ATmkUvHFuSWVQxy7lJIcRZJVsWLJtl7Ug3qRFMUHSLwWWOxubtP9NQNE8kOZw3ynHvRidxaN+bq3p2c29fQv304UQ+l6T8uxl+Iqtf9X57T8VvXvoHNSdGwrjkAXMnk5GgJdK6Z2M8mALoipHSRp0FW9mpb9VAi6WpyD9lovr+VMCvsWKUfLBaet+iFMPGhPeFta/kvtWdC99+7zWi5f7IGutgvPw+H01Vg8clhjGARrDIPgtSvgMpS/5mq5MYM+4+cTx7Q86iIvhwlxse/GfS9YdoQ/SRpajhT2hZ+lm6Cu4FA/XYX9DBLk/lZmlfqWwmM5Bv0z5R3lUnT94dGPQPe3iHxGZgv9WVCh78XoBu3IMAnWGAbBy+6pwQebYUnLKTE2JxwM0zhaSVfLnaQ/TQWCbkLWjATdRAm1OyK0zKSoL0Mp/E+1xDV4OF11O32vPyQYjOvSQpdn15x0u6Dj0XN6aQt00eN00j3fuAc6OzIMgjWGQbDGMAjec9Xb8MGxhq9lGQUWnP6P8n9uzGp5KRwF3WR6U8s5R3I2ndMVAWQ3oTDwXq8Iuh/kP9dySfiyTzoVaJ9u7Nbyi4WLoONpFplWqcdZLY+5DdAdyFA7I36okLIvKhVi36pl8iFvTv8DdHZkGARrDIPgTQ5h6LV3ZlnLB0t3QJdmT538iVsppY7X9mj56fwi6KLkwWxecPHJmVPYam8E+8Io7X+dnWdmhyVNxnRPrQQzyvd7BS37DoavIcsWpGUGYC7QcuJi7zyH+r0vY0NbY2GNYRCsMQyC1xAzbzuGN7T86sineLAifu0kGLIttYnTXyhdAV2a5QdKTgt0Mfs/bJuxYz5Dpkpi1pbJFzkrx0NmV2SGOaRv4/3ePptIctnBc85U6TdUDp7zfp0eHdKiL3ZkGARrDIPgLbbxyXZPgcKtqtsUh9MTaSvBYeu71E7LSf+EUwranz9lO4JweCHBcgf72RwmKkqLLHEtwomvTkzHdhnVKoVFD2GCumgAhbZiToVI2WWfqDgoYjagtUFuoSWuZ0eGQbDGMAjWGAbBW2kV4IPvla9q2U/JAgFqy9m0LuNQyb2cb2WIKsNQjlWWjrgblEDHs62BSM3w7ymlVC0kH8KL5pRSqh77qh9i5uv8FPqFLZY6uRuiPxvJUFrn2hHsSypDqZL5cAJ0dmQYBGsMg+Dl0piNnE2vazlIJKUQHUTiQdZj1QtNQQVpN+qrC1jxUJhgSHozGNNyrZMFHf9eSyFNLXWRNjZDoqItQUu8P3Jyi1OYpFd+/QvBNOjKGQptsy/dB12R/RaftWdAZ0eGQbDGMAjWGAbBW2sNwwfTHmUcZVaRp0Dko3zOI9/TiJCXIbQVk/d80r8jik/Xu+RDHBFmu8xHST5vR3ieHpvNiwfMOsqwV94Hh+/QPV1qTIGukKbw9cjUVdDx+1jslFDX92oWjxzWGAbB60VojxmPnh5l+fw9dmxTPDnzcK4V43IwPvydVFroWNY0xnN2I6KXUgaLFSa2ZZQJaVEknHHp6bnk4uTWFqPJjRgpOxxAbzwzzENnpZTKsgz2PlGcUWL9Pt/aATo7MgyCNYZBsMYwCF7QRQ4vDainvdSlWSu+9FYppWZ9SqPURUjI/YKcBZThLIfPuH42twG6AsuihgOKFZTCVM3DgM/0yRnCRVZP3BW+bpEVZ3yzgNnex9K0pK0+hCkeOzIMgjWGQfA6ixjOOQPsc7JOpfVHRi6BbtSjkG0QTQ2JSRqHPeW7gk4qfl3LBTcA3To751qE97DcxgmdmVxNy3JJAg81V0JRz8soVU6YcUxlN6FdZ6FuwcF+D7P7v9UdA50dGQbBGsMgWGMYBC97D+3hDthBYL5Boe1rpXOg4+serjfH+57jsdwatIss/SLDXh4yrnTRD1xjk/l3BPdudjFk5D5DzuZlBvgFXpAgCyd4WmV3bgV0vOCOZ8GVwgzz0aWnQGdHhkGwxjAI1hgGwSvNI09vxjRjlxfp7rk8cePtEHl6sUvpgelsDXS326SLhP35smRZXHy9TX5hpYM+4wZbXrzZQx8x5mN6nadqpF/KpcjXyWeg0QydR/btPltjeDsog261QwXbl7o4C3g1mNTy+okq6OzIMAjWGAbBc0Oc6H+vuVPLL+YWQHejSdT04dJu0DUDSk/4GRzSG4sU6p0tYjri8OEbWpZh4HJA1PTxhcdBtzBL1BCK2cr1JSxiKx6glMTLw7hDAg9tf/fpd0E3WiSa2pjFlMvJ1V1avrmCNBWx/nhis7PTC3Qf1c9kasjCGFhjGARrDIPg5e5i1cWvz7yu5Z8dOA26c/96QsuFBbENA8sWNMbRD02wlchhHrnXPUzHVkXlxuVVCl+n38frre4nXSKW/u44gzx9dooKk0tVLPRejihEnX4XQ/mVQ5TWeWf1O6DLXaSKl/EFsRvQCKU8/rm6D3Qj82yd4D0Mwe3IMAjWGAbBE0sw1PhRGn5/WP8+6EYv0MFj5+ugi4eIp5rTWLNavFDr24HaL6gYTG7YGJ0tabnw109A53aeoYb43vCpa9C+e2SOGvvx2A826Ty5Yxj2TrWf1HL9Fhbm5ZfYUus6hvKdMh0bZTDbm24SpXbG8HeyI8MgWGMYBGsMg+AFFcx4Zhpsh7MAbdUZJXJO0jgrFhaIG9tj+L0RdqxzC2fFeEUI399cKaV6OeLXuIVhb+RTXxyR0lFd5PBolNIOBQcdzJ1Wia5RXwVdnKH7kEs1OkXqay+H99su9/+P99h56rN2uwpjYY1hELxN8doZPiefxVWzsMf3yiFcJsxXeUUYBarOBB2bXRBFB2yi309hX7J7a3R+D3VN9uqDTANpKp/BJ+nDTy5omb9qQSmlWj3WWVGM0Zyka/ayqGtVqC1WuKm4f7kybqouvmdHhkGwxjAI1hgGYRC7beM0aIsUBE+ryOUQ3QLZPCt4+U/LB7X8k8J10L00O6/lKyLby9MK/gb6oXgWJ/p/OH5Uy3IHnvkzNLM5V8QsKs++ijoGxZf49d+C8r9gwMF2ZBgEawyDsC1ry4dR/6pbpCWlRHgnhmKnyGzuYmh56XN61UM0h1/8Uemsln9T+THocqv0VJ1ZxwmjtYO4zuKwf1PL9yPs+NQpxj+TuBkXD/PlG462/W798BAcZkeGQbDGMAjWGAbh4ULbB4RMD/RyjGBH8qCrnCLd5usYP+5K0/Lm2iHk89LHlP2Ni+Itx89ibF1m20d80MTiu/yVGvVzDMPnQX4Q/sZf8HeSsCPDIFhjGITBNPUQgCdwMWx5iBiNIU0VblId7B+3DoDuzSK9MmLrDSyAGLlMk2JyguynR05Am29u+daZ10C3t0mp6fYefIvatndBcAyipi9IW3ZkGARrDINgjWEQtvuMryJMk+dg3NstYeGWv0i+4LfnXwDdy89TUdkrOy+D7sNvP6flrd14wf1ZfCvn8TatpSh+JCoLWHqmWRnw33zQ9MeXgB0ZBsEawyB8ZaEtYMCQbk3gJX22n6L/b3ySPnmAamQraQxtg3H26qAJXJp2tTMJ7Xfmv6Xl6kXc5Sas0pKzSBT78hD9gbO0XwJ2ZBgEawyDYI1hEL4WnzGIX4MyKnujlMqonEXuf3vuVS0/tRs36+UuJLmB4ervc7jka/h9SsF4NdzocuMZnBX8f8KODINgjWEQvp7Q9iFQ20UUU5rHlbeTx6lm9uadnaDj5bxD66BSyQnc9GXkBtFfMIXhczDGaqNElvZRhLMcdmQYBGsMg2CNYRD+A0Fmmeto+0mvAAAAAElFTkSuQmCC\" id=\"image62359c189b\" transform=\"scale(1 -1)translate(0 -71.28)\" x=\"522.375472\" y=\"-6.986038\" width=\"71.28\" height=\"71.28\"/>\n   </g>\n   <g id=\"patch_33\">\n    <path d=\"M 522.375472 78.266038 \nL 522.375472 7.2 \n\" style=\"fill: none; stroke: #000000; stroke-width: 0.8; stroke-linejoin: miter; stroke-linecap: square\"/>\n   </g>\n   <g id=\"patch_34\">\n    <path d=\"M 593.441509 78.266038 \nL 593.441509 7.2 \n\" style=\"fill: none; stroke: #000000; stroke-width: 0.8; stroke-linejoin: miter; stroke-linecap: square\"/>\n   </g>\n   <g id=\"patch_35\">\n    <path d=\"M 522.375472 78.266038 \nL 593.441509 78.266038 \n\" style=\"fill: none; stroke: #000000; stroke-width: 0.8; stroke-linejoin: miter; stroke-linecap: square\"/>\n   </g>\n   <g id=\"patch_36\">\n    <path d=\"M 522.375472 7.2 \nL 593.441509 7.2 \n\" style=\"fill: none; stroke: #000000; stroke-width: 0.8; stroke-linejoin: miter; stroke-linecap: square\"/>\n   </g>\n  </g>\n  <g id=\"axes_8\">\n   <g id=\"patch_37\">\n    <path d=\"M 607.654717 78.266038 \nL 678.720755 78.266038 \nL 678.720755 7.2 \nL 607.654717 7.2 \nz\n\" style=\"fill: #ffffff\"/>\n   </g>\n   <g clip-path=\"url(#pbdd1690b22)\">\n    <image xlink:href=\"data:image/png;base64,\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\" id=\"imaged618e72413\" transform=\"scale(1 -1)translate(0 -71.28)\" x=\"607.654717\" y=\"-6.986038\" width=\"71.28\" height=\"71.28\"/>\n   </g>\n   <g id=\"patch_38\">\n    <path d=\"M 607.654717 78.266038 \nL 607.654717 7.2 \n\" style=\"fill: none; stroke: #000000; stroke-width: 0.8; stroke-linejoin: miter; stroke-linecap: square\"/>\n   </g>\n   <g id=\"patch_39\">\n    <path d=\"M 678.720755 78.266038 \nL 678.720755 7.2 \n\" style=\"fill: none; stroke: #000000; stroke-width: 0.8; stroke-linejoin: miter; stroke-linecap: square\"/>\n   </g>\n   <g id=\"patch_40\">\n    <path d=\"M 607.654717 78.266038 \nL 678.720755 78.266038 \n\" style=\"fill: none; stroke: #000000; stroke-width: 0.8; stroke-linejoin: miter; stroke-linecap: square\"/>\n   </g>\n   <g id=\"patch_41\">\n    <path d=\"M 607.654717 7.2 \nL 678.720755 7.2 \n\" style=\"fill: none; stroke: #000000; stroke-width: 0.8; stroke-linejoin: miter; stroke-linecap: square\"/>\n   </g>\n  </g>\n  <g id=\"axes_9\">\n   <g id=\"patch_42\">\n    <path d=\"M 692.933962 78.266038 \nL 764 78.266038 \nL 764 7.2 \nL 692.933962 7.2 \nz\n\" style=\"fill: #ffffff\"/>\n   </g>\n   <g clip-path=\"url(#p32aa5b4343)\">\n    <image xlink:href=\"data:image/png;base64,\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\" id=\"image647ca3ee3a\" transform=\"scale(1 -1)translate(0 -71.28)\" x=\"692.933962\" y=\"-6.986038\" width=\"71.28\" height=\"71.28\"/>\n   </g>\n   <g id=\"patch_43\">\n    <path d=\"M 692.933962 78.266038 \nL 692.933962 7.2 \n\" style=\"fill: none; stroke: #000000; stroke-width: 0.8; stroke-linejoin: miter; stroke-linecap: square\"/>\n   </g>\n   <g id=\"patch_44\">\n    <path d=\"M 764 78.266038 \nL 764 7.2 \n\" style=\"fill: none; stroke: #000000; stroke-width: 0.8; stroke-linejoin: miter; stroke-linecap: square\"/>\n   </g>\n   <g id=\"patch_45\">\n    <path d=\"M 692.933962 78.266038 \nL 764 78.266038 \n\" style=\"fill: none; stroke: #000000; stroke-width: 0.8; stroke-linejoin: miter; stroke-linecap: square\"/>\n   </g>\n   <g id=\"patch_46\">\n    <path d=\"M 692.933962 7.2 \nL 764 7.2 \n\" style=\"fill: none; stroke: #000000; stroke-width: 0.8; stroke-linejoin: miter; stroke-linecap: square\"/>\n   </g>\n  </g>\n </g>\n <defs>\n  <clipPath id=\"pcaf11c5340\">\n   <rect x=\"10.7\" y=\"7.2\" width=\"71.066038\" height=\"71.066038\"/>\n  </clipPath>\n  <clipPath id=\"pb1cede7040\">\n   <rect x=\"95.979245\" y=\"7.2\" width=\"71.066038\" height=\"71.066038\"/>\n  </clipPath>\n  <clipPath id=\"pa455e41471\">\n   <rect x=\"181.258491\" y=\"7.2\" width=\"71.066038\" height=\"71.066038\"/>\n  </clipPath>\n  <clipPath id=\"p56649bbabf\">\n   <rect x=\"266.537736\" y=\"7.2\" width=\"71.066038\" height=\"71.066038\"/>\n  </clipPath>\n  <clipPath id=\"p26e50f3fea\">\n   <rect x=\"351.816981\" y=\"7.2\" width=\"71.066038\" height=\"71.066038\"/>\n  </clipPath>\n  <clipPath id=\"pf84dc97a63\">\n   <rect x=\"437.096226\" y=\"7.2\" width=\"71.066038\" height=\"71.066038\"/>\n  </clipPath>\n  <clipPath id=\"p66c5c50978\">\n   <rect x=\"522.375472\" y=\"7.2\" width=\"71.066038\" height=\"71.066038\"/>\n  </clipPath>\n  <clipPath id=\"pbdd1690b22\">\n   <rect x=\"607.654717\" y=\"7.2\" width=\"71.066038\" height=\"71.066038\"/>\n  </clipPath>\n  <clipPath id=\"p32aa5b4343\">\n   <rect x=\"692.933962\" y=\"7.2\" width=\"71.066038\" height=\"71.066038\"/>\n  </clipPath>\n </defs>\n</svg>\n"
          },
          "metadata": {}
        },
        {
          "output_type": "display_data",
          "data": {
            "text/plain": [
              "<Figure size 1350x150 with 9 Axes>"
            ],
            "image/svg+xml": "<?xml version=\"1.0\" encoding=\"utf-8\" standalone=\"no\"?>\n<!DOCTYPE svg PUBLIC \"-//W3C//DTD SVG 1.1//EN\"\n  \"http://www.w3.org/Graphics/SVG/1.1/DTD/svg11.dtd\">\n<svg xmlns:xlink=\"http://www.w3.org/1999/xlink\" width=\"771.2pt\" height=\"88.966038pt\" viewBox=\"0 0 771.2 88.966038\" xmlns=\"http://www.w3.org/2000/svg\" version=\"1.1\">\n <metadata>\n  <rdf:RDF xmlns:dc=\"http://purl.org/dc/elements/1.1/\" xmlns:cc=\"http://creativecommons.org/ns#\" xmlns:rdf=\"http://www.w3.org/1999/02/22-rdf-syntax-ns#\">\n   <cc:Work>\n    <dc:type rdf:resource=\"http://purl.org/dc/dcmitype/StillImage\"/>\n    <dc:date>2023-04-20T10:14:14.245347</dc:date>\n    <dc:format>image/svg+xml</dc:format>\n    <dc:creator>\n     <cc:Agent>\n      <dc:title>Matplotlib v3.5.1, https://matplotlib.org/</dc:title>\n     </cc:Agent>\n    </dc:creator>\n   </cc:Work>\n  </rdf:RDF>\n </metadata>\n <defs>\n  <style type=\"text/css\">*{stroke-linejoin: round; stroke-linecap: butt}</style>\n </defs>\n <g id=\"figure_1\">\n  <g id=\"patch_1\">\n   <path d=\"M 0 88.966038 \nL 771.2 88.966038 \nL 771.2 0 \nL 0 0 \nz\n\" style=\"fill: #ffffff\"/>\n  </g>\n  <g id=\"axes_1\">\n   <g id=\"patch_2\">\n    <path d=\"M 10.7 78.266038 \nL 81.766038 78.266038 \nL 81.766038 7.2 \nL 10.7 7.2 \nz\n\" style=\"fill: #ffffff\"/>\n   </g>\n   <g clip-path=\"url(#p187bec3c07)\">\n    <image xlink:href=\"data:image/png;base64,\niVBORw0KGgoAAAANSUhEUgAAAGMAAABjCAYAAACPO76VAAACj0lEQVR4nO3csWoUURxG8buzk81uVlwUDLEQIxJBbOys7GwEWztfy7cQbG2tBHsLQbRJICYqRtbsrMns+AjzFUM4xfnVf+4mOdzi5s7s6Fn1siuJLhsbPzyI5p6/+RjNvXvxuH+oWUdr7b1dRnMfDvejubuvvkRzm6aJ5qpoSlfCGCDGADEGiDFAjAFiDBBjgBgDpB56wW6SLdl02VxXj/uH5rNorZuT79FcczyP5rp2E82l3BkgxgAxBogxQIwBYgwQY4AYA8QYIMOfwKus7/F6Ec1trvWfrrvt4JReSrk/PYnmtk+z9YbmzgAxBogxQIwBYgwQY4AYA8QYIMYAGfwEXsajaOzT2e1orp1v9c40u9vRWk93sqfGX6+isdwo+5u4M0CMAWIMEGOAGAPEGCDGADEGiDFA6vT97lQ76z8xl1LK16PdaO7eVv/p9c+d7M760SR7Wr3KXisfnDsDxBggxgAxBogxQIwBYgwQY4AYA2TwO/B2lp2Gq6PspH45veydWe4P+z52vQr/K1Fld9spdwaIMUCMAWIMEGOAGAPEGCDGAMkPfeHDu2UTfk33Oltvdav/R9zZP4vW+tH+jeYmy+x3GIV/k/Ri250BYgwQY4AYA8QYIMYAMQaIMUCMATL4tWt93n9NWkopF9eza9ffB/2n3Cd7h9lnhg95VxfDPgyecmeAGAPEGCDGADEGiDFAjAFiDBBjgAx/Av+Z3TN3N7KP/rcITuCLb9FaF9FUKVWbzXXpa9vpyT9bTVfBGCDGADEGiDFAjAFiDBBjgBgDpI6fLg+Nmuybs8aT7Jjbnk57Z97/ehCt9fl8L5qbnoTf/tWGR/WQOwPEGCDGADEGiDFAjAFiDBBjgBgD5D+MQ2aC8MlkTwAAAABJRU5ErkJggg==\" id=\"imaged482e4028f\" transform=\"scale(1 -1)translate(0 -71.28)\" x=\"10.7\" y=\"-6.986038\" width=\"71.28\" height=\"71.28\"/>\n   </g>\n   <g id=\"patch_3\">\n    <path d=\"M 10.7 78.266038 \nL 10.7 7.2 \n\" style=\"fill: none; stroke: #000000; stroke-width: 0.8; stroke-linejoin: miter; stroke-linecap: square\"/>\n   </g>\n   <g id=\"patch_4\">\n    <path d=\"M 81.766038 78.266038 \nL 81.766038 7.2 \n\" style=\"fill: none; stroke: #000000; stroke-width: 0.8; stroke-linejoin: miter; stroke-linecap: square\"/>\n   </g>\n   <g id=\"patch_5\">\n    <path d=\"M 10.7 78.266038 \nL 81.766038 78.266038 \n\" style=\"fill: none; stroke: #000000; stroke-width: 0.8; stroke-linejoin: miter; stroke-linecap: square\"/>\n   </g>\n   <g id=\"patch_6\">\n    <path d=\"M 10.7 7.2 \nL 81.766038 7.2 \n\" style=\"fill: none; stroke: #000000; stroke-width: 0.8; stroke-linejoin: miter; stroke-linecap: square\"/>\n   </g>\n  </g>\n  <g id=\"axes_2\">\n   <g id=\"patch_7\">\n    <path d=\"M 95.979245 78.266038 \nL 167.045283 78.266038 \nL 167.045283 7.2 \nL 95.979245 7.2 \nz\n\" style=\"fill: #ffffff\"/>\n   </g>\n   <g clip-path=\"url(#p149c580541)\">\n    <image xlink:href=\"data:image/png;base64,\niVBORw0KGgoAAAANSUhEUgAAAGMAAABjCAYAAACPO76VAAACv0lEQVR4nO2dzWoTURiGz5mZNJ3ESQvWKFiLiFhw485bcOON9IK8iS5deAnegBtBUDEoYoitZNpMZpocL2HegsR38Tzrl3M4efgWX87PxFfTsxQEUtMosRC6TorF/aGWq6r+UJKWIK8hjkfaeKN9KXf9+FDKZVIKdgIyjECGEcgwAhlGIMMIZBiBDCOQYUSR7t+VgnH+WxuxLbTxxC53e3BHm1chE7r5EMKf0wMptzzJpdzx669SjsowAhlGIMMIZBiBDCOQYQQyjECGEcgwoqifad1m1d1IubhupVwqtO61nY57M8uTPWms+mGUcqtH2lqz8UrKvXlyro0npWAnIMMIZBiBDCOQYQQyjECGEcgwAhlGFOPZtRSMzVobMWpdbqy1eYff+jPd5J401vylFAuTB0spp519D+G4KKUclWEEMoxAhhHIMAIZRiDDCGQYgQwjkGFEkX35IQXVbjOWWreZbrR95rC47I2Mvmsn1bOmfz89hBDKPe0u+9HoSsoNorbfT2UYgQwjkGEEMoxAhhHIMAIZRiDDCGQYUWwW4v3uqHnLSvHFNvX1NOH0e/7zQhpruNDuga877S7702ou5X5ttE6dyjACGUYgwwhkGIEMI5BhBDKMQIYRhdp8hbSRYtuV+MR1ph2QTpv+edNSO6ica7eiQ9MOpNy7T8+l3NsPL6QclWEEMoxAhhHIMAIZRiDDCGQYgQwjkGGEtr94G7Zap56CdhhY+YcgtdpB5Vy8PV0vtMPb0/faGg4/1lKOyjACGUYgwwhkGIEMI5BhBDKMQIYRyDDi33fgKmm78ymHl9p+fznTfpbJZ+0Bs/xK23ynMoxAhhHIMAIZRiDDCGQYgQwjkGEEMoz4fx24ivKcd67tRVczbRM8X2sf1BpcaB/AiittXirDCGQYgQwjkGEEMoxAhhHIMAIZRiDDiL9Ksn5lrPnX8AAAAABJRU5ErkJggg==\" id=\"image01abdbad73\" transform=\"scale(1 -1)translate(0 -71.28)\" x=\"95.979245\" y=\"-6.986038\" width=\"71.28\" height=\"71.28\"/>\n   </g>\n   <g id=\"patch_8\">\n    <path d=\"M 95.979245 78.266038 \nL 95.979245 7.2 \n\" style=\"fill: none; stroke: #000000; stroke-width: 0.8; stroke-linejoin: miter; stroke-linecap: square\"/>\n   </g>\n   <g id=\"patch_9\">\n    <path d=\"M 167.045283 78.266038 \nL 167.045283 7.2 \n\" style=\"fill: none; stroke: #000000; stroke-width: 0.8; stroke-linejoin: miter; stroke-linecap: square\"/>\n   </g>\n   <g id=\"patch_10\">\n    <path d=\"M 95.979245 78.266038 \nL 167.045283 78.266038 \n\" style=\"fill: none; stroke: #000000; stroke-width: 0.8; stroke-linejoin: miter; stroke-linecap: square\"/>\n   </g>\n   <g id=\"patch_11\">\n    <path d=\"M 95.979245 7.2 \nL 167.045283 7.2 \n\" style=\"fill: none; stroke: #000000; stroke-width: 0.8; stroke-linejoin: miter; stroke-linecap: square\"/>\n   </g>\n  </g>\n  <g id=\"axes_3\">\n   <g id=\"patch_12\">\n    <path d=\"M 181.258491 78.266038 \nL 252.324528 78.266038 \nL 252.324528 7.2 \nL 181.258491 7.2 \nz\n\" style=\"fill: #ffffff\"/>\n   </g>\n   <g clip-path=\"url(#p0e27f21ab5)\">\n    <image xlink:href=\"data:image/png;base64,\niVBORw0KGgoAAAANSUhEUgAAAGMAAABjCAYAAACPO76VAAACxUlEQVR4nO2dv2rbUBxGdSXZspzENmncBAKFTKWlkDcoHfsEGfsMfb2+QiEUCp0KgTaDoUOIW9uyrD+3Qx9AZyjhG74zH2TJJ3f46cZSeP/iY0wAsSyIliSjnHl9Dz1wehFdQpJkKfNCYB783P6IfXfw7MxT4BhCOIYQjiGEYwjhGEI4hhCOIYRjCJHHYsRMOL22swnyYsam3AAm8AjPrTlhdwfakh0vr9hdhHqeIc8rQwjHEMIxhHAMIRxDCMcQwjGEcAwhHEOIvDs7QWKoO+R1JZxyp2wq3V4Me4+v2F50erlD3nKxQd5qfYy8d1ffkeeVIYRjCOEYQjiGEI4hhGMI4RhCOIYQjiFE3uesx+hhi7xiUyFvUtXIK88Xg87ufI6ONX/NruHyeI28rmff3c2zz8jzyhDCMYRwDCEcQwjHEMIxhHAMIRxDCMcQIu8Lthcdp+y3zKE6sONt2D5zWg1P9MuvR+hYqzdsz3pe7JF3aNl3dz3+jTyvDCEcQwjHEMIxhHAMIRxDCMcQwjGEcAwh8uL+kZnwCWsReiGwv4NYDU/D03s2zbe/ZsjbnY6R13RsAj/L2B0CrwwhHEMIxxDCMYRwDCEcQwjHEMIxhMj7ux9IDGM2CIUSPvzrALdnm3bYmbBBM1uy7dQG/kNzd7tA3oeLt8jzyhDCMYRwDCEcQwjHEMIxhHAMIRxDCMcQIo/t8ISbJElCvQAna0rshh86lu7ZubV1ibyH2+fIu/r0B3k/v7xEnleGEI4hhGMI4RhCOIYQjiGEYwjhGEI4hhDwfdEcMjH/E+FrowGhbpA3WrGHhM3u2Oema/Y47+mWPejMK0MIxxDCMYRwDCEcQwjHEMIxhHAMIRxDiP8+gePJOrBXUCfgJ8phz/bdT7+xcxtV8Brgq69jyjyvDCEcQwjHEMIxhHAMIRxDCMcQwjGEcAwh/gJrF4iCxqNsKAAAAABJRU5ErkJggg==\" id=\"image77e9ecda4e\" transform=\"scale(1 -1)translate(0 -71.28)\" x=\"181.258491\" y=\"-6.986038\" width=\"71.28\" height=\"71.28\"/>\n   </g>\n   <g id=\"patch_13\">\n    <path d=\"M 181.258491 78.266038 \nL 181.258491 7.2 \n\" style=\"fill: none; stroke: #000000; stroke-width: 0.8; stroke-linejoin: miter; stroke-linecap: square\"/>\n   </g>\n   <g id=\"patch_14\">\n    <path d=\"M 252.324528 78.266038 \nL 252.324528 7.2 \n\" style=\"fill: none; stroke: #000000; stroke-width: 0.8; stroke-linejoin: miter; stroke-linecap: square\"/>\n   </g>\n   <g id=\"patch_15\">\n    <path d=\"M 181.258491 78.266038 \nL 252.324528 78.266038 \n\" style=\"fill: none; stroke: #000000; stroke-width: 0.8; stroke-linejoin: miter; stroke-linecap: square\"/>\n   </g>\n   <g id=\"patch_16\">\n    <path d=\"M 181.258491 7.2 \nL 252.324528 7.2 \n\" style=\"fill: none; stroke: #000000; stroke-width: 0.8; stroke-linejoin: miter; stroke-linecap: square\"/>\n   </g>\n  </g>\n  <g id=\"axes_4\">\n   <g id=\"patch_17\">\n    <path d=\"M 266.537736 78.266038 \nL 337.603774 78.266038 \nL 337.603774 7.2 \nL 266.537736 7.2 \nz\n\" style=\"fill: #ffffff\"/>\n   </g>\n   <g clip-path=\"url(#pbf0fc03bec)\">\n    <image xlink:href=\"data:image/png;base64,\niVBORw0KGgoAAAANSUhEUgAAAGMAAABjCAYAAACPO76VAAADCUlEQVR4nO2cPU9TURyH721PgVbepEgiokFEBzQxqRI01dHFmPgdHP0QjiaOLq7GoIMLg5ODiyYOiolOxETFCIK8FFsaCn2vH+E+k/kNv2d+csrJ0zMc7r83vnnnUS8CVGYyRIvyKw3kDT34jbxLI5uJzouP19Bag9/YHmoX2R6e3HiOvIc/biMvhSzzX3AMIRxDCMcQwjGEcAwhHEMIxxDCMYQI7SzrEaN7ehS1BtPIK+a/I2+5Mp3oDK+wm/XBmS7y7hXeI+98Zg956RT7XJ8MIRxDCMcQwjGEcAwhHEMIxxDCMYRwDCFCus6u1q1jbMH96YC8w04/8pa/nk10JvbYHprFGvJm+7eRt94eRt6fMvN8MoRwDCEcQwjHEMIxhHAMIRxDCMcQwjGECNkNdivNTI8gr55nH7z08zLyQin5+Xb1XIzWuj/3Dnm/muPI68DvcqOURZ5PhhCOIYRjCOEYQjiGEI4hhGMI4RhCOIYQIV05YGaX3cDjNlsu/XoUecePkp3SfAettZBjk++v9gvIOw2n0EOVTeb7ZAjhGEI4hhCOIYRjCOEYQjiGEI4hhGMIEaI6e+tYiw1SRz02hB4Nr7Oreqc/+ftycnYXrZVPsb02umwTu3AKPWY/A/fJUMIxhHAMIRxDCMcQwjGEcAwhHEOI0IOXvtwW+3nv0Qk2hNxLMa98IfmR5cLoDlprq5NDXqk5iLz11hjysjtsrz4ZQjiGEI4hhGMI4RhCOIYQjiGEYwjhGEKEXoPdwPOfyshrTLLb69E4e7TZvVpNdKay7G+jDIU68l6uXUHe5Ju/yPPJEMIxhHAMIRxDCMcQwjGEcAwhHEMIxxAi9FpsADleXUPewAZ7rXZcmEHedq0v0TnVx27gxQH43Rv7gLS3i/PIG139gjyfDCEcQwjHEMIxhHAMIRxDCMcQwjGEcAwhQgSnwbtwWj3usBdxZSrsOfPQ5+SXjj2duI7WujX3DHmPN+8ib2qJ/VeifXiIPJ8MIRxDCMcQwjGEcAwhHEMIxxDCMYRwDCH+AbvSkekQEiZqAAAAAElFTkSuQmCC\" id=\"imagee20f44127b\" transform=\"scale(1 -1)translate(0 -71.28)\" x=\"266.537736\" y=\"-6.986038\" width=\"71.28\" height=\"71.28\"/>\n   </g>\n   <g id=\"patch_18\">\n    <path d=\"M 266.537736 78.266038 \nL 266.537736 7.2 \n\" style=\"fill: none; stroke: #000000; stroke-width: 0.8; stroke-linejoin: miter; stroke-linecap: square\"/>\n   </g>\n   <g id=\"patch_19\">\n    <path d=\"M 337.603774 78.266038 \nL 337.603774 7.2 \n\" style=\"fill: none; stroke: #000000; stroke-width: 0.8; stroke-linejoin: miter; stroke-linecap: square\"/>\n   </g>\n   <g id=\"patch_20\">\n    <path d=\"M 266.537736 78.266038 \nL 337.603774 78.266038 \n\" style=\"fill: none; stroke: #000000; stroke-width: 0.8; stroke-linejoin: miter; stroke-linecap: square\"/>\n   </g>\n   <g id=\"patch_21\">\n    <path d=\"M 266.537736 7.2 \nL 337.603774 7.2 \n\" style=\"fill: none; stroke: #000000; stroke-width: 0.8; stroke-linejoin: miter; stroke-linecap: square\"/>\n   </g>\n  </g>\n  <g id=\"axes_5\">\n   <g id=\"patch_22\">\n    <path d=\"M 351.816981 78.266038 \nL 422.883019 78.266038 \nL 422.883019 7.2 \nL 351.816981 7.2 \nz\n\" style=\"fill: #ffffff\"/>\n   </g>\n   <g clip-path=\"url(#pf80ef9548e)\">\n    <image xlink:href=\"data:image/png;base64,\niVBORw0KGgoAAAANSUhEUgAAAGMAAABjCAYAAACPO76VAAACs0lEQVR4nO2du24TQRhGd+y149hKgHBR3CBKCqSIkioV8BrUPAMSz0ZNH0okEIqIiAAnsRNfdil4gP0KKxykc+pPM2ufnWJ2Zv4prw/ftlVAGQySWFWVkuWaJsttNp2Rto1+QtTW31z4bHUdxcp4FOV6Wa9yGygDhDJAKAOEMkAoA4QyQCgDhDJA1GU4jILt/iRrcZ3Ncsvvi6zf1ao7s+zOVFVVlX727pW9vSiX/ifpFwJHBghlgFAGCGWAUAYIZYBQBghlgFAGiLq9vIqCZZCt91bhbLNdr7Pc4roz08znUVtlkH1t6E0fRbnNJGuv/nae9Rul5FZQBghlgFAGCGWAUAYIZYBQBghlgKjLZBwF251wF3qTzcCbJ9MoV667Z+q9z1+jtnoH96Lc6fGDKLc4zHbcH5xka+WODBDKAKEMEMoAoQwQygChDBDKAKEMEPXZy8dRsIRHoyffs7XtH8+yGf3i+aK7z49HUVuzp9mzvXnxIcq9f3gS5T4tszV6RwYIZYBQBghlgFAGCGWAUAYIZYBQBojy6uhdVoltfpO1eP4r63i0E+Wa+3e7Q3X2Ti2m4bntOlvbbvtRrBrMsrPxjgwQygChDBDKAKEMEMoAoQwQygBRly+nYTI7epweKa6uwiJhQfGvsrsbtTVOJ65pkbCfsyjXXFxGOUcGCGWAUAYIZYBQBghlgFAGCGWAUAaIejMLZ4fDbKNyepS57IclrkfdBbba9NKtMLe+E15YNc6Kf/XPsv/OkQFCGSCUAUIZIJQBQhkglAFCGSCUAaKummwturnJzh6X8PrmssVLq9pVWMo7XJ/v97MdzSXcF9B4Adb/hzJAKAOEMkAoA4QyQCgDhDJAKANEeKtVlV9stVpuNfcvyH7p9nFkgFAGCGWAUAYIZYBQBghlgFAGCGWA+APoaYbh2nVI6gAAAABJRU5ErkJggg==\" id=\"imagef9ef99525e\" transform=\"scale(1 -1)translate(0 -71.28)\" x=\"351.816981\" y=\"-6.986038\" width=\"71.28\" height=\"71.28\"/>\n   </g>\n   <g id=\"patch_23\">\n    <path d=\"M 351.816981 78.266038 \nL 351.816981 7.2 \n\" style=\"fill: none; stroke: #000000; stroke-width: 0.8; stroke-linejoin: miter; stroke-linecap: square\"/>\n   </g>\n   <g id=\"patch_24\">\n    <path d=\"M 422.883019 78.266038 \nL 422.883019 7.2 \n\" style=\"fill: none; stroke: #000000; stroke-width: 0.8; stroke-linejoin: miter; stroke-linecap: square\"/>\n   </g>\n   <g id=\"patch_25\">\n    <path d=\"M 351.816981 78.266038 \nL 422.883019 78.266038 \n\" style=\"fill: none; stroke: #000000; stroke-width: 0.8; stroke-linejoin: miter; stroke-linecap: square\"/>\n   </g>\n   <g id=\"patch_26\">\n    <path d=\"M 351.816981 7.2 \nL 422.883019 7.2 \n\" style=\"fill: none; stroke: #000000; stroke-width: 0.8; stroke-linejoin: miter; stroke-linecap: square\"/>\n   </g>\n  </g>\n  <g id=\"axes_6\">\n   <g id=\"patch_27\">\n    <path d=\"M 437.096226 78.266038 \nL 508.162264 78.266038 \nL 508.162264 7.2 \nL 437.096226 7.2 \nz\n\" style=\"fill: #ffffff\"/>\n   </g>\n   <g clip-path=\"url(#p977bf6de8e)\">\n    <image xlink:href=\"data:image/png;base64,\niVBORw0KGgoAAAANSUhEUgAAAGMAAABjCAYAAACPO76VAAADBElEQVR4nO2cu24TQQBFZ+2xEztOSACFvHAAIREqGpOCBkoqGiQo+AQ+BVoaCiRERUNDhfuUgAuEEBEoEa8kIshvb2LH5hP2VOgi3VMfzTo5nmJ2ZpxsPng8CYD0fpNoIdRPIy320WPDsJJkOpMcGipMtdgzFz52kbdzp4K8a7c+Iw/+GeZf4BhCOIYQjiGEYwjhGEI4hhCOIYRjCBGTEybevdhA3rPNG8jL/S4yb7WX6WwsH6Cxdl9dQt5gpYS846Uh8tbLf5DnmSGEYwjhGEI4hhCOIYRjCOEYQjiGEI4hRJz5kSKx0VpDXn5/CnnTB9l72yGE0F3IXqmX4zEaa/Y7e92QjJAWSvPsf3e98hV5nhlCOIYQjiGEYwjhGEI4hhCOIYRjCOEYQsTYOULiaJxnI47hgwfMK5Sy95mvVPbRWD9PLiMvOWGn1Rfn2Gn1avQe+H+HYwjhGEI4hhCOIYRjCOEYQjiGEI4hRMy1+0gs5tnG8OgU22ce/4rII7RG7NR4YAvrcDzH3jbcW20gbxpuqntmCOEYQjiGEI4hhGMI4RhCOIYQjiGEYwgRJ+0OErcPF5GXq7C70b0q+x7Uqt8yneViC43VWWOr/s4FtlR/OP8FeVspe0PgmSGEYwjhGEI4hhCOIYRjCOEYQjiGEHHcZod303cbyEtm2cnnfMquHh+mM5lOfXAVjTUuIC1MltmV4kLCtmef7t1EnmeGEI4hhGMI4RhCOIYQjiGEYwjhGEI4hhBxMmQ/nDW/zVbW3TXWt7TPtjZ3Ctk/OpbA685zHfbMcY9tz9b7bEn//g17Q+CZIYRjCOEYQjiGEI4hhGMI4RhCOIYQjiEEvv9b3mMHmmPKhiy22HXcwbnsn/Me1tjh7WaVfbbzZ5vIe7R7G3nrr9nBbM8MIRxDCMcQwjGEcAwhHEMIxxDCMYRwDCFiSNhp8Nhle+XUm+TZ96AHrgu/qD1HY306WkHek212anzwcgl5Zz68RZ5nhhCOIYRjCOEYQjiGEI4hhGMI4RhCOIYQfwH5mpFgTm1FKAAAAABJRU5ErkJggg==\" id=\"imagec21f48023f\" transform=\"scale(1 -1)translate(0 -71.28)\" x=\"437.096226\" y=\"-6.986038\" width=\"71.28\" height=\"71.28\"/>\n   </g>\n   <g id=\"patch_28\">\n    <path d=\"M 437.096226 78.266038 \nL 437.096226 7.2 \n\" style=\"fill: none; stroke: #000000; stroke-width: 0.8; stroke-linejoin: miter; stroke-linecap: square\"/>\n   </g>\n   <g id=\"patch_29\">\n    <path d=\"M 508.162264 78.266038 \nL 508.162264 7.2 \n\" style=\"fill: none; stroke: #000000; stroke-width: 0.8; stroke-linejoin: miter; stroke-linecap: square\"/>\n   </g>\n   <g id=\"patch_30\">\n    <path d=\"M 437.096226 78.266038 \nL 508.162264 78.266038 \n\" style=\"fill: none; stroke: #000000; stroke-width: 0.8; stroke-linejoin: miter; stroke-linecap: square\"/>\n   </g>\n   <g id=\"patch_31\">\n    <path d=\"M 437.096226 7.2 \nL 508.162264 7.2 \n\" style=\"fill: none; stroke: #000000; stroke-width: 0.8; stroke-linejoin: miter; stroke-linecap: square\"/>\n   </g>\n  </g>\n  <g id=\"axes_7\">\n   <g id=\"patch_32\">\n    <path d=\"M 522.375472 78.266038 \nL 593.441509 78.266038 \nL 593.441509 7.2 \nL 522.375472 7.2 \nz\n\" style=\"fill: #ffffff\"/>\n   </g>\n   <g clip-path=\"url(#p5e4b3c0c55)\">\n    <image xlink:href=\"data:image/png;base64,\niVBORw0KGgoAAAANSUhEUgAAAGMAAABjCAYAAACPO76VAAADBUlEQVR4nO2dzU5TQQBG76VTqJRC1SqKkCgSjVFXLJDEuNEXcGF8Ebc+ght9DBOjrk3YsIHESGIMiQGhSISiAqWlP7S310e4Z2W+xXfWJ9O0585iOtNpvLQ1l0aAxqBAtOjNzmPkbe5fQt5YsZPpjOT7aKyzfg559ZNR5L1aeIu8F6vPkDeELPNfcAwhHEMIxxDCMYRwDCEcQwjHEMIxhAiP2MI6+njKut2d2ENevcteeKZ0nOlMnaujsRo99pp7pXHkPSzUkPf0zhryPDOEcAwhHEMIxxDCMYRwDCEcQwjHEMIxhAi9NEHi59YN5FVbF5DX7QXkEc4GbKw6XIGPD2fvu0dRFNUS9ixfGzlCnmeGEI4hhGMI4RhCOIYQjiGEYwjhGEI4hhChlrSRuPz7JvJOOmyVG3ID5B11s0+Ebx5dRGMNB/Ztw3xlF3n7yRjymgn7TDwzhHAMIRxDCMcQwjGEcAwhHEMIxxDCMYSI7314iX4HPvK+jAZszsTIC/NsX7i5m30i/PxX9kw1riMtml3YQV6asvf6fWcSeZ4ZQjiGEI4hhGMI4RhCOIYQjiGEYwjhGEKEwrsyEitLP5GXX5xGXrLYQ15uPfv2tMsrx2isQa6MvOocO0kfr5WQd3WD7fd7ZgjhGEI4hhCOIYRjCOEYQjiGEI4hRBg9YFdXp40G82DeB5PbyFv9U8l04h470NyYZYuvW5W/yDusFpFX/NVFnmeGEI4hhGMI4RhCOIYQjiGEYwjhGEI4hhAhXz9DYpqw1WtoM++gw7Ys86fZ4/Uq7A+rpu6z67IP22y8iY0W8kKNXQ/umSGEYwjhGEI4hhCOIYRjCOEYQjiGEI4hRAjr20gctNklYaWVKvK2X99GXnkr+yfK7Wm2mt/7cgV5M5/YtxJDa9+Ql/TZOQPPDCEcQwjHEMIxhHAMIRxDCMcQwjGEcAwh4ie55+jyryhle9txyCNvqDyBPESljLR0GP7p1g92/fYAnsyneGYI4RhCOIYQjiGEYwjhGEI4hhCOIYRjCPEPvMmdQfnFACsAAAAASUVORK5CYII=\" id=\"image0a0a6a8c68\" transform=\"scale(1 -1)translate(0 -71.28)\" x=\"522.375472\" y=\"-6.986038\" width=\"71.28\" height=\"71.28\"/>\n   </g>\n   <g id=\"patch_33\">\n    <path d=\"M 522.375472 78.266038 \nL 522.375472 7.2 \n\" style=\"fill: none; stroke: #000000; stroke-width: 0.8; stroke-linejoin: miter; stroke-linecap: square\"/>\n   </g>\n   <g id=\"patch_34\">\n    <path d=\"M 593.441509 78.266038 \nL 593.441509 7.2 \n\" style=\"fill: none; stroke: #000000; stroke-width: 0.8; stroke-linejoin: miter; stroke-linecap: square\"/>\n   </g>\n   <g id=\"patch_35\">\n    <path d=\"M 522.375472 78.266038 \nL 593.441509 78.266038 \n\" style=\"fill: none; stroke: #000000; stroke-width: 0.8; stroke-linejoin: miter; stroke-linecap: square\"/>\n   </g>\n   <g id=\"patch_36\">\n    <path d=\"M 522.375472 7.2 \nL 593.441509 7.2 \n\" style=\"fill: none; stroke: #000000; stroke-width: 0.8; stroke-linejoin: miter; stroke-linecap: square\"/>\n   </g>\n  </g>\n  <g id=\"axes_8\">\n   <g id=\"patch_37\">\n    <path d=\"M 607.654717 78.266038 \nL 678.720755 78.266038 \nL 678.720755 7.2 \nL 607.654717 7.2 \nz\n\" style=\"fill: #ffffff\"/>\n   </g>\n   <g clip-path=\"url(#pd863a2dd9a)\">\n    <image xlink:href=\"data:image/png;base64,\niVBORw0KGgoAAAANSUhEUgAAAGMAAABjCAYAAACPO76VAAACnUlEQVR4nO3dz2oTURiG8TOZY5LSWIv2j5SquFIKXYg7Fy71SrwNwVvpfbhx78KtoI1VS6SJNYR0kpnMjBfg4rxYC2/l+a0/TqZ5mMXHJGn28varNihilMZkbSPOCZfXaH+CTL02VZ5LY51/+6q4DGIYIYYRYhghhhFiGCGGEWIYIYaRuHp8Xxpc3ulJc3mpba9xVklznapOzqxudqWziq0b0lxeaht9d7qS5uo+G/i1QwwjxDBCDCPEMEIMI8QwQgwjxDAS80LbhHs/xQMn80tczp/KvY3kzPiwr52VPiqEEMLOe/E9+TLRDqy0TZ07wwgxjBDDCDGMEMMIMYwQwwgxjBDDSOycz6TBrNCegYdc61ttr0tzTZ4lZ24daxtub7KU5uLHb9JcPRXfO/E94c4wQgwjxDBCDCPEMEIMI8QwQgwjxDASx8/3pcFWzFbspjfmEEKYH2jbcG+Y3vzXRur3wMVP0u/vSnPZ3W1prhlon5LnzjBCDCPEMEIMI8QwQgwjxDBCDCPEMBLHT7XtNdtZSHPPHn6W5o4evJPm3pwdJGfejh5JZ50caxvz4NOmNBcvpDH50+/cGUaIYYQYRohhhBhGiGGEGEaIYSR78eS1tPUVe9oHlWf3tJ/pvhAfz66fpi9vY1hKZ/W/TqW5MNa+Z90utEfHGT+/ff0QwwgxjBDDCDGMEMMIMYwQwwgxjMRsrj1OzRdr0tzgNP1z2SGEsPVBe904/JGcqc9/SWfVpbapS/906wpwZxghhhFiGCGGEWIYIYYRYhghhhFiGInNyXdpsDs60+bEF1afH68qcWv+D3BnGCGGEWIYIYYRYhghhhFiGCGGEWIYie1S24TVOfw97gwjxDBCDCPEMEIMI8QwQgwjxDBCDCO/AeU0fYijGXENAAAAAElFTkSuQmCC\" id=\"image672af7613f\" transform=\"scale(1 -1)translate(0 -71.28)\" x=\"607.654717\" y=\"-6.986038\" width=\"71.28\" height=\"71.28\"/>\n   </g>\n   <g id=\"patch_38\">\n    <path d=\"M 607.654717 78.266038 \nL 607.654717 7.2 \n\" style=\"fill: none; stroke: #000000; stroke-width: 0.8; stroke-linejoin: miter; stroke-linecap: square\"/>\n   </g>\n   <g id=\"patch_39\">\n    <path d=\"M 678.720755 78.266038 \nL 678.720755 7.2 \n\" style=\"fill: none; stroke: #000000; stroke-width: 0.8; stroke-linejoin: miter; stroke-linecap: square\"/>\n   </g>\n   <g id=\"patch_40\">\n    <path d=\"M 607.654717 78.266038 \nL 678.720755 78.266038 \n\" style=\"fill: none; stroke: #000000; stroke-width: 0.8; stroke-linejoin: miter; stroke-linecap: square\"/>\n   </g>\n   <g id=\"patch_41\">\n    <path d=\"M 607.654717 7.2 \nL 678.720755 7.2 \n\" style=\"fill: none; stroke: #000000; stroke-width: 0.8; stroke-linejoin: miter; stroke-linecap: square\"/>\n   </g>\n  </g>\n  <g id=\"axes_9\">\n   <g id=\"patch_42\">\n    <path d=\"M 692.933962 78.266038 \nL 764 78.266038 \nL 764 7.2 \nL 692.933962 7.2 \nz\n\" style=\"fill: #ffffff\"/>\n   </g>\n   <g clip-path=\"url(#pff0c898fc3)\">\n    <image xlink:href=\"data:image/png;base64,\niVBORw0KGgoAAAANSUhEUgAAAGMAAABjCAYAAACPO76VAAAC1ElEQVR4nO2du24TURRF7/WM3zEyQYojIFEQj4IUNCmRaJKGNilo+Dc+CNHQgHg0RCYhcXA8xLE94xk+YVaB0C72qreuZa85xZkzcxyPmm+qAIhpSmIhtlooF5KEnbfRr80UDzbRWemPS5QrJ1coFwcDlDt9+xTlGihl/guWIYRlCGEZQliGEJYhhGUIYRlCWIYQaePRLgpWbdhZV6ihD1WMKDffre9ysx12d2CULVEuFgXKLfd3UO758SeUc2UIYRlCWIYQliGEZQhhGUJYhhCWIYRlCJGu79bPmEMIoWqymXWSLVAu5muUmz5p1mb6r8/QWaf9bZTb+sB+k9keuyuxl6xQzpUhhGUIYRlCWIYQliGEZQhhGUJYhhCWIUSafB+jYOx22YlwflzlOcoNvw5rM9dL1gnPD+YoN+72UK5iNyXC494FyrkyhLAMISxDCMsQwjKEsAwhLEMIyxDCMoRI11dTFGx0btmJ8P3usGYz8N6XSW3m58cR+8hN9pnLeyXKdS7Ytfxy4zPKuTKEsAwhLEMIyxDCMoSwDCEsQwjLEMIyhEhDybrS8pZ14HgTW8neF4/TrDbT/s2eLs8H7NqLrAEP7Sn7DtvJDcq5MoSwDCEsQwjLEMIyhLAMISxDCMsQgm3NCgEv9aLj1Irmbuobpv6YdWmLA9a4Fis2Os7POij3rMleZXZlCGEZQliGEJYhhGUIYRlCWIYQliGEZQjBO3BIBcepeE33qn5x1p1vbKz565x1wsmCrQZvZew7vJttoZwrQwjLEMIyhLAMISxDCMsQwjKEsAwhLEOIeBhPYMtMT2TdK+3AyV9fJw/vo7OyF+wB6faErctO/7Dc+NUQ5VwZQliGEJYhhGUIYRlCWIYQliGEZQhhGUL88xk4hnbqEVwvOVv53T1nf86VzFguFOxJ+tF7tvbblSGEZQhhGUJYhhCWIYRlCGEZQliGEJYhxF96eYc5BguDIwAAAABJRU5ErkJggg==\" id=\"image2ab92693a4\" transform=\"scale(1 -1)translate(0 -71.28)\" x=\"692.933962\" y=\"-6.986038\" width=\"71.28\" height=\"71.28\"/>\n   </g>\n   <g id=\"patch_43\">\n    <path d=\"M 692.933962 78.266038 \nL 692.933962 7.2 \n\" style=\"fill: none; stroke: #000000; stroke-width: 0.8; stroke-linejoin: miter; stroke-linecap: square\"/>\n   </g>\n   <g id=\"patch_44\">\n    <path d=\"M 764 78.266038 \nL 764 7.2 \n\" style=\"fill: none; stroke: #000000; stroke-width: 0.8; stroke-linejoin: miter; stroke-linecap: square\"/>\n   </g>\n   <g id=\"patch_45\">\n    <path d=\"M 692.933962 78.266038 \nL 764 78.266038 \n\" style=\"fill: none; stroke: #000000; stroke-width: 0.8; stroke-linejoin: miter; stroke-linecap: square\"/>\n   </g>\n   <g id=\"patch_46\">\n    <path d=\"M 692.933962 7.2 \nL 764 7.2 \n\" style=\"fill: none; stroke: #000000; stroke-width: 0.8; stroke-linejoin: miter; stroke-linecap: square\"/>\n   </g>\n  </g>\n </g>\n <defs>\n  <clipPath id=\"p187bec3c07\">\n   <rect x=\"10.7\" y=\"7.2\" width=\"71.066038\" height=\"71.066038\"/>\n  </clipPath>\n  <clipPath id=\"p149c580541\">\n   <rect x=\"95.979245\" y=\"7.2\" width=\"71.066038\" height=\"71.066038\"/>\n  </clipPath>\n  <clipPath id=\"p0e27f21ab5\">\n   <rect x=\"181.258491\" y=\"7.2\" width=\"71.066038\" height=\"71.066038\"/>\n  </clipPath>\n  <clipPath id=\"pbf0fc03bec\">\n   <rect x=\"266.537736\" y=\"7.2\" width=\"71.066038\" height=\"71.066038\"/>\n  </clipPath>\n  <clipPath id=\"pf80ef9548e\">\n   <rect x=\"351.816981\" y=\"7.2\" width=\"71.066038\" height=\"71.066038\"/>\n  </clipPath>\n  <clipPath id=\"p977bf6de8e\">\n   <rect x=\"437.096226\" y=\"7.2\" width=\"71.066038\" height=\"71.066038\"/>\n  </clipPath>\n  <clipPath id=\"p5e4b3c0c55\">\n   <rect x=\"522.375472\" y=\"7.2\" width=\"71.066038\" height=\"71.066038\"/>\n  </clipPath>\n  <clipPath id=\"pd863a2dd9a\">\n   <rect x=\"607.654717\" y=\"7.2\" width=\"71.066038\" height=\"71.066038\"/>\n  </clipPath>\n  <clipPath id=\"pff0c898fc3\">\n   <rect x=\"692.933962\" y=\"7.2\" width=\"71.066038\" height=\"71.066038\"/>\n  </clipPath>\n </defs>\n</svg>\n"
          },
          "metadata": {}
        }
      ],
      "source": [
        "lr, num_epochs = 0.9, 10\n",
        "train_ch6(net, train_iter, test_iter, num_epochs, lr, d2l.try_gpu())"
      ]
    }
  ],
  "metadata": {
    "kernelspec": {
      "display_name": "Python 3",
      "language": "python",
      "name": "python3"
    },
    "language_info": {
      "codemirror_mode": {
        "name": "ipython",
        "version": 3
      },
      "file_extension": ".py",
      "mimetype": "text/x-python",
      "name": "python",
      "nbconvert_exporter": "python",
      "pygments_lexer": "ipython3",
      "version": "3.8.8"
    },
    "colab": {
      "provenance": []
    },
    "gpuClass": "standard"
  },
  "nbformat": 4,
  "nbformat_minor": 0
}